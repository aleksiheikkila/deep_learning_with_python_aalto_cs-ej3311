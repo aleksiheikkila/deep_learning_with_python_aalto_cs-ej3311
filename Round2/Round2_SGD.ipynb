{
 "cells": [
  {
   "cell_type": "markdown",
   "metadata": {
    "deletable": false,
    "editable": false,
    "nbgrader": {
     "cell_type": "markdown",
     "checksum": "1e8a51ad3058bd62f0a29f2f9f476cfe",
     "grade": false,
     "grade_id": "cell-5cb269cc88b84f7f",
     "locked": true,
     "schema_version": 3,
     "solution": false,
     "task": false
    }
   },
   "source": [
    "<h1 align=\"center\">Round 2 - Gradient Based Optimization</h1>\n",
    "\n",
    "\n",
    "\\\n",
    "This notebook is a part of teaching material for CS-EJ3311 - Deep Learning with Python 13.09.-17.12.2021\\\n",
    "Aalto University (Espoo, Finland)\\\n",
    "fitech.io (Finland)"
   ]
  },
  {
   "cell_type": "markdown",
   "metadata": {
    "deletable": false,
    "editable": false,
    "nbgrader": {
     "cell_type": "markdown",
     "checksum": "c3264d04b817069fe812544f2243738b",
     "grade": false,
     "grade_id": "cell-f67d71d3c0644230",
     "locked": true,
     "schema_version": 3,
     "solution": false,
     "task": false
    }
   },
   "source": [
    "This notebook demonstrates a simple but powerful method to find an optimal choice for the parameters, stacked into a vector $\\mathbf{w}$, of an artificial neural network (ANN). The idea is to tune (adjust) the parameters according to the gradient of the average loss incurred by the ANN on a training set. This average loss is also known as the **training error** and defines an **objective or cost function** $f(\\mathbf{w})$ that we want to minimize.  \n",
    "\n",
    "Here we discuss a simple iterative algorithm which is called **gradient descent** (GD). GD minimizes the training error by incrementally improving the current guess for the optimal parameters by moving a bit into the direction of the negative gradient. We will also discuss a slight variation of GD known as **stochastic gradient descent** (SGD). SGD is one of the most widely used optimization methods within deep learning."
   ]
  },
  {
   "cell_type": "markdown",
   "metadata": {
    "deletable": false,
    "editable": false,
    "nbgrader": {
     "cell_type": "markdown",
     "checksum": "cec1ff64222f2e98c48c9b0a5d34674f",
     "grade": false,
     "grade_id": "cell-3e5603d9abc2b312",
     "locked": true,
     "schema_version": 3,
     "solution": false,
     "task": false
    }
   },
   "source": [
    "### Learning Goals\n",
    "\n",
    "- understand how gradients can be used to learn the parameters of an ANN\n",
    "\n",
    "- understand the basic idea behind stochastic gradient descent (SGD)\n",
    "\n",
    "- understand SGD components \"batch\", \"batch size\", \"learning rate\" and \"epoch\"\n",
    "\n",
    "- be aware of some advanced variants of SGD such as ADAM or RMSprop"
   ]
  },
  {
   "cell_type": "markdown",
   "metadata": {
    "deletable": false,
    "editable": false,
    "nbgrader": {
     "cell_type": "markdown",
     "checksum": "51eb20371df0318803a15ac90b65d1cd",
     "grade": false,
     "grade_id": "cell-7f83fda88459b81f",
     "locked": true,
     "schema_version": 3,
     "solution": false,
     "task": false
    }
   },
   "source": [
    "### Recommended Reading\n",
    "\n",
    "-  Loss function chapter 1.1.5 & Gradient-based optimization chapter 2.4 of the book \"Deep Learning with Python\" by F. Chollet. \n",
    "-  Gradient descent Chapter 4 & 11 of \"Hands-On Machine Learning with Scikit-Learn, Keras, and TensorFlow\" by Aurélien Géron. \n",
    "- Chapter 2.3 & 5 of \"Machine Learning: Basic Principles\" https://arxiv.org/pdf/1805.05052.pdf\n",
    "\n",
    "### Additional Material (Optional!)\n",
    "\n",
    "### Stochastic Gradient  Descent\n",
    "\n",
    "Beginner-friendly videos:\n",
    "- 3Blue1Brown, https://www.youtube.com/watch?v=IHZwWFHWa-w\n",
    "- StatQuest, https://www.youtube.com/watch?v=sDv4f4s2SB8\n",
    "\n",
    "Videos from Andrew Ng's courses  with a brief intro to:\n",
    "- GD, https://www.youtube.com/watch?v=F6GSRDoB-Cg \n",
    "- Adam, https://youtu.be/JXQT_vxqwIs \n",
    "- RMSprop, https://youtu.be/_e-LFe_igno\n",
    "\n",
    "Detailed overview of GD and its variants:\n",
    "- Optimization Chapter of Deep Learning Book https://www.deeplearningbook.org/contents/optimization.html"
   ]
  },
  {
   "cell_type": "markdown",
   "metadata": {
    "deletable": false,
    "editable": false,
    "nbgrader": {
     "cell_type": "markdown",
     "checksum": "b412b7fa70662e15c9435bdd79737a9b",
     "grade": false,
     "grade_id": "cell-b0e3481a9dd3e926",
     "locked": true,
     "schema_version": 3,
     "solution": false,
     "task": false
    }
   },
   "source": [
    "Deep learning methods aim at finding a good choice for the weights (and bias) of an **artificial neural network (ANN)**. We need to define a loss function to measure how \"good\" is a particular choice for the weights. For a given pair of predicted label value $\\hat{y}$ and true label value $y$, the loss function $L(y,\\hat{y})$ provides a measure for the error, or \"loss\", incurred in predicting the true label $y$ by $\\hat{y}$. We emphasize that the precise definition of the loss function is a design choice. In principle, the deep learning engineer is free to choose an arbitrary loss function used to guide the training of the ANN.  \n",
    "\n",
    "Some particular choices for the loss function have proven useful in many applications. If the label values are numeric (like a temperature or a weight), then the squared error loss $L(y,\\hat{y})=(y-\\hat{y})^2$ is often a good choice for the loss function. If the label values are categories (like \"cat\" and \"dog\"), we might use  the \"0/1\" loss $L(y,\\hat{y})=0$ if and only if $y=\\hat{y}$ and $L(y,\\hat{y})=1$ otherwise.\n",
    "\n",
    "To measure the quality of particular choice for the parameters of an ANN, we typically use a set of labeled data points \n",
    "\n",
    "$$\\big(\\mathbf{x}^{(1)},y^{(1)}\\big),\\ldots,\\big(\\mathbf{x}^{(m)},y^{(m)}\\big).$$\n",
    "\n",
    "We first compute the resulting predictions $\\hat{y}^{(i)}$ obtained when feeding the feature vectors $\\mathbf{x}^{(i)}$ into the ANN. Based on the predictions, we calculate the average loss (or \"training error\")\n",
    "\n",
    "$$ (1/m) \\big( L(y^{(1)},\\hat{y}^{(1)})+L(y^{(2)},\\hat{y}^{(2)})+\\ldots+L(y^{(m)},\\hat{y}^{(m)}) \\big).$$\n",
    "This step is sometimes referred to as a **forward pass**. \n",
    "\n",
    "Note that the training error depends on the parameters $\\mathbf{w}$ of the ANN via the predictions $\\hat{y}^{(i)}$. Indeed, the predictions $\\hat{y}^{(i)}=h^{(\\mathbf{w})}\\big(\\mathbf{x}^{(i)}\\big)$ are obtained by applying the ANN with parameters $\\mathbf{w}$ to the input feature vector $\\mathbf{x}^{(i)}$. By evaluating the training error for different choices for the weights, we obtain a **cost or objective function** $f(\\mathbf{w})$. The objective function $f(\\mathbf{w})$ is the average loss incurred by an ANN with parameters $\\mathbf{w}$. It seems natural to learn parameters of an ANN that minimize the training error, i.e., that solve\n",
    "\n",
    "$$ \\min_{\\mathbf{w} \\in \\mathbb{R}^{d}} f(\\mathbf{w})$$"
   ]
  },
  {
   "cell_type": "markdown",
   "metadata": {
    "deletable": false,
    "editable": false,
    "nbgrader": {
     "cell_type": "markdown",
     "checksum": "4e5bace7cf44f0787252a39cc04b7b2d",
     "grade": false,
     "grade_id": "cell-74b899199a3ac3b1",
     "locked": true,
     "schema_version": 3,
     "solution": false,
     "task": false
    }
   },
   "source": [
    "## Mean Squared Error \n",
    "\n",
    "Maybe the most widely used loss function for applications involving numeric label values $y \\in \\mathbb{R}$ is the squared error loss \n",
    "\n",
    "$$L(y,\\hat{y}) = (\\underbrace{y- \\hat{y}}_{\\mbox{prediction error}})^{2}.$$\n",
    "\n",
    "We assess the quality of a predictor $\\hat{y} = h^{(\\mathbf{w})}(\\mathbf{x})$ by the average loss incurred over a set of labeled data points (the **training set**). For the squared error, average loss is referred to as the **mean squared error (MSE)** \n",
    "\n",
    "$$ f(\\mathbf{w}) = (1/m) \\big( \\big( y^{(1)}-\\hat{y}^{(1)}\\big)^{2}+\\big( y^{(2)}-\\hat{y}^{(2)}\\big)^{2}+\\ldots+\\big( y^{(m)}-\\hat{y}^{(m)}\\big)^{2} \\big). $$\n",
    "Note that the MSE on the right hands side depends on the weight vector $\\mathbf{w}$ via the predictions $\\hat{y}^{(i)}$ obtained by applying the predictor map $h^{(\\mathbf{w})}\\big(\\mathbf{x}^{(i)}\\big)$. "
   ]
  },
  {
   "cell_type": "markdown",
   "metadata": {
    "deletable": false,
    "editable": false,
    "nbgrader": {
     "cell_type": "markdown",
     "checksum": "29ce46ae78b6b04efd4c4ae16ee32a50",
     "grade": false,
     "grade_id": "cell-7a19ba4e42949ab2",
     "locked": true,
     "schema_version": 3,
     "solution": false,
     "task": false
    }
   },
   "source": [
    "The shape of the loss $f(\\mathbf{w})$, viewed as a function of the weights $\\mathbf{w}$, depends on two components. First, it depends on how the predictor map depends on the weights. Second, it depends on the choice of the loss function $L(y,\\hat{y})$ used to measure the loss incurred by predicting the true label value $y$ with the prediction $\\hat{y}$. \n",
    "\n",
    "The combination of linear predictor function and squared error loss $L(y,\\hat{y})=(y-\\hat{y})^{2}$ is a very popular as they result in a [convex](https://en.wikipedia.org/wiki/Convex_function) and [differentiable](https://en.wikipedia.org/wiki/Differentiable_function) loss function $f(\\mathbf{w})$. A convex function has the attractive property that any local minimum is always also a [global minimum](https://en.wikipedia.org/wiki/Maxima_and_minima#/media/File:Extrema_example_original.svg). If a convex function is also differentiable, it can be minimized by a simple but powerful algorithm which is known as **gradient descent**. \n",
    "\n",
    "<img src=\"../../../coursedata/R2/MSELinPred.jpeg\" width=400>\n"
   ]
  },
  {
   "cell_type": "markdown",
   "metadata": {
    "deletable": false,
    "editable": false,
    "nbgrader": {
     "cell_type": "markdown",
     "checksum": "8453b7532340d3854be22585d9f52221",
     "grade": false,
     "grade_id": "cell-a24f9b508deb7119",
     "locked": true,
     "schema_version": 3,
     "solution": false,
     "task": false
    }
   },
   "source": [
    "Deep learning methods use predictor maps represented by ANN with tunable weights. In this case, the predictor depends non-linearly on the weights. As a result, we obtain (highly) non-convex loss landscapes. Below, examples of loss function landscapes of more complicated models (neural networks) illustrate that finding a minimum of these loss functions is not a trivial task.\n",
    "\n",
    "<img src=\"../../../coursedata/R2/NNloss.png\" width=500/>\n",
    "\n",
    "\n",
    "<center><a href=\"https://www.cs.umd.edu/~tomg/projects/landscapes/\">image source</a></center>\n",
    "<center><a href=\"https://arxiv.org/abs/1712.09913/\">original paper</a></center>\n",
    "\n",
    "Here you can find more examples of visualizations for loss functions obtained from representing a predictor map using ANN:\n",
    "\n",
    "[3D visualization of NN loss functions](http://www.telesens.co/loss-landscape-viz/viewer.html) \\\n",
    "[3D animation of NN loss functions](https://www.youtube.com/watch?time_continue=32&v=aq3oA6jSGro&feature=emb_logo)"
   ]
  },
  {
   "cell_type": "markdown",
   "metadata": {
    "deletable": false,
    "editable": false,
    "nbgrader": {
     "cell_type": "markdown",
     "checksum": "adff7cf77fc6a357afaab2efc00abab9",
     "grade": false,
     "grade_id": "cell-bc3add6f815d8e8a",
     "locked": true,
     "schema_version": 3,
     "solution": false,
     "task": false
    }
   },
   "source": [
    "# Gradient Descent \n",
    "\n",
    "We will now introduce a simple algorithm that allows to find (good approximations to) the optimal parameter vector $\\mathbf{w}_{\\rm opt}$ for a predictor map $h^{(\\mathbf{w})}(\\mathbf{x})$. The optimum weight vector should result in the smallest possible loss  \n",
    "\n",
    "\\begin{align} \n",
    "f(\\mathbf{w}_{\\rm opt}) = \\min_{\\mathbf{w} \\in \\mathbb{R}^{d}} f(\\mathbf{w}) \\mbox{ with } f(\\mathbf{w})& = (1/m) \\sum_{i=1}^{m} \\big(y^{(i)} - \\hat{y}^{(i)} \\big)^{2} \\nonumber \\\\ \n",
    "& =(1/m) \\sum_{i=1}^{m} \\big(y^{(i)} - h^{(\\mathbf{w})}\\big(\\mathbf{x}^{(i)}\\big) \\big)^{2}. \\end{align}\n",
    "\n",
    "**Gradient descent (GD)** constructs a sequence of parameter vectors $\\mathbf{w}^{(0)},\\mathbf{w}^{(1)},\\ldots$ such that the loss values $f\\big(\\mathbf{w}^{(0)}\\big),f\\big(\\mathbf{w}^{(1)}\\big),\\ldots$ tends toward the minimum loss. GD is an iterative algorithm that gradually improves the current guess (approximation) $\\mathbf{w}^{(k)}$ for the optimum weight vector.  \n",
    "\n",
    "There are many different strategies for choosing the first (or initial) guess $\\mathbf{w}^{(0)}$. One simple approach is to choose the initial weights randomly. Given the current weight vector $\\mathbf{w}^{(k)}$, how does GD know in which \"direction\" to go to find a better parameter vector $\\mathbf{w}^{(k+1)}$? Mathematics, or [calcululs](https://en.wikipedia.org/wiki/Differential_calculus) to be specific, tells us that this direction is precisely the opposite of the gradient $\\nabla f(\\mathbf{w})$. More precisely, for small step size, the steepest descent is towards the opposite direction of the [gradient](https://en.wikipedia.org/wiki/Derivative). We can think of [GD](https://en.wikipedia.org/wiki/Gradient_descent) as imitating a hiker who takes a sequence of (small) steps downhill.\n",
    "\n",
    "<img src=\"../../../coursedata/R2/GradientHiker.jpeg\" width=500/>\n",
    "\n",
    "Given the downhill direction $- \\nabla f\\big(\\mathbf{w}^{(k)}\\big)$ at the current estimate $\\mathbf{w}^{(k)}$, we take a step \n",
    "\n",
    "$$\\mbox{(Gradient Step)} \\quad \\underbrace{\\mathbf{w}^{(k+1)}}_{\\mbox{new guess}} = \\underbrace{\\mathbf{w}^{(k)}}_{\\mbox{current guess}} - \\underbrace{\\alpha}_{\\mbox{step size}} \\nabla f\\big(\\mathbf{w}^{(k)}\\big).$$ \n",
    "\n",
    "Here, we used a tuning parameter $\\alpha>0$ which adjusts the step size for the steep downhill. We will refer to this parameter as **learning rate**. This name is due to the fact that choosing a larger value for $\\alpha$ tends to speed up the progress of GD to reach the optimum weight vector. Thus, increasing the value of $\\alpha$ tends to speed up the learning of a good weight vector for a predictor map $h^{(\\mathbf{w})}$. \n",
    "\n",
    "The GD algorithm requires the specification of a suitable learning rate  $\\alpha$ and initial guess $\\mathbf{w}^{(0)}$ and then repeating the gradient step for a sufficient number of iterations. One possible stopping criterion is to use a fixed number of iterations which might be dictated by constraints on processing duration we grant for GD (computing time costs money, [see here](https://aws.amazon.com/emr/pricing/)). \n",
    "\n",
    "Another option is to monitor the loss function and stop if consecutive iterates do not result in any significant decrease. Similarly, we could monitor the validation loss which is obtained by applying the predictor map using the current GD iterate $\\mathbf{w}^{(k)}$ to validation data which is different from the training data used to define the training loss. \n",
    "\n",
    "A key challenge in the use of GD is to find a good choice for the learning rate $\\alpha$. If the learning rate is too small (left plot below), the GD steps make too little progress and thus require an excessive number of iterations to get close to the optimum weight vector. Conversely, if the learning rate is too high (right plot below), it is possible that GD iterates $\\mathbf{w}^{(k)}$ will \"overshoot\" the minimum and climb up the loss function on the other side of the minimum (GD diverges). \n",
    "\n",
    "<img src=\"../../../coursedata/R2/lrate.png\" width=800/>"
   ]
  },
  {
   "cell_type": "markdown",
   "metadata": {
    "deletable": false,
    "editable": false,
    "nbgrader": {
     "cell_type": "markdown",
     "checksum": "164da848225c3b21e3764e1f5163bf71",
     "grade": false,
     "grade_id": "cell-924816fce21eb6a1",
     "locked": true,
     "schema_version": 3,
     "solution": false,
     "task": false
    }
   },
   "source": [
    "The figure below shows how GD adapts the parameter vector $\\mathbf{w}$ of a linear predictor $h^{(\\mathbf{w})}(\\mathbf{x})= \\mathbf{w}^{T} \\mathbf{x}$ to better fit the labeled data points (left) resulting in a smaller MSE (right). Note that after around $200$ iterations, gradient descent found weight vectors resulting in an almost minimum MSE. The additional iterations (beyond $200$) are (in some sense) a waste of computation as they do not decrease the MSE significantly. \n",
    "\n",
    "<img src=\"../../../coursedata/R2/plainGD.gif\" width=\"750\" align=\"center\">"
   ]
  },
  {
   "cell_type": "markdown",
   "metadata": {
    "deletable": false,
    "editable": false,
    "nbgrader": {
     "cell_type": "markdown",
     "checksum": "e1c563065676f51a79a377ff05881ae0",
     "grade": false,
     "grade_id": "cell-140d9675efb76a99",
     "locked": true,
     "schema_version": 3,
     "solution": false,
     "task": false
    }
   },
   "source": [
    "To develop some intuition for the functioning of GD, let us work out the gradient update for the special case of linear predictor maps $h^{(\\mathbf{w})}(\\mathbf{x}) = \\mathbf{w}^{T} \\mathbf{x}$. Here, we can find a closed-form expression for the gradient: \n",
    "\n",
    "\\begin{align} \n",
    "\\nabla f\\big( \\mathbf{w}^{(k)} \\big)= - (2/m) \\sum_{i=1}^{m}\\mathbf{x}^{(i)} \\big(y^{(i)} - \\big( \\mathbf{w}^{(k)}\\big)^{T} \\mathbf{x}^{(i)} \\big) \\big). \\end{align}\n",
    "\n",
    "The gradient update of GD then becomes, in turn, \n",
    "\n",
    "\\begin{align} \n",
    "\\mathbf{w}^{(k+1)} & = \\mathbf{w}^{(k)} + {\\alpha}\\,(2/m) \\sum_{i=1}^{m}\\mathbf{x}^{(i)} \\big(y^{(i)} - \\big( \\mathbf{w}^{(k)}\\big)^{T} \\mathbf{x}^{(i)} \\big)\\nonumber \\\\ \n",
    " & = \\mathbf{w}^{(k)} + {\\alpha}\\,(2/m) \\sum_{i=1}^{m}\\mathbf{x}^{(i)} \\big( y^{(i)} - \\hat{y}^{(i)} \\big) \n",
    ". \\end{align}\n",
    "\n",
    "Note that the gradient update involves the computation of the predictions $\\hat{y}^{(i)} = \\big( \\mathbf{w}^{(k)}\\big)^{T} \\mathbf{x}^{(i)}$. We will refer to this evaluation of the predictor map also as a **forward pass**. After the forward pass, the weight vector $\\mathbf{w}^{(k)}$ is updated by a weighted combination of the feature vectors $\\mathbf{x}^{(i)}$. The weight for the $i$th feature vector $\\mathbf{x}^{(i)}$ is given by the prediction error $ \\big( y^{(i)}$ - $\\hat{y}^{(i)} \\big)$ incurred by the current parameter vector for that data point. Thus, the gradient update puts more emphasis (larger weight) on those data points $\\big(\\mathbf{x}^{(i)},y^{(i)}\\big)$ which are not well predicted using the current weight vector $\\mathbf{w}^{(k)}$. \n",
    "\n"
   ]
  },
  {
   "cell_type": "markdown",
   "metadata": {
    "deletable": false,
    "editable": false,
    "nbgrader": {
     "cell_type": "markdown",
     "checksum": "308bcb10c015b1ea2825974e82e19dcb",
     "grade": false,
     "grade_id": "cell-872656208f52d61b",
     "locked": true,
     "schema_version": 3,
     "solution": false,
     "task": false
    }
   },
   "source": [
    "Many machine learning and deep learning Python libraries, such as `sklearn` and `keras`, provide ready-to-use gradient-based optimization algorithms. However, it is instructive to implement our own simplified gradient descent algorithm for learning purposes. In this simple case, we have 100 data points (samples) that are described by only one feature `x`, and have labels stored in `y`. \\\n",
    "We need to find the optimal linear predictor `y_pred = weight * x`."
   ]
  },
  {
   "cell_type": "code",
   "execution_count": 1,
   "metadata": {
    "deletable": false,
    "editable": false,
    "nbgrader": {
     "cell_type": "code",
     "checksum": "b66cc8cc228850e44e307ceafa9b1970",
     "grade": false,
     "grade_id": "cell-d062ee24a84dc848",
     "locked": true,
     "schema_version": 3,
     "solution": false,
     "task": false
    }
   },
   "outputs": [
    {
     "data": {
      "text/html": [
       "<style>\n",
       "* {\n",
       "  margin: 0;\n",
       "  padding: 0;\n",
       "  box-sizing: border-box;\n",
       "}\n",
       "\n",
       "*,\n",
       "*:before,\n",
       "*:after {\n",
       "\tbox-sizing: inherit;\n",
       "}\n",
       "\n",
       "body {\n",
       "font-family: -apple-system, BlinkMacSystemFont, \"Segoe UI\", Roboto, Helvetica,\n",
       "    Arial, sans-serif, \"Apple Color Emoji\", \"Segoe UI Emoji\", \"Segoe UI Symbol\";\n",
       "}\n",
       "\n",
       ".title-container {\n",
       "  text-align: left;\n",
       "}\n",
       "\n",
       ".title {\n",
       "  font-weight: 600;\n",
       "}\n",
       "\n",
       ".subtitle {\n",
       "  margin: 10px 0px;\n",
       "  color: #888888;\n",
       "  font-size: 25px;\n",
       "  transition: all 0.5s;\n",
       "}\n",
       "\n",
       ".main-container {\n",
       "  padding: 15px;\n",
       "}\n",
       "\n",
       ".card-container {\n",
       "  display: flex;\n",
       "  flex-wrap: wrap;\n",
       "  justify-content: space-between;\n",
       "}\n",
       "\n",
       ".card {\n",
       "  margin: 20px;\n",
       "  padding: 20px;\n",
       "  width: 100%;\n",
       "  min-height: 200px;\n",
       "  display: grid;\n",
       "  grid-template-columns: 1fr 1fr 1fr;\n",
       "  gap: 10px;\n",
       "  border-radius: 10px;\n",
       "  box-shadow: 0px 6px 10px rgba(0, 0, 0, 0.25);\n",
       "  transition: all 0.5s;\n",
       "}\n",
       "\n",
       ".card.small {\n",
       "  width: 50%;\n",
       "  min-height: 100px;\n",
       "  grid-template-columns: 1fr 1fr;\n",
       "}\n",
       "\n",
       ".card:hover {\n",
       "  box-shadow: 0px 6px 10px rgba(0, 0, 0, 0.4);\n",
       "  transform: scale(1.01);\n",
       "}\n",
       "\n",
       ".card__title {\n",
       "  grid-columnn-start: 1;\n",
       "  grid-columnn-end: -1;\n",
       "  font-weight: 400;\n",
       "  color: #ffffff;\n",
       "}\n",
       "\n",
       ".test-input {\n",
       "  grid-column-start: 1;\n",
       "  grid-column-end: 2;\n",
       "  color: #40413e;\n",
       "}\n",
       "\n",
       ".test-output {\n",
       "  grid-column-start: 2;\n",
       "  grid-column-end: 3;\n",
       "  color: #40413e;\n",
       "}\n",
       "\n",
       ".test-expected-output {\n",
       "  grid-column-start: 3;\n",
       "  grid-column-end: 4;\n",
       "  color: #40413e;\n",
       "}\n",
       "\n",
       ".card-failure {\n",
       "  background: radial-gradient(#fbc1cc, #fa99b2);\n",
       "}\n",
       "\n",
       ".card-failure .card__title::before {\n",
       "    display: inline-block;\n",
       "    margin-right: 5px;\n",
       "    font-style: normal;\n",
       "    font-variant: normal;\n",
       "    text-rendering: auto;\n",
       "    -webkit-font-smoothing: antialiased;\n",
       "    font-family: \"Font Awesome 5 Free\";\n",
       "    font-weight: 900;\n",
       "    content: \"\\f057\";\n",
       "}\n",
       "\n",
       ".card-success {\n",
       "  background: radial-gradient(#60efbc, #58d5c9);\n",
       "}\n",
       "\n",
       ".card-success .card__title::before {\n",
       "    display: inline-block;\n",
       "    margin-right: 5px;\n",
       "    font-style: normal;\n",
       "    font-variant: normal;\n",
       "    text-rendering: auto;\n",
       "    -webkit-font-smoothing: antialiased;\n",
       "    font-family: \"Font Awesome 5 Free\";\n",
       "    font-weight: 900;\n",
       "    content: \"\\f058\";\n",
       "}\n",
       "\n",
       ".card-info {\n",
       "  background: radial-gradient(#1fe4f5, #3fbafe);\n",
       "}\n",
       "\n",
       "@media (max-width: 1600px) {\n",
       "  .card-container {\n",
       "    justify-content: center;\n",
       "  }\n",
       "}\n",
       "\n",
       ".code-block {\n",
       "  padding: 5px;\n",
       "  background-color: #f3f7f7;\n",
       "  color: black;\n",
       "  border-radius: 10px;\n",
       "  box-shadow: 0px 6px 10px rgba(0, 0, 0, 0.25);\n",
       "}\n",
       "\n",
       "details {\n",
       "\tfont-size: 1rem;\n",
       "\tbox-shadow: 0 10px 15px -5px rgba(0, 0, 0, 0.1),\n",
       "\t\t0 10px 10px -5px rgba(0, 0, 0, 0.04);\n",
       "\twidth: 100%;\n",
       "\tbackground: #ffffff;\n",
       "\tborder-radius: 10px;\n",
       "\tposition: relative;\n",
       "}\n",
       "\n",
       "details:hover {\n",
       "    cursor: pointer;\n",
       "}\n",
       "\n",
       ".summary-title {\n",
       "    user-select: none;\n",
       "    margin-left: 5px;\n",
       "}\n",
       "\n",
       ".summary-content {\n",
       "    border: 2px solid #0C7B89;\n",
       "    cursor: default;\n",
       "    padding: 1em;\n",
       "    font-weight: 300;\n",
       "    line-height: 1.5;\n",
       "}\n",
       "\n",
       "summary {\n",
       "   color: white;\n",
       "   font-size: large;\n",
       "   font-weight: bold;\n",
       "   padding: 1em;\n",
       "   background-color: #0C7B89;\n",
       "   border-radius: 8px;\n",
       "   list-style: none;\n",
       "}\n",
       "\n",
       "details[open] summary {\n",
       "    border-radius: 8px 8px 0 0;\n",
       "}\n",
       "\n",
       "details[open] summary::before {\n",
       "  transform: rotate(90deg);\n",
       "  font-family: \"Font Awesome 5 Free\";\n",
       "  padding-right: 5px;\n",
       "}\n",
       "\n",
       "details summary::before {\n",
       "  position: absolute;\n",
       "  will-change: transform;\n",
       "  transition: transform 300ms ease;\n",
       "  font-family: \"Font Awesome 5 Free\";\n",
       "  color: #fff;\n",
       "  font-size: 1.1rem;\n",
       "  content: \"\\f105\";\n",
       "  left: 0;\n",
       "  display: inline-block;\n",
       "  width: 1.6rem;\n",
       "  text-align: center;\n",
       "  padding-right: 5px;\n",
       "}\n",
       "\n",
       "summary:focus {\n",
       "  outline: none;\n",
       "}\n",
       "\n",
       "summary::-webkit-details-marker {\n",
       "    display: none;\n",
       "}\n",
       "\n",
       "</style>"
      ],
      "text/plain": [
       "<IPython.core.display.HTML object>"
      ]
     },
     "execution_count": 1,
     "metadata": {},
     "output_type": "execute_result"
    }
   ],
   "source": [
    "# import Python libraries\n",
    "import numpy as np                                 # library for numerical arrays (vectors, matrices, tensors)\n",
    "import matplotlib.pyplot as plt                    # library providing tools for plotting data \n",
    "from sklearn import preprocessing                  # function for pre-processing input data\n",
    "from sklearn.linear_model import LinearRegression  # sklearn class for fitting linear predictor \n",
    "from sklearn.datasets import make_regression       # function to generate a random regression problem\n",
    "\n",
    "from utils import load_styles\n",
    "\n",
    "# This MUST be the last line of this cell\n",
    "load_styles()"
   ]
  },
  {
   "cell_type": "markdown",
   "metadata": {
    "deletable": false,
    "editable": false,
    "nbgrader": {
     "cell_type": "markdown",
     "checksum": "cd13f27fb668cf5a367d9153dce63ac0",
     "grade": false,
     "grade_id": "cell-7903eaf0c4e0eb78",
     "locked": true,
     "schema_version": 3,
     "solution": false,
     "task": false
    }
   },
   "source": [
    "<a id='St1'></a>\n",
    "<div class=\" alert alert-warning\">\n",
    "    <h3><b>STUDENT TASK 2.1.</b> GRADIENT DESCENT. </h3>\n",
    "        \n",
    "Your task is to implement the gradient descent algorithm for a dataset of size $m$, where $i$th datapoint is characterized by only one feature ${x}^{(i)}$. Feature values for all $m$ data points are stored in a numpy array `x` of shape (m,1). Labels of datapoints are stored in numpy array `y` of shape (m,1).\n",
    "\n",
    "We will implement GD algorithm in two steps:\n",
    "    \n",
    "- implement gradient \"step\" or one iteration of GD in Python function `gradient_step_onefeature()`\n",
    "- define Python function `GD()`, which uses `gradient_step_onefeature()` and iterates the gradient step epochs times.\n",
    "     \n",
    "</div>"
   ]
  },
  {
   "cell_type": "markdown",
   "metadata": {
    "deletable": false,
    "editable": false,
    "nbgrader": {
     "cell_type": "markdown",
     "checksum": "90fcd7a7bf97b24871d83205b06070e4",
     "grade": false,
     "grade_id": "cell-6aea792fc8d412ce",
     "locked": true,
     "schema_version": 3,
     "solution": false,
     "task": false
    }
   },
   "source": [
    "**Implementation note.**\n",
    "\n",
    "You can use for-loop to compute training loss and gradient for each datapoint, but we advise using vectorized implementation where you use NumPy arrays `x` and `y` for computing predictions, training loss, and gradient."
   ]
  },
  {
   "cell_type": "markdown",
   "metadata": {
    "deletable": false,
    "editable": false,
    "nbgrader": {
     "cell_type": "markdown",
     "checksum": "bb10bfbc38de45c20cc55a4804ee1fa9",
     "grade": false,
     "grade_id": "cell-d23608ab77205d2c",
     "locked": true,
     "schema_version": 3,
     "solution": false,
     "task": false
    }
   },
   "source": [
    "<details>\n",
    "    <summary>\n",
    "        <span class=\"summary-title\">Hints</span>\n",
    "    </summary>\n",
    "    <div class=\"summary-content\">\n",
    "\n",
    "To implement the `gradient_step_onefeature()` function you will need to perform the following steps:\n",
    "    \n",
    "1. Compute predictions for all data points, given the current weight $w$, and store predictions in numpy array `y_hat` of shape (m,1).\\\n",
    "The prediction for $i$th data point is:\n",
    "\\begin{align} \n",
    "\\hat{y}^{(i)} =w{x}^{(i)}\n",
    "\\end{align} \n",
    "\n",
    "\n",
    "2. Compute the MSE training loss, given the true labels $y^{(i)}$ and the predictions $\\hat{y}^{(i)}$ for $m$ data points. Store the result in a variable `MSE` (scalar).\\\n",
    "The training loss for $i$th data point is:\n",
    "\\begin{align} \n",
    "f\\big(w \\big)= \\big(y^{(i)} - \\hat{y}^{(i)} \\big)^{2}\n",
    "\\end{align}    \n",
    "To obtain MSE loss over $m$ data points you need to compute **average** of training losses over $m$ datapoints.\n",
    "\n",
    "\n",
    "3. Compute the **average** gradient of the loss function $f\\big(w \\big)$.\\\n",
    "The gradient of loss function for $i$th data point given current weight ${w}^{(k)}$ is:\n",
    "\\begin{align} \n",
    "\\nabla f\\big(w^{(k)} \\big)= - 2x\\big(y^{(i)} - \\hat{y}^{(i)} \\big)\n",
    "\\end{align} \n",
    "or\n",
    "\\begin{align} \n",
    "\\nabla f\\big(w^{(k)} \\big)= - 2x\\big(y^{(i)} - w^{(k)}{x}^{(i)} \\big)\n",
    "\\end{align}\n",
    "\n",
    "\n",
    "4. Update the weight - change the weight values to the opposite direction from the gradient \n",
    "    \n",
    "\\begin{align} \n",
    "w^{(k+1)}= w^{(k)} - \\alpha\\nabla f\\big(w^{(k)} \\big)\n",
    "\\end{align}   \n",
    "     </div>    \n",
    "</details>"
   ]
  },
  {
   "cell_type": "code",
   "execution_count": 2,
   "metadata": {
    "deletable": false,
    "nbgrader": {
     "cell_type": "code",
     "checksum": "0ba4271d3c25da9a065128f0e4651943",
     "grade": false,
     "grade_id": "cell-788861738364f21c",
     "locked": false,
     "schema_version": 3,
     "solution": true,
     "task": false
    }
   },
   "outputs": [],
   "source": [
    "def gradient_step_onefeature(x,y,weight,lrate):\n",
    "    \n",
    "    '''\n",
    "    Function for performing gradient descent step for linear predictor and MSE as loss function.\n",
    "    \n",
    "    The inputs to the function are:\n",
    "     - numpy array with feature values x of shape (m,1)\n",
    "     - numpy array with labels y of shape (m,1)\n",
    "     - scalar value `weight`, which is the weight used for computing the prediction\n",
    "     - scalar value `lrate`, which is a coefficient alpha used during weight update (learning rate)\n",
    "\n",
    "    The function will return a new weight guess (updated weight value) and the current MSE value.   \n",
    "    \n",
    "    '''\n",
    "\n",
    "    # YOUR CODE HERE\n",
    "    # raise NotImplementedError()\n",
    "    \n",
    "    # performing the Gradient Step:\n",
    "    # 1. compute predictions, given the weight vector w\n",
    "    y_hat = weight * x\n",
    "    \n",
    "    # 2. compute MSE loss\n",
    "    MSE = (1/len(x)) * ((y - y_hat)**2).sum() \n",
    "    \n",
    "    # 3. compute the average gradient of the loss function\n",
    "    grad_w = (-2/len(x)) * (x * (y - y_hat)).sum()\n",
    "    \n",
    "    # 4. update the weights\n",
    "    weight = weight - lrate * grad_w\n",
    "\n",
    "    return weight, MSE "
   ]
  },
  {
   "cell_type": "code",
   "execution_count": 3,
   "metadata": {
    "deletable": false,
    "editable": false,
    "nbgrader": {
     "cell_type": "code",
     "checksum": "c99c4be994d86e7d6dab7212f0365864",
     "grade": false,
     "grade_id": "cell-bae380ea380e69a0",
     "locked": true,
     "schema_version": 3,
     "solution": false,
     "task": false
    },
    "tags": []
   },
   "outputs": [
    {
     "data": {
      "text/html": [
       "<div class=\"main-container\">\n",
       "    <div class=\"title-container\">\n",
       "        <h1 class=\"title\">Congratulations!</h1>\n",
       "        <h3 class=\"subtitle\">You have passed the test cases.</h3>\n",
       "\n",
       "         <div class=\"card-container\">\n",
       "             <div class=\"card card-success\">\n",
       "                 <h2 class=\"card__title\">Test Case 1</h2>\n",
       "                 <div class=\"test-input\">\n",
       "                     <p>Input</p>\n",
       "                     <div class=\"code-block\">\n",
       " <p>x = [[0.37454012]\n",
       " [0.95071431]\n",
       " [0.73199394]\n",
       " [0.59865848]\n",
       " [0.15601864]]</p>\n",
       " <p>y = [[0.15599452]\n",
       " [0.05808361]\n",
       " [0.86617615]\n",
       " [0.60111501]\n",
       " [0.70807258]]</p>\n",
       " <p>lrate = 1.0</p>\n",
       " <p>weight = 0.01</p>       \n",
       "        </div>\n",
       "                 </div>\n",
       "                 <div class=\"test-output\">\n",
       "                     <p>Your Output</p>\n",
       "                     <div class=\"code-block\">(0.48935642878575236, 0.32330221090507233)</div>\n",
       "                 </div>\n",
       "                 <div class=\"test-expected-output\">\n",
       "                     <p>Expected Output</p>\n",
       "                     <div class=\"code-block\">(0.48935642878575236, 0.32330221090507233)</div>\n",
       "                 </div>\n",
       "             </div>\n",
       "         </div>\n",
       "         <div class=\"card-container\">\n",
       "             <div class=\"card card-success\">\n",
       "                 <h2 class=\"card__title\">Test Case 2</h2>\n",
       "                 <div class=\"test-input\">\n",
       "                     <p>Input</p>\n",
       "                     <div class=\"code-block\">\n",
       " <p>x = [[0.96990985]\n",
       " [0.83244264]\n",
       " [0.21233911]\n",
       " [0.18182497]\n",
       " [0.18340451]\n",
       " [0.30424224]\n",
       " [0.52475643]\n",
       " [0.43194502]\n",
       " [0.29122914]\n",
       " [0.61185289]]</p>\n",
       " <p>y = [[0.13949386]\n",
       " [0.29214465]\n",
       " [0.36636184]\n",
       " [0.45606998]\n",
       " [0.78517596]\n",
       " [0.19967378]\n",
       " [0.51423444]\n",
       " [0.59241457]\n",
       " [0.04645041]\n",
       " [0.60754485]]</p>\n",
       " <p>lrate = 0.5</p>\n",
       " <p>weight = 0.01</p>       \n",
       "        </div>\n",
       "                 </div>\n",
       "                 <div class=\"test-output\">\n",
       "                     <p>Your Output</p>\n",
       "                     <div class=\"code-block\">(0.17273645547424435, 0.20572360331697004)</div>\n",
       "                 </div>\n",
       "                 <div class=\"test-expected-output\">\n",
       "                     <p>Expected Output</p>\n",
       "                     <div class=\"code-block\">(0.17273645547424435, 0.20572360331697004)</div>\n",
       "                 </div>\n",
       "             </div>\n",
       "         </div>\n",
       "         <div class=\"card-container\">\n",
       "             <div class=\"card card-success\">\n",
       "                 <h2 class=\"card__title\">Test Case 3</h2>\n",
       "                 <div class=\"test-input\">\n",
       "                     <p>Input</p>\n",
       "                     <div class=\"code-block\">\n",
       " <p>x = [[0.06505159]\n",
       " [0.94888554]\n",
       " [0.96563203]\n",
       " [0.80839735]\n",
       " [0.30461377]\n",
       " [0.09767211]\n",
       " [0.68423303]\n",
       " [0.44015249]\n",
       " [0.12203823]\n",
       " [0.49517691]\n",
       " [0.03438852]\n",
       " [0.9093204 ]\n",
       " [0.25877998]\n",
       " [0.66252228]\n",
       " [0.31171108]]</p>\n",
       " <p>y = [[0.52006802]\n",
       " [0.54671028]\n",
       " [0.18485446]\n",
       " [0.96958463]\n",
       " [0.77513282]\n",
       " [0.93949894]\n",
       " [0.89482735]\n",
       " [0.59789998]\n",
       " [0.92187424]\n",
       " [0.0884925 ]\n",
       " [0.19598286]\n",
       " [0.04522729]\n",
       " [0.32533033]\n",
       " [0.38867729]\n",
       " [0.27134903]]</p>\n",
       " <p>lrate = 0.5</p>\n",
       " <p>weight = 0.1</p>       \n",
       "        </div>\n",
       "                 </div>\n",
       "                 <div class=\"test-output\">\n",
       "                     <p>Your Output</p>\n",
       "                     <div class=\"code-block\">(0.29027273343874965, 0.3195811720213388)</div>\n",
       "                 </div>\n",
       "                 <div class=\"test-expected-output\">\n",
       "                     <p>Expected Output</p>\n",
       "                     <div class=\"code-block\">(0.29027273343874965, 0.3195811720213388)</div>\n",
       "                 </div>\n",
       "             </div>\n",
       "         </div>\n",
       "         <div class=\"card-container\">\n",
       "             <div class=\"card card-success\">\n",
       "                 <h2 class=\"card__title\">Test Case 4</h2>\n",
       "                 <div class=\"test-input\">\n",
       "                     <p>Input</p>\n",
       "                     <div class=\"code-block\">\n",
       " <p>x = [[0.96525531]\n",
       " [0.60703425]\n",
       " [0.27599918]\n",
       " [0.29627351]\n",
       " [0.16526694]\n",
       " [0.01563641]\n",
       " [0.42340148]\n",
       " [0.39488152]\n",
       " [0.29348817]\n",
       " [0.01407982]\n",
       " [0.1988424 ]\n",
       " [0.71134195]\n",
       " [0.79017554]\n",
       " [0.60595997]\n",
       " [0.92630088]\n",
       " [0.65107703]\n",
       " [0.91495968]\n",
       " [0.85003858]\n",
       " [0.44945067]\n",
       " [0.09541012]]</p>\n",
       " <p>y = [[0.37081825]\n",
       " [0.66884125]\n",
       " [0.66592236]\n",
       " [0.59129779]\n",
       " [0.27472179]\n",
       " [0.56124343]\n",
       " [0.38292687]\n",
       " [0.9717121 ]\n",
       " [0.84891382]\n",
       " [0.72172952]\n",
       " [0.23598492]\n",
       " [0.25606832]\n",
       " [0.04043359]\n",
       " [0.71066289]\n",
       " [0.11089082]\n",
       " [0.4393365 ]\n",
       " [0.2017192 ]\n",
       " [0.8957636 ]\n",
       " [0.47537022]\n",
       " [0.56327557]]</p>\n",
       " <p>lrate = 1.0</p>\n",
       " <p>weight = 0.01</p>       \n",
       "        </div>\n",
       "                 </div>\n",
       "                 <div class=\"test-output\">\n",
       "                     <p>Your Output</p>\n",
       "                     <div class=\"code-block\">(0.4311036910990414, 0.31177651599372774)</div>\n",
       "                 </div>\n",
       "                 <div class=\"test-expected-output\">\n",
       "                     <p>Expected Output</p>\n",
       "                     <div class=\"code-block\">(0.4311036910990414, 0.3117765159937277)</div>\n",
       "                 </div>\n",
       "             </div>\n",
       "         </div>\n",
       "         <div class=\"card-container\">\n",
       "             <div class=\"card card-success\">\n",
       "                 <h2 class=\"card__title\">Test Case 5</h2>\n",
       "                 <div class=\"test-input\">\n",
       "                     <p>Input</p>\n",
       "                     <div class=\"code-block\">\n",
       " <p>x = [[0.24929223]\n",
       " [0.41038292]\n",
       " [0.75555114]\n",
       " [0.22879817]\n",
       " [0.07697991]\n",
       " [0.28975145]\n",
       " [0.16122129]\n",
       " [0.92969765]\n",
       " [0.80812038]\n",
       " [0.63340376]\n",
       " [0.87146059]\n",
       " [0.80367208]\n",
       " [0.18657006]\n",
       " [0.892559  ]\n",
       " [0.53934224]\n",
       " [0.80744016]\n",
       " [0.8960913 ]\n",
       " [0.31800347]\n",
       " [0.11005192]\n",
       " [0.22793516]\n",
       " [0.42710779]\n",
       " [0.81801477]\n",
       " [0.86073058]\n",
       " [0.00695213]\n",
       " [0.5107473 ]]</p>\n",
       " <p>y = [[0.417411  ]\n",
       " [0.22210781]\n",
       " [0.11986537]\n",
       " [0.33761517]\n",
       " [0.9429097 ]\n",
       " [0.32320293]\n",
       " [0.51879062]\n",
       " [0.70301896]\n",
       " [0.3636296 ]\n",
       " [0.97178208]\n",
       " [0.96244729]\n",
       " [0.2517823 ]\n",
       " [0.49724851]\n",
       " [0.30087831]\n",
       " [0.28484049]\n",
       " [0.03688695]\n",
       " [0.60956433]\n",
       " [0.50267902]\n",
       " [0.05147875]\n",
       " [0.27864646]\n",
       " [0.90826589]\n",
       " [0.23956189]\n",
       " [0.14489487]\n",
       " [0.48945276]\n",
       " [0.98565045]]</p>\n",
       " <p>lrate = 1.5</p>\n",
       " <p>weight = 1.0</p>       \n",
       "        </div>\n",
       "                 </div>\n",
       "                 <div class=\"test-output\">\n",
       "                     <p>Your Output</p>\n",
       "                     <div class=\"code-block\">(0.6235575431901041, 0.1919596602548623)</div>\n",
       "                 </div>\n",
       "                 <div class=\"test-expected-output\">\n",
       "                     <p>Expected Output</p>\n",
       "                     <div class=\"code-block\">(0.6235575431901041, 0.19195966025486227)</div>\n",
       "                 </div>\n",
       "             </div>\n",
       "         </div>\n",
       "    </div>\n",
       "</div>"
      ],
      "text/plain": [
       "<IPython.core.display.HTML object>"
      ]
     },
     "execution_count": 3,
     "metadata": {},
     "output_type": "execute_result"
    }
   ],
   "source": [
    "# test your solution \n",
    "from round02 import test_gradient_step_one_feature\n",
    "\n",
    "test_gradient_step_one_feature(gradient_step_onefeature)"
   ]
  },
  {
   "cell_type": "code",
   "execution_count": 4,
   "metadata": {
    "deletable": false,
    "editable": false,
    "nbgrader": {
     "cell_type": "code",
     "checksum": "c429d8729dfbde87ccc6c23f452cf605",
     "grade": true,
     "grade_id": "cell-850ad195e8f09930",
     "locked": true,
     "points": 3.5,
     "schema_version": 3,
     "solution": false,
     "task": false
    }
   },
   "outputs": [],
   "source": [
    "# hidden tests\n"
   ]
  },
  {
   "cell_type": "markdown",
   "metadata": {
    "deletable": false,
    "editable": false,
    "nbgrader": {
     "cell_type": "markdown",
     "checksum": "f276ebd59b1ee6fd24966f7b27c18c58",
     "grade": false,
     "grade_id": "cell-988a0c530bc19ce6",
     "locked": true,
     "schema_version": 3,
     "solution": false,
     "task": false
    }
   },
   "source": [
    "Now, let's use the `gradient_step_onefeature()` function and define a new function, `GD_onefeature()`, which will repeat the gradient step for a fixed amount of times (epochs)."
   ]
  },
  {
   "cell_type": "code",
   "execution_count": 5,
   "metadata": {
    "deletable": false,
    "editable": false,
    "nbgrader": {
     "cell_type": "code",
     "checksum": "fea9687d5064a0d78ac553c3140cc421",
     "grade": false,
     "grade_id": "cell-4a3575bb4c4ff610",
     "locked": true,
     "schema_version": 3,
     "solution": false,
     "task": false
    }
   },
   "outputs": [],
   "source": [
    "def GD_onefeature(x,y,epochs,lrate):  \n",
    "    \n",
    "    '''\n",
    "    Function for performing gradient descent for linear predictor and MSE as loss function.\n",
    "    The helper function `gradient_step_onefeature` performs gradient step for dataset of size `m`, \n",
    "    where each datapoint has only one feature. \n",
    "    \n",
    "    The inputs to the function `GD_onefeature()` are:\n",
    "    - numpy array with the feature values x of shape (m,1)\n",
    "    - numpy array with the labels y of shape (m,1)\n",
    "    - scalar value `epochs`, which is the number of epochs \n",
    "    - scalar value `lrate`, which is the coefficient alpha used during weight update (learning rate)\n",
    "    \n",
    "    '''\n",
    "    \n",
    "    # initialize weight vector randomly\n",
    "    np.random.seed(42)\n",
    "    weight = np.random.rand()    \n",
    "    # create a list to store the loss values \n",
    "    loss = []\n",
    "    weights = []\n",
    "     \n",
    "    for i in range(epochs):\n",
    "        # run the gradient step for the whole data set\n",
    "        weight, MSE = gradient_step_onefeature(x,y,weight,lrate)\n",
    "        # store current weight and training loss \n",
    "        weights.append(weight)\n",
    "        loss.append(MSE)\n",
    "                       \n",
    "    return weights, loss"
   ]
  },
  {
   "cell_type": "markdown",
   "metadata": {
    "deletable": false,
    "editable": false,
    "nbgrader": {
     "cell_type": "markdown",
     "checksum": "8d4c7169d9763df875589e02c7a8db24",
     "grade": false,
     "grade_id": "cell-f786b3942c413385",
     "locked": true,
     "schema_version": 3,
     "solution": false,
     "task": false
    }
   },
   "source": [
    "The code snippet below uses the sklearn.dataset `make_regression` function to generate data points with features and labels. The feature and label values are obtained from random generators. "
   ]
  },
  {
   "cell_type": "code",
   "execution_count": 6,
   "metadata": {
    "deletable": false,
    "editable": false,
    "nbgrader": {
     "cell_type": "code",
     "checksum": "2c7ee6b54e3c4d1231ca0b4f19793989",
     "grade": false,
     "grade_id": "cell-663b4c32a2e5d018",
     "locked": true,
     "schema_version": 3,
     "solution": false,
     "task": false
    }
   },
   "outputs": [],
   "source": [
    "# generate dataset for regression problem\n",
    "\n",
    "x, y = make_regression(n_samples=100, n_features=1, noise=20, random_state=42) \n",
    "y = y.reshape(-1,1)\n",
    "x = preprocessing.scale(x)"
   ]
  },
  {
   "cell_type": "code",
   "execution_count": 7,
   "metadata": {},
   "outputs": [
    {
     "name": "stdout",
     "output_type": "stream",
     "text": [
      "(100, 1) (100, 1)\n"
     ]
    }
   ],
   "source": [
    "print(x.shape, y.shape)"
   ]
  },
  {
   "cell_type": "markdown",
   "metadata": {
    "deletable": false,
    "editable": false,
    "nbgrader": {
     "cell_type": "markdown",
     "checksum": "5c5412a4e28e33d15d9a9ad540334788",
     "grade": false,
     "grade_id": "cell-c9f775200ef813cd",
     "locked": true,
     "schema_version": 3,
     "solution": false,
     "task": false
    }
   },
   "source": [
    "We used the sklearn `preprocessing` module ([docs](https://scikit-learn.org/stable/modules/generated/sklearn.preprocessing.scale.html#sklearn-preprocessing-scale)) to scale our features `x`. Learn [here](https://www.youtube.com/watch?v=r5E2X1JdHAU&list=PLLssT5z_DsK-h9vYZkQkYNWcItqhlRJLN&index=20), why it is useful to normalize the data when applying the gradient descent algorithm. "
   ]
  },
  {
   "cell_type": "code",
   "execution_count": 8,
   "metadata": {
    "deletable": false,
    "editable": false,
    "nbgrader": {
     "cell_type": "code",
     "checksum": "333ad397e471589b7ddb421ec2827d4c",
     "grade": false,
     "grade_id": "cell-b4ce18fd464b6ab3",
     "locked": true,
     "schema_version": 3,
     "solution": false,
     "task": false
    }
   },
   "outputs": [
    {
     "data": {
      "image/png": "[encoded data removed]",
      "text/plain": [
       "<Figure size 720x216 with 2 Axes>"
      ]
     },
     "metadata": {
      "needs_background": "light"
     },
     "output_type": "display_data"
    }
   ],
   "source": [
    "# set epoches and learning rate\n",
    "epochs = 100\n",
    "lrate = 0.1\n",
    "\n",
    "# store results\n",
    "(weights, loss) = GD_onefeature(x,y,epochs,lrate)\n",
    "\n",
    "# plot loss and weight values\n",
    "fig, ax = plt.subplots(1,2, figsize=(10,3), sharey=True)\n",
    "\n",
    "# Loss vs weights plot\n",
    "ax[0].plot(weights, loss)\n",
    "ax[0].set_xlabel(\"weight\", fontsize=16)\n",
    "ax[0].set_ylabel(\"Loss\", fontsize=16)\n",
    "\n",
    "# Loss vs epoch plot\n",
    "ax[1].plot(range(epochs), loss)\n",
    "ax[1].set_xlabel(\"epoch\", fontsize=16)\n",
    "\n",
    "\n",
    "plt.show()"
   ]
  },
  {
   "cell_type": "markdown",
   "metadata": {
    "deletable": false,
    "editable": false,
    "nbgrader": {
     "cell_type": "markdown",
     "checksum": "136394703fef3390ad8892b9fb8b7abf",
     "grade": false,
     "grade_id": "cell-d745d2e5ff5696e5",
     "locked": true,
     "schema_version": 3,
     "solution": false,
     "task": false
    }
   },
   "source": [
    "<a id='St2'></a>\n",
    "<div class=\" alert alert-warning\">\n",
    "   <h3><b>STUDENT TASK 2.2.</b> GRADIENT DESCENT - LEARNING RATE. </h3>\n",
    "\n",
    "Your task is to try out different learning rates for the GD implementation provided in the function `GD_onefeature()`. For each value of the learning rates in the numpy array `lrates` run the function `GD_onefeature()` that returns the sequence of weights $w^{(1)},w^{(2)},\\ldots$ and corresponding loss values $f\\big(w^{(1)}\\big),f\\big(w^{(2)}\\big)$. Store these sequences in the lists `weights_list` and `loss_list`, respectively. For each learning rate, depict the trajectory of GD given by the points $\\big(w^{(k)},f\\big(w^{(k)}\\big)\\big)$, index by the GD iteration number $k$, in a plot with horizontal axis representing the parameter and vertical axis representing the loss function values (see plot below for reference). </br>\n",
    "</div>"
   ]
  },
  {
   "cell_type": "markdown",
   "metadata": {
    "deletable": false,
    "editable": false,
    "nbgrader": {
     "cell_type": "markdown",
     "checksum": "815fd6a4d88198eecfac86bb73ef33b2",
     "grade": false,
     "grade_id": "cell-564973a8d0e96814",
     "locked": true,
     "schema_version": 3,
     "solution": false,
     "task": false
    }
   },
   "source": [
    " <img src=\"../../../coursedata/R2/STlrate.png\" width=460/>"
   ]
  },
  {
   "cell_type": "code",
   "execution_count": 9,
   "metadata": {
    "deletable": false,
    "nbgrader": {
     "cell_type": "code",
     "checksum": "c3f1088b6ea751c9d1fde877e64fedad",
     "grade": false,
     "grade_id": "cell-811a8a4d8714a5ce",
     "locked": false,
     "schema_version": 3,
     "solution": true,
     "task": false
    }
   },
   "outputs": [
    {
     "data": {
      "image/png": "[encoded data removed]",
      "text/plain": [
       "<Figure size 432x288 with 1 Axes>"
      ]
     },
     "metadata": {
      "needs_background": "light"
     },
     "output_type": "display_data"
    }
   ],
   "source": [
    "epochs = 100\n",
    "lrates = [0.001, 0.01, 0.1, 0.9]\n",
    "\n",
    "fig = plt.figure(figsize=(6,4))\n",
    "weights_list = []\n",
    "loss_list = []\n",
    "\n",
    "# YOUR CODE HERE\n",
    "#raise NotImplementedError()\n",
    "for lrate in lrates:\n",
    "    # use GD_onefeature function (GD_onefeature(x, y, epochs, lrate))\n",
    "    # to get weights & loss values for a certain lrate\n",
    "    weights, loss = GD_onefeature(x, y, epochs, lrate)\n",
    "    # append these values to weights_list & loss_list\n",
    "    weights_list.append(weights)\n",
    "    loss_list.append(loss)\n",
    "    \n",
    "\n",
    "# plot results\n",
    "for i, lrate in enumerate(lrates):\n",
    "    plt.plot(weights_list[i], loss_list[i], label=f\"lrate: {lrate}\")\n",
    "    plt.legend()\n",
    "\n",
    "plt.xlabel(\"weight\", fontsize=16)\n",
    "plt.ylabel(\"Loss\", fontsize=16)  \n",
    "plt.show()"
   ]
  },
  {
   "cell_type": "code",
   "execution_count": 10,
   "metadata": {},
   "outputs": [
    {
     "data": {
      "text/plain": [
       "4"
      ]
     },
     "execution_count": 10,
     "metadata": {},
     "output_type": "execute_result"
    }
   ],
   "source": [
    "#weights_list  # there are only one feature\n",
    "len(weights_list)  # 4 different lrates... each having weight at each epoch\n"
   ]
  },
  {
   "cell_type": "code",
   "execution_count": null,
   "metadata": {},
   "outputs": [],
   "source": []
  },
  {
   "cell_type": "code",
   "execution_count": 11,
   "metadata": {
    "deletable": false,
    "editable": false,
    "nbgrader": {
     "cell_type": "code",
     "checksum": "df53aef81d8a6bb0e14941aaac6174fb",
     "grade": false,
     "grade_id": "cell-aa358a025eb64e94",
     "locked": true,
     "schema_version": 3,
     "solution": false,
     "task": false
    }
   },
   "outputs": [],
   "source": [
    "# Sanity checks\n",
    "assert len(weights_list)==len(lrates), \"Length of list `weights_list` should be equal to length of `lrates`\"\n",
    "assert len(weights_list[0])==epochs, \"Length of list `weights_list[0]` should be equal to epoch number\"\n",
    "assert len(loss_list)==len(lrates), \"Length of list `loss_list` should be equal to length of `lrates`\"\n",
    "assert len(loss_list[0])==epochs, \"Length of list `loss_list[0]` should be equal to epoch number\""
   ]
  },
  {
   "cell_type": "code",
   "execution_count": 12,
   "metadata": {
    "deletable": false,
    "editable": false,
    "nbgrader": {
     "cell_type": "code",
     "checksum": "c535df367b0c76907fdb6c80e8bb6549",
     "grade": true,
     "grade_id": "cell-6bffb19cd2e7f648",
     "locked": true,
     "points": 2,
     "schema_version": 3,
     "solution": false,
     "task": false
    }
   },
   "outputs": [],
   "source": [
    "# hidden tests\n"
   ]
  },
  {
   "cell_type": "markdown",
   "metadata": {
    "deletable": false,
    "editable": false,
    "nbgrader": {
     "cell_type": "markdown",
     "checksum": "40d2842820d2e1d083a6adb9f0996cd2",
     "grade": false,
     "grade_id": "cell-8e6ed71ea6242596",
     "locked": true,
     "schema_version": 3,
     "solution": false,
     "task": false
    }
   },
   "source": [
    "Based on the graph, which learning rate values do you think are suboptimal? What will happen if you will use the learning rate `lrate= 1`?\n",
    "\n",
    "Below we plot data points and linear predictors with weights computed at 1st, 50th and 100th epochs for each learning rate."
   ]
  },
  {
   "cell_type": "code",
   "execution_count": 13,
   "metadata": {
    "deletable": false,
    "editable": false,
    "nbgrader": {
     "cell_type": "code",
     "checksum": "e12502422e1890330f918c2f343e6786",
     "grade": false,
     "grade_id": "cell-3a7b8b2316971726",
     "locked": true,
     "schema_version": 3,
     "solution": false,
     "task": false
    }
   },
   "outputs": [
    {
     "data": {
      "image/png": "[encoded data removed]",
      "text/plain": [
       "<Figure size 1080x288 with 4 Axes>"
      ]
     },
     "metadata": {
      "needs_background": "light"
     },
     "output_type": "display_data"
    }
   ],
   "source": [
    "fig, ax = plt.subplots(1,4, sharey=True, figsize=(15,4))\n",
    "\n",
    "for i in range(len(lrates)):\n",
    "        x_grid = np.linspace(x.min(),x.max(),100) # x-axis values for plotting\n",
    "        y_pred_1 = weights_list[i][0]*x_grid # get weight computed at epoch 1\n",
    "        y_pred_50 = weights_list[i][49]*x_grid # get weight computed at epoch 50\n",
    "        y_pred_100 = weights_list[i][99]*x_grid # get weight computed at epoch 100\n",
    "        \n",
    "        ax[i].scatter(x,y) # plot data points\n",
    "        ax[i].plot(x_grid, y_pred_1, label=\"epoch 1\", c='k') # plot predictor with weight at epoch 1\n",
    "        ax[i].plot(x_grid, y_pred_50, label=\"epoch 50\", c='g') # plot predictor with weight at epoch 50\n",
    "        ax[i].plot(x_grid, y_pred_100, label=\"epoch 100\", c='r') # plot predictor with weight at epoch 100\n",
    "        \n",
    "        # remove top and right subplot's frames \n",
    "        ax[i].spines['top'].set_visible(False)\n",
    "        ax[i].spines['right'].set_visible(False)\n",
    "        # set subplot's title\n",
    "        ax[i].set_title(\"lrate = \"+str(lrates[i]), fontsize=18)\n",
    "\n",
    "ax[3].legend()\n",
    "plt.ylim(-150,150)      \n",
    "plt.show()       "
   ]
  },
  {
   "cell_type": "markdown",
   "metadata": {
    "deletable": false,
    "editable": false,
    "nbgrader": {
     "cell_type": "markdown",
     "checksum": "35b9b874705956e93e3dc9df22d9337b",
     "grade": false,
     "grade_id": "cell-21024b817ac1e1a3",
     "locked": true,
     "schema_version": 3,
     "solution": false,
     "task": false
    }
   },
   "source": [
    "<a id='St3'></a>\n",
    "<div class=\" alert alert-success\">\n",
    "    <h3><b>STUDENT TASK 2.3. (OPTIONAL, not graded) . </b> GRADIENT DESCENT. </h3> \n",
    "    \n",
    "This is an <strong>optional (not graded)</strong> task where you will try vectorized implementation of GD for data points with many features. You will need the knowledge of matrix multiplication for completing the task.\n",
    "    \n",
    "    \n",
    "Your task is to write Gradient Descent implementation for a dataset of size $m$, where $i$th datapoint is characterized by $n$ features stored in feature vector $\\mathbf{x}^{(i)}$.\n",
    "\n",
    "The feature vectors of each datapoint are stored in matrix $X$ of shape $(m,n)$. The true labels of datapoints are stored in label vector $\\mathbf{y}$ of shape (m,1). \n",
    "\n",
    "You need to implement similar steps as previously, but in this case the loss function is:\n",
    "\n",
    "\\begin{align} \n",
    "f\\big( \\mathbf{w}\\big)= (1/m) \\sum_{i=1}^{m}\\big(y^{(i)} - \\mathbf{w}^{T} \\mathbf{x}^{(i)} \\big)^2\n",
    "\\end{align}\n",
    "    \n",
    "    \n",
    "and the gradient:\n",
    "    \n",
    "\\begin{align} \n",
    "\\nabla f\\big( \\mathbf{w}^{(k)} \\big)= - (2/m) \\sum_{i=1}^{m}\\mathbf{x}^{(i)} \\big(y^{(i)} - \\big( \\mathbf{w}^{(k)}\\big)^{T} \\mathbf{x}^{(i)} \\big) \\big)\n",
    "\\end{align}\n",
    "    \n",
    "where $\\mathbf{x}^{(i)}$ and  $\\mathbf{w}$ are arrays of shape $(n,1)$ and $n$ is a number of features.\n",
    "</div>\n",
    "\n"
   ]
  },
  {
   "cell_type": "markdown",
   "metadata": {
    "deletable": false,
    "editable": false,
    "nbgrader": {
     "cell_type": "markdown",
     "checksum": "f26eaf3ba9d027e1a73e2aa40ca7815d",
     "grade": false,
     "grade_id": "cell-94ac1f19a0bf58bd",
     "locked": true,
     "schema_version": 3,
     "solution": false,
     "task": false
    }
   },
   "source": [
    "<details>\n",
    "    <summary>\n",
    "        <span class=\"summary-title\">Hints</span>\n",
    "    </summary>\n",
    "    <div class=\"summary-content\">\n",
    "\n",
    "To implement the vectorized GD, you must use the following formulas:\n",
    "\n",
    "$\n",
    "\\begin{align}\n",
    "  \\hat{y} &= X \\times w \\\\\n",
    "  MSE &= \\frac{1}{m}  \\Sigma_{i=1}^m{(y - \\hat{y})^2} \\\\\n",
    "  \\nabla f\\big( \\mathbf{w} \\big) &= - \\frac{2}{m} X^T \\times (y - \\hat{y}) \\\\\n",
    "  w &= w - \\alpha \\nabla f\\big( \\mathbf{w} \\big)\n",
    "\\end{align}\n",
    "$\n",
    "\n",
    "where: </br>\n",
    " $\\times$ represents the matrix multiplication (`@` operator in numpy)\n",
    "     </div>    \n",
    "</details>    "
   ]
  },
  {
   "cell_type": "code",
   "execution_count": 14,
   "metadata": {
    "deletable": false,
    "nbgrader": {
     "cell_type": "code",
     "checksum": "d21bbf82933c26861efe824a1b37fc78",
     "grade": false,
     "grade_id": "cell-fe84e9067c0aa837",
     "locked": false,
     "schema_version": 3,
     "solution": true,
     "task": false
    }
   },
   "outputs": [],
   "source": [
    "def gradient_step(X, y, weight, lrate):\n",
    "    \n",
    "    '''\n",
    "    Function for performing gradient step with MSE loss function.\n",
    "      \n",
    "     The inputs to the function are:\n",
    "    - numpy array (matrix) with feature values X of shape (m,n)\n",
    "    - numpy array with labels y of shape (m,1)\n",
    "    - numpy array `weight` of shape (n,1), which is the weight used for computing prediction\n",
    "    - scalar value `lrate`, which is a coefficient alpha used during weight update\n",
    "\n",
    "    The function will return a new weight guess (updated weight value) and current MSE value.   \n",
    "    \n",
    "    '''\n",
    "# YOUR CODE HERE\n",
    "#raise NotImplementedError()\n",
    "    \n",
    "    # performing Gradient Step:\n",
    "\n",
    "    # 1. Compute predictions, given the feature matrix X of shape (m,n) and weight vector w of shape (n,1).\n",
    "    #    Predictions should be stored in an array `y_hat` of shape (m,1).\n",
    "    y_hat = X @ weight  # matmul\n",
    "    # 2. compute MSE loss\n",
    "    MSE = (1 / len(y_hat)) * ((y_hat - y)**2).sum()\n",
    "    # 3. compute average gradient of loss function\n",
    "    # X (m,n), y (m, 1)\n",
    "    # gradient is n x 1, gradient for each variable\n",
    "    gradient = (-2 / len(y_hat)) * (X.T @ (y - y_hat))\n",
    "    \n",
    "    # 4. update the weights\n",
    "    weight = weight - lrate * gradient\n",
    "    \n",
    "    return weight, MSE "
   ]
  },
  {
   "cell_type": "code",
   "execution_count": 15,
   "metadata": {
    "deletable": false,
    "editable": false,
    "nbgrader": {
     "cell_type": "code",
     "checksum": "96c07b6e23cd04afe79aa96be2351902",
     "grade": false,
     "grade_id": "cell-f7aa818e7be52c49",
     "locked": true,
     "schema_version": 3,
     "solution": false,
     "task": false
    }
   },
   "outputs": [
    {
     "data": {
      "text/html": [
       "<div class=\"main-container\">\n",
       "    <div class=\"title-container\">\n",
       "        <h1 class=\"title\">Congratulations!</h1>\n",
       "        <h3 class=\"subtitle\">You have passed the test cases.</h3>\n",
       "\n",
       "         <div class=\"card-container\">\n",
       "             <div class=\"card card-success\">\n",
       "                 <h2 class=\"card__title\">Test Case 1</h2>\n",
       "                 <div class=\"test-input\">\n",
       "                     <p>Input</p>\n",
       "                     <div class=\"code-block\">\n",
       " <p>x = [[0.37454012]\n",
       " [0.95071431]\n",
       " [0.73199394]\n",
       " [0.59865848]\n",
       " [0.15601864]]</p>\n",
       " <p>y = [[0.15599452]\n",
       " [0.05808361]\n",
       " [0.86617615]\n",
       " [0.60111501]\n",
       " [0.70807258]]</p>\n",
       " <p>lrate = 1.0</p>\n",
       " <p>weight = [[0.78441223]]</p>       \n",
       "        </div>\n",
       "                 </div>\n",
       "                 <div class=\"test-output\">\n",
       "                     <p>Your Output</p>\n",
       "                     <div class=\"code-block\">(array([[0.65579716]]), 0.18749301372571825)</div>\n",
       "                 </div>\n",
       "                 <div class=\"test-expected-output\">\n",
       "                     <p>Expected Output</p>\n",
       "                     <div class=\"code-block\">(array([[0.65579716]]), 0.18749301372571825)</div>\n",
       "                 </div>\n",
       "             </div>\n",
       "         </div>\n",
       "         <div class=\"card-container\">\n",
       "             <div class=\"card card-success\">\n",
       "                 <h2 class=\"card__title\">Test Case 2</h2>\n",
       "                 <div class=\"test-input\">\n",
       "                     <p>Input</p>\n",
       "                     <div class=\"code-block\">\n",
       " <p>x = [[5.64115790e-02 7.21998772e-01]\n",
       " [9.38552709e-01 7.78765841e-04]\n",
       " [9.92211559e-01 6.17481510e-01]\n",
       " [6.11653160e-01 7.06630522e-03]\n",
       " [2.30624250e-02 5.24774660e-01]\n",
       " [3.99860972e-01 4.66656632e-02]\n",
       " [9.73755519e-01 2.32771340e-01]\n",
       " [9.06064345e-02 6.18386009e-01]\n",
       " [3.82461991e-01 9.83230886e-01]\n",
       " [4.66762893e-01 8.59940407e-01]]</p>\n",
       " <p>y = [[0.68030754]\n",
       " [0.45049925]\n",
       " [0.01326496]\n",
       " [0.94220176]\n",
       " [0.56328822]\n",
       " [0.3854165 ]\n",
       " [0.01596625]\n",
       " [0.23089383]\n",
       " [0.24102547]\n",
       " [0.68326352]]</p>\n",
       " <p>lrate = 0.5</p>\n",
       " <p>weight = [[0.68606114]\n",
       " [0.38033368]]</p>       \n",
       "        </div>\n",
       "                 </div>\n",
       "                 <div class=\"test-output\">\n",
       "                     <p>Your Output</p>\n",
       "                     <div class=\"code-block\">(array([[0.53059641],\n",
       "       [0.31303409]]), 0.20968795365619086)</div>\n",
       "                 </div>\n",
       "                 <div class=\"test-expected-output\">\n",
       "                     <p>Expected Output</p>\n",
       "                     <div class=\"code-block\">(array([[0.53059641],\n",
       "       [0.31303409]]), 0.20968795365619086)</div>\n",
       "                 </div>\n",
       "             </div>\n",
       "         </div>\n",
       "         <div class=\"card-container\">\n",
       "             <div class=\"card card-success\">\n",
       "                 <h2 class=\"card__title\">Test Case 3</h2>\n",
       "                 <div class=\"test-input\">\n",
       "                     <p>Input</p>\n",
       "                     <div class=\"code-block\">\n",
       " <p>x = [[0.83319491 0.17336465 0.39106061]\n",
       " [0.18223609 0.75536141 0.42515587]\n",
       " [0.20794166 0.56770033 0.03131329]\n",
       " [0.84228477 0.44975413 0.39515024]\n",
       " [0.92665887 0.727272   0.32654077]\n",
       " [0.57044397 0.52083426 0.96117202]\n",
       " [0.84453385 0.74732011 0.53969213]\n",
       " [0.58675117 0.96525531 0.60703425]\n",
       " [0.27599918 0.29627351 0.16526694]\n",
       " [0.01563641 0.42340148 0.39488152]\n",
       " [0.29348817 0.01407982 0.1988424 ]\n",
       " [0.71134195 0.79017554 0.60595997]\n",
       " [0.92630088 0.65107703 0.91495968]\n",
       " [0.85003858 0.44945067 0.09541012]\n",
       " [0.37081825 0.66884125 0.66592236]]</p>\n",
       " <p>y = [[0.59129779]\n",
       " [0.27472179]\n",
       " [0.56124343]\n",
       " [0.38292687]\n",
       " [0.9717121 ]\n",
       " [0.84891382]\n",
       " [0.72172952]\n",
       " [0.23598492]\n",
       " [0.25606832]\n",
       " [0.04043359]\n",
       " [0.71066289]\n",
       " [0.11089082]\n",
       " [0.4393365 ]\n",
       " [0.2017192 ]\n",
       " [0.8957636 ]]</p>\n",
       " <p>lrate = 0.5</p>\n",
       " <p>weight = [[0.56075093]\n",
       " [0.37646863]\n",
       " [0.15171939]]</p>       \n",
       "        </div>\n",
       "                 </div>\n",
       "                 <div class=\"test-output\">\n",
       "                     <p>Your Output</p>\n",
       "                     <div class=\"code-block\">(array([[0.46161552],\n",
       "       [0.27815275],\n",
       "       [0.08496689]]), 0.12289582533903537)</div>\n",
       "                 </div>\n",
       "                 <div class=\"test-expected-output\">\n",
       "                     <p>Expected Output</p>\n",
       "                     <div class=\"code-block\">(array([[0.46161552],\n",
       "       [0.27815275],\n",
       "       [0.08496689]]), 0.12289582533903537)</div>\n",
       "                 </div>\n",
       "             </div>\n",
       "         </div>\n",
       "         <div class=\"card-container\">\n",
       "             <div class=\"card card-success\">\n",
       "                 <h2 class=\"card__title\">Test Case 4</h2>\n",
       "                 <div class=\"test-input\">\n",
       "                     <p>Input</p>\n",
       "                     <div class=\"code-block\">\n",
       " <p>x = [[0.31435598 0.50857069 0.90756647 0.24929223]\n",
       " [0.41038292 0.75555114 0.22879817 0.07697991]\n",
       " [0.28975145 0.16122129 0.92969765 0.80812038]\n",
       " [0.63340376 0.87146059 0.80367208 0.18657006]\n",
       " [0.892559   0.53934224 0.80744016 0.8960913 ]\n",
       " [0.31800347 0.11005192 0.22793516 0.42710779]\n",
       " [0.81801477 0.86073058 0.00695213 0.5107473 ]\n",
       " [0.417411   0.22210781 0.11986537 0.33761517]\n",
       " [0.9429097  0.32320293 0.51879062 0.70301896]\n",
       " [0.3636296  0.97178208 0.96244729 0.2517823 ]\n",
       " [0.49724851 0.30087831 0.28484049 0.03688695]\n",
       " [0.60956433 0.50267902 0.05147875 0.27864646]\n",
       " [0.90826589 0.23956189 0.14489487 0.48945276]\n",
       " [0.98565045 0.24205527 0.67213555 0.76161962]\n",
       " [0.23763754 0.72821635 0.36778313 0.63230583]\n",
       " [0.63352971 0.53577468 0.09028977 0.8353025 ]\n",
       " [0.32078006 0.18651851 0.04077514 0.59089294]\n",
       " [0.67756436 0.01658783 0.51209306 0.22649578]\n",
       " [0.64517279 0.17436643 0.69093774 0.38673535]\n",
       " [0.93672999 0.13752094 0.34106635 0.11347352]]</p>\n",
       " <p>y = [[0.92469362]\n",
       " [0.87733935]\n",
       " [0.25794163]\n",
       " [0.65998405]\n",
       " [0.8172222 ]\n",
       " [0.55520081]\n",
       " [0.52965058]\n",
       " [0.24185229]\n",
       " [0.09310277]\n",
       " [0.89721576]\n",
       " [0.90041806]\n",
       " [0.63310146]\n",
       " [0.33902979]\n",
       " [0.34920957]\n",
       " [0.72595568]\n",
       " [0.89711026]\n",
       " [0.88708642]\n",
       " [0.77987555]\n",
       " [0.64203165]\n",
       " [0.08413996]]</p>\n",
       " <p>lrate = 1.0</p>\n",
       " <p>weight = [[0.95057055]\n",
       " [0.11872192]\n",
       " [0.4669843 ]\n",
       " [0.57083584]]</p>       \n",
       "        </div>\n",
       "                 </div>\n",
       "                 <div class=\"test-output\">\n",
       "                     <p>Your Output</p>\n",
       "                     <div class=\"code-block\">(array([[ 0.21351544],\n",
       "       [-0.20759747],\n",
       "       [-0.02601704],\n",
       "       [ 0.02903924]]), 0.4680104409735039)</div>\n",
       "                 </div>\n",
       "                 <div class=\"test-expected-output\">\n",
       "                     <p>Expected Output</p>\n",
       "                     <div class=\"code-block\">(array([[ 0.21351544],\n",
       "       [-0.20759747],\n",
       "       [-0.02601704],\n",
       "       [ 0.02903924]]), 0.46801044097350386)</div>\n",
       "                 </div>\n",
       "             </div>\n",
       "         </div>\n",
       "         <div class=\"card-container\">\n",
       "             <div class=\"card card-success\">\n",
       "                 <h2 class=\"card__title\">Test Case 5</h2>\n",
       "                 <div class=\"test-input\">\n",
       "                     <p>Input</p>\n",
       "                     <div class=\"code-block\">\n",
       " <p>x = [[0.66898825 0.58068662 0.37228277 0.94013344 0.97366384]\n",
       " [0.28392097 0.30536386 0.48561375 0.44842414 0.99445746]\n",
       " [0.17592525 0.01807536 0.49389372 0.17882271 0.36646878]\n",
       " [0.74417052 0.72093992 0.30806079 0.54254023 0.50881408]\n",
       " [0.63633262 0.25046182 0.58987085 0.97889286 0.48674215]\n",
       " [0.90609879 0.43439437 0.35007841 0.64510336 0.66892406]\n",
       " [0.86416757 0.23018527 0.49919338 0.5720042  0.76855401]\n",
       " [0.04360377 0.99455051 0.46994451 0.27956034 0.88349402]\n",
       " [0.74771877 0.95307185 0.3307503  0.55276497 0.57229247]\n",
       " [0.98033158 0.07534626 0.30569702 0.19091103 0.26847486]\n",
       " [0.48527987 0.37268687 0.39469147 0.84421314 0.93001683]\n",
       " [0.07041613 0.20891872 0.67114352 0.35864678 0.25416365]\n",
       " [0.29529059 0.32255076 0.84866979 0.13662133 0.708911  ]\n",
       " [0.55281998 0.29651014 0.41978086 0.25620694 0.61151371]\n",
       " [0.08159418 0.00518486 0.62789441 0.19427395 0.07094092]\n",
       " [0.39678383 0.05076853 0.88661715 0.02761677 0.5788649 ]\n",
       " [0.43847412 0.67202614 0.32815267 0.15504162 0.98184089]\n",
       " [0.8389335  0.86040462 0.25025136 0.03883473 0.30326551]\n",
       " [0.53708243 0.32665124 0.827869   0.27154292 0.96525183]\n",
       " [0.45726516 0.84202308 0.19438003 0.41135391 0.69951221]\n",
       " [0.13835309 0.13274542 0.96953687 0.7145951  0.04106752]\n",
       " [0.3988209  0.43352074 0.74404264 0.25086053 0.18433367]\n",
       " [0.08087297 0.42831447 0.6884999  0.0581936  0.91521373]\n",
       " [0.44235223 0.23978736 0.09387329 0.182866   0.934614  ]\n",
       " [0.63827059 0.51669626 0.65711133 0.4356729  0.73003932]]</p>\n",
       " <p>y = [[0.04771613]\n",
       " [0.56603721]\n",
       " [0.15864645]\n",
       " [0.12016465]\n",
       " [0.34187967]\n",
       " [0.09179907]\n",
       " [0.09415699]\n",
       " [0.31141331]\n",
       " [0.97951053]\n",
       " [0.17533027]\n",
       " [0.0171611 ]\n",
       " [0.76336442]\n",
       " [0.80691298]\n",
       " [0.34630432]\n",
       " [0.46467381]\n",
       " [0.64977368]\n",
       " [0.04805892]\n",
       " [0.94914573]\n",
       " [0.88668039]\n",
       " [0.26089362]\n",
       " [0.01530454]\n",
       " [0.93343631]\n",
       " [0.50103988]\n",
       " [0.53937745]\n",
       " [0.68396377]]</p>\n",
       " <p>lrate = 1.5</p>\n",
       " <p>weight = [[0.35702151]\n",
       " [0.91454884]\n",
       " [0.67153631]\n",
       " [0.06304665]\n",
       " [0.43613529]]</p>       \n",
       "        </div>\n",
       "                 </div>\n",
       "                 <div class=\"test-output\">\n",
       "                     <p>Your Output</p>\n",
       "                     <div class=\"code-block\">(array([[-0.82537548],\n",
       "       [-0.19667635],\n",
       "       [-0.38957015],\n",
       "       [-0.98451273],\n",
       "       [-1.154122  ]]), 0.736085527807435)</div>\n",
       "                 </div>\n",
       "                 <div class=\"test-expected-output\">\n",
       "                     <p>Expected Output</p>\n",
       "                     <div class=\"code-block\">(array([[-0.82537548],\n",
       "       [-0.19667635],\n",
       "       [-0.38957015],\n",
       "       [-0.98451273],\n",
       "       [-1.154122  ]]), 0.736085527807435)</div>\n",
       "                 </div>\n",
       "             </div>\n",
       "         </div>\n",
       "    </div>\n",
       "</div>"
      ],
      "text/plain": [
       "<IPython.core.display.HTML object>"
      ]
     },
     "execution_count": 15,
     "metadata": {},
     "output_type": "execute_result"
    }
   ],
   "source": [
    "# test your solution \n",
    "from round02 import test_gradient_step\n",
    "\n",
    "test_gradient_step(gradient_step)"
   ]
  },
  {
   "cell_type": "markdown",
   "metadata": {
    "deletable": false,
    "editable": false,
    "nbgrader": {
     "cell_type": "markdown",
     "checksum": "da51a8f415fc9cd0d2580293dda2a4ba",
     "grade": false,
     "grade_id": "cell-47e93370eaaec0a6",
     "locked": true,
     "schema_version": 3,
     "solution": false,
     "task": false
    }
   },
   "source": [
    "Now, let's use the completed `gradient_step()` function and define the `GD()` function that will repeat the gradient step for fixed amounts of times (epochs)."
   ]
  },
  {
   "cell_type": "code",
   "execution_count": 16,
   "metadata": {
    "deletable": false,
    "editable": false,
    "nbgrader": {
     "cell_type": "code",
     "checksum": "3120c56dc28f9b781c0b1c06c05b8dd9",
     "grade": false,
     "grade_id": "cell-6e70b0a0a2d5117d",
     "locked": true,
     "schema_version": 3,
     "solution": false,
     "task": false
    }
   },
   "outputs": [],
   "source": [
    "def GD(X,y,epochs,lrate):  \n",
    "    '''\n",
    "    Function for performing gradient descent for linear predictor and MSE as loss function.\n",
    "    The helper function `gradient_step` performs gradient step for dataset of size `m`, \n",
    "    where each datapoint has `n` features. \n",
    "    \n",
    "    '''\n",
    "    \n",
    "    # initialize the weight vector randomly\n",
    "    np.random.seed(42)\n",
    "    weight = np.random.rand(X.shape[1],1)    \n",
    "    # create a list to store the loss values \n",
    "    weights = []\n",
    "    loss = []\n",
    "     \n",
    "    for i in range(epochs):\n",
    "        # run the gradient step for the whole dataset\n",
    "        weight, MSE = gradient_step(X, y, weight, lrate)\n",
    "        # store the MSE loss of each batch of each epoch\n",
    "        weights.append(weight)\n",
    "        loss.append(MSE)\n",
    "                       \n",
    "    return weights, loss"
   ]
  },
  {
   "cell_type": "code",
   "execution_count": 17,
   "metadata": {
    "deletable": false,
    "editable": false,
    "nbgrader": {
     "cell_type": "code",
     "checksum": "19ab2b706955cf895eef2b1329269b22",
     "grade": false,
     "grade_id": "cell-aaff04830999aeb3",
     "locked": true,
     "schema_version": 3,
     "solution": false,
     "task": false
    }
   },
   "outputs": [],
   "source": [
    "# generate a dataset for a regression problem\n",
    "# in this case we will set number of features to four\n",
    "\n",
    "X2, y2 = make_regression(n_samples=100, n_features=4, noise=20, random_state=42) \n",
    "y2 = y2.reshape(-1,1)\n",
    "\n",
    "X2 = preprocessing.scale(X2)"
   ]
  },
  {
   "cell_type": "code",
   "execution_count": 18,
   "metadata": {
    "deletable": false,
    "editable": false,
    "nbgrader": {
     "cell_type": "code",
     "checksum": "74026f0b442ada2c743d7ad6e6317777",
     "grade": false,
     "grade_id": "cell-1d16b774ab7239a5",
     "locked": true,
     "schema_version": 3,
     "solution": false,
     "task": false
    }
   },
   "outputs": [
    {
     "data": {
      "image/png": "[encoded data removed]",
      "text/plain": [
       "<Figure size 576x288 with 1 Axes>"
      ]
     },
     "metadata": {
      "needs_background": "light"
     },
     "output_type": "display_data"
    }
   ],
   "source": [
    "# set epoch and learning rate\n",
    "epochs = 100\n",
    "lrate = 0.1\n",
    "\n",
    "# store results\n",
    "(weights, loss) = GD(X2, y2, epochs, lrate)\n",
    "\n",
    "# print the cost function\n",
    "fig,ax = plt.subplots(figsize=(8,4))\n",
    "\n",
    "ax.set_ylabel('Loss', fontsize=16)\n",
    "ax.set_xlabel('epochs', fontsize=16)\n",
    "ax.plot(range(epochs), loss, 'b.')\n",
    "\n",
    "plt.show()"
   ]
  },
  {
   "cell_type": "markdown",
   "metadata": {
    "deletable": false,
    "editable": false,
    "nbgrader": {
     "cell_type": "markdown",
     "checksum": "fc2d77ca63346d8014e8d2896371cf4a",
     "grade": false,
     "grade_id": "cell-dfd4b62673e3f59b",
     "locked": true,
     "schema_version": 3,
     "solution": false,
     "task": false
    }
   },
   "source": [
    "<a id='St4'></a>\n",
    "<div class=\" alert alert-warning\">\n",
    "    <h3><b>STUDENT TASK 2.4.</b> Compare your implementation with sklearn `LinearRegression` class. </h3>\n",
    "    \n",
    "We can compare the optimal weights learned by our simple algorithm and the optimal weight calculated by Sklearn's <a href=https://scikit-learn.org/stable/modules/generated/sklearn.linear_model.LinearRegression.html>LinearRegression</a> class. This class does not use iterative gradient-based algorithms but rather calculate the optimal weight analytically <a href=\"https://www.youtube.com/watch?v=B-Ks01zR4HY\">learn more here</a>.\n",
    "\n",
    "Retrieve weight returned by `GD_onefeature()` function on the last epoch. Store it in variable `gd_weight`.\n",
    "Note, if weight returned by `GD_onefeature()` is similar to the optimal weight returned by sklearn `LinearRegression()` class. \n",
    "</div>"
   ]
  },
  {
   "cell_type": "code",
   "execution_count": 19,
   "metadata": {
    "deletable": false,
    "nbgrader": {
     "cell_type": "code",
     "checksum": "86b9132dab93035bdb8cb9d82a8c707c",
     "grade": false,
     "grade_id": "cell-768f3b5086d9d2bc",
     "locked": false,
     "schema_version": 3,
     "solution": true,
     "task": false
    }
   },
   "outputs": [
    {
     "name": "stdout",
     "output_type": "stream",
     "text": [
      "Optimal weights calculated by the LinearRegression model: [42.59035782]\n",
      "          Optimal weights calculated by the GD algorithm: [42.59035781]\n"
     ]
    }
   ],
   "source": [
    "# set epoch and learning rate\n",
    "epochs = 100\n",
    "lrate = 0.1\n",
    "\n",
    "# create a linear regression model \n",
    "reg = LinearRegression(fit_intercept=False) \n",
    "# fit the linear regression model with `reg = reg.fit(data, labels)`\n",
    "reg = reg.fit(x, y)\n",
    "# print the optimal coefficients\n",
    "print(f'Optimal weights calculated by the LinearRegression model: {reg.coef_.reshape(-1,)}')\n",
    "\n",
    "# YOUR CODE HERE\n",
    "#raise NotImplementedError()\n",
    "\n",
    "# retrieve weight values returned by `GD_onefeature()` on the LAST epoch\n",
    "gd_weight = GD_onefeature(x, y, epochs, lrate)[0][-1]\n",
    "\n",
    "\n",
    "print(f'{\" \"*9} Optimal weights calculated by the GD algorithm: {gd_weight.reshape(-1,)}')"
   ]
  },
  {
   "cell_type": "code",
   "execution_count": 20,
   "metadata": {
    "deletable": false,
    "editable": false,
    "nbgrader": {
     "cell_type": "code",
     "checksum": "ad9952ade102e5a533a5678620515b01",
     "grade": false,
     "grade_id": "cell-87e4e9c976e542b4",
     "locked": true,
     "schema_version": 3,
     "solution": false,
     "task": false
    }
   },
   "outputs": [],
   "source": [
    "# Sanity check\n",
    "from numpy.testing import assert_almost_equal\n",
    "assert_almost_equal(reg.coef_.reshape(-1,), gd_weight.reshape(-1,), err_msg=\"reg.coef_ and gd_weight should be equal! \")"
   ]
  },
  {
   "cell_type": "code",
   "execution_count": 21,
   "metadata": {
    "deletable": false,
    "editable": false,
    "nbgrader": {
     "cell_type": "code",
     "checksum": "7a28ef109070a3346ebb2dde98f0e387",
     "grade": true,
     "grade_id": "cell-d268e98b5be767f7",
     "locked": true,
     "points": 1,
     "schema_version": 3,
     "solution": false,
     "task": false
    }
   },
   "outputs": [],
   "source": [
    "# hidden test\n"
   ]
  },
  {
   "cell_type": "markdown",
   "metadata": {
    "deletable": false,
    "editable": false,
    "nbgrader": {
     "cell_type": "markdown",
     "checksum": "9e0e3b10aad99d7d5e4a21b9b87baf09",
     "grade": false,
     "grade_id": "cell-5b81fb9fdb99f93d",
     "locked": true,
     "schema_version": 3,
     "solution": false,
     "task": false
    }
   },
   "source": [
    "With correct implementation of `gradient_step_onefeature()` you should see that optimal weight(s) values returned by our algorithm and `LinearRegression` are close (equal to 7 decimal places). Thus, our simple gradient descent algorithm does not deviate too much from the `Sklearn` implementation of linear regression. "
   ]
  },
  {
   "cell_type": "markdown",
   "metadata": {
    "deletable": false,
    "editable": false,
    "nbgrader": {
     "cell_type": "markdown",
     "checksum": "0f2fbae7fa1acf3ae888d1826ad5fa10",
     "grade": false,
     "grade_id": "cell-ab7d99814fb54024",
     "locked": true,
     "schema_version": 3,
     "solution": false,
     "task": false
    }
   },
   "source": [
    "<a id='St5'></a>\n",
    "<div class=\" alert alert-success\">\n",
    "     <h3><b>STUDENT TASK 2.5. (OPTIONAL, not graded). </b> STOPPING CRITERIA. </h3>\n",
    "    \n",
    "Your task is to modify <code>GD_onefeature()</code> or <code>GD()</code> code and introduce stopping criteria other than a fixed number of iterations (epochs). You will need to compare loss values returned on the last two epochs and stop GD when the loss will stop decreasing significantly (e.g. the loss decrease is less than 1e-6). In addition, introduce a maximum number of iterations GD can perform, in order to prevent GD from running for a long time. The function should return last weight(s), loss, and the number of iterations performed.\n",
    "    \n",
    "</div>"
   ]
  },
  {
   "cell_type": "markdown",
   "metadata": {
    "deletable": false,
    "editable": false,
    "nbgrader": {
     "cell_type": "markdown",
     "checksum": "7fe0e80dadc372379cb4c542e92ae9e4",
     "grade": false,
     "grade_id": "cell-38261cb510dfb699",
     "locked": true,
     "schema_version": 3,
     "solution": false,
     "task": false
    }
   },
   "source": [
    "<details>\n",
    "    <summary>\n",
    "        <span class=\"summary-title\">Hints</span>\n",
    "    </summary>\n",
    "\n",
    "- You can use for loop to iterate epoch times and if loop to check if the stopping condition is true.\n",
    "- You can use `math.isclose()` function to compare 2 values to desired precision.\n",
    "     </div>    \n",
    "</details>    "
   ]
  },
  {
   "cell_type": "code",
   "execution_count": 22,
   "metadata": {
    "deletable": false,
    "nbgrader": {
     "cell_type": "code",
     "checksum": "20748e2e1bf50ef2067a2daa8a24f21e",
     "grade": false,
     "grade_id": "cell-7bd15f464106855b",
     "locked": false,
     "schema_version": 3,
     "solution": true,
     "task": false
    }
   },
   "outputs": [],
   "source": [
    "import math\n",
    "\n",
    "def GD_stop(X, y, epochs, lrate, eps=1e-6):  \n",
    "    \n",
    "    '''\n",
    "    \n",
    "    Function for performing gradient descent for linear predictor and MSE as loss function.\n",
    "    The helper function `gradient_step_onefeature` performs gradient step for dataset of size `m`, \n",
    "    where each datapoint has `1` feature. \n",
    "    \n",
    "    '''       \n",
    "    # initialize weight vector randomly\n",
    "    np.random.seed(42)\n",
    "    weight = np.random.rand()    \n",
    "    # create a list to store the loss values \n",
    "    loss = []\n",
    "    weights = []\n",
    "     \n",
    "    for i in range(epochs):\n",
    "        # run the gradient step for the whole data set\n",
    "        weight, MSE = gradient_step_onefeature(x,y,weight,lrate)\n",
    "        \n",
    "        # store current weight and training loss \n",
    "        weights.append(weight)\n",
    "        loss.append(MSE)\n",
    "        \n",
    "        if i > 0 and (loss[-2] - MSE) < eps:\n",
    "            # early stopping\n",
    "            break\n",
    "\n",
    "    return weights, loss, i+1"
   ]
  },
  {
   "cell_type": "code",
   "execution_count": 23,
   "metadata": {
    "deletable": false,
    "editable": false,
    "nbgrader": {
     "cell_type": "code",
     "checksum": "bdb2d3dd8374e82c3814e167cbb4529a",
     "grade": false,
     "grade_id": "cell-4f78dace1c91a426",
     "locked": true,
     "schema_version": 3,
     "solution": false,
     "task": false
    }
   },
   "outputs": [
    {
     "name": "stdout",
     "output_type": "stream",
     "text": [
      "Number of epochs: 48\n",
      "Loss: 318.7931101797762\n",
      "Weights:[42.58941638]\n"
     ]
    }
   ],
   "source": [
    "# set learning rate\n",
    "lrate = 0.1\n",
    "epochs = 100\n",
    "\n",
    "# store the results\n",
    "(weights, loss, iterations) = GD_stop(x, y, epochs, lrate)\n",
    "\n",
    "print(f'Number of epochs: {iterations}\\nLoss: {loss[-1]}\\nWeights:{weights[-1].reshape((-1, ))}')"
   ]
  },
  {
   "cell_type": "markdown",
   "metadata": {
    "deletable": false,
    "editable": false,
    "nbgrader": {
     "cell_type": "markdown",
     "checksum": "6b0ec695b1683f57710f47c14cf74e19",
     "grade": false,
     "grade_id": "cell-d1ebe1415256d4b6",
     "locked": true,
     "schema_version": 3,
     "solution": false,
     "task": false
    }
   },
   "source": [
    "Note, if algorithm stopped earlier than epochs set. Try to change tolerance parameters in `math.isclose()` and see if there is a difference."
   ]
  },
  {
   "cell_type": "markdown",
   "metadata": {
    "deletable": false,
    "editable": false,
    "nbgrader": {
     "cell_type": "markdown",
     "checksum": "8eb1d8e52e6a2ccded5726f29ffd9e4d",
     "grade": false,
     "grade_id": "cell-10728a3a722a705c",
     "locked": true,
     "schema_version": 3,
     "solution": false,
     "task": false
    }
   },
   "source": [
    "## Wrap up - Gradient Descent\n",
    "\n",
    "- Gradient Descent (GD) is one of the most popular optimization methods used in artificial neural networks.\n",
    "- GD is an iterative algorithm used to find optimal parameters (weights) of the model (predictor).\n",
    "- GD makes small steps in the opposite direction of the gradient, which is also the direction of the steepest descent.\n",
    "- Learning rate of GD will define how big are steps made in order to reach the minimum of the loss function.\n",
    "- If the learning rate is too small, it will take a long time for GD to learn optimal weights. If the learning rate is too high, GD parameters update will overshoot the minimum of the loss function and loss values will fluctuate around the minimum, or in the worst case, GD may diverge."
   ]
  },
  {
   "cell_type": "markdown",
   "metadata": {
    "deletable": false,
    "editable": false,
    "nbgrader": {
     "cell_type": "markdown",
     "checksum": "94bde83ac9c7b0c2a4aca0a1524ba725",
     "grade": false,
     "grade_id": "cell-9e201cd34a35a933",
     "locked": true,
     "schema_version": 3,
     "solution": false,
     "task": false
    }
   },
   "source": [
    "# Stochastic Gradient Descent \n",
    "\n",
    "Despite its conceptual simplicity, GD might not be practical in ML applications involving massive amounts of data. Consider image classification where state-of-the-art deep learning methods are trained on billions of images. The challenge in using GD for such big data applications is the computational complexity of computing the gradient $\\nabla f\\big( \\mathbf{w}^{(k)} \\big)$ of the loss function at the current estimate $\\mathbf{w}^{(k)}$. \n",
    "\n",
    "Let us have a closer look at the computation of the gradient for the special case of linear predictor maps $h^{(\\mathbf{w})}(\\mathbf{x}) = \\mathbf{w}^{T} \\mathbf{x}$. In this case, we can find a closed-form expression for the gradient: \n",
    "\n",
    "\\begin{align} \n",
    "\\nabla f\\big( \\mathbf{w}^{(k)} \\big)= - (2/m) \\sum_{i=1}^{m}\\mathbf{x}^{(i)} \\big(y^{(i)} - \\big( \\mathbf{w}^{(k)}\\big)^{T} \\mathbf{x}^{(i)} \\big) \\big). \\end{align}\n",
    "\n",
    "The difficulty is that the summation involves all $m$ data points that form the training set. Thus, we might need to sum over billions of data points. Moreover, the data points might be stored decentralized all over the internet (in the \"cloud\"). A single iteration of GD might then simply take too long.\n",
    "\n",
    "In order to avoid the computational burden of computing the gradient, stochastic GD (SGD) approximates the gradient by using only a small subset (a \"batch\") of training data points. SGD is obtained from GD by replacing the exact gradient step with a noisy gradient update: \n",
    "\n",
    "$$\\mbox{(Noisy Gradient Step)} \\quad \\underbrace{\\mathbf{w}^{(k+1)}}_{\\mbox{new guess}} = \\underbrace{\\mathbf{w}^{(k)}}_{\\mbox{current guess}} - \\underbrace{\\alpha^{(k)}}_{\\mbox{step size}}\\mathbf{g}^{(k)} \\mbox{ with } \\mathbf{g}^{(k)} \\approx \\nabla f\\big(\\mathbf{w}^{(k)}\\big).$$ \n",
    "Note that we now use a varying step-size $\\alpha^{(k)}$ that changes along with the iterations. This is necessary in order to attenuate the noise in the gradient estimate $\\mathbf{g}^{(k)}$. \n",
    "\n",
    "The most basic variant of SGD uses a single randomly chosen data point for computing the gradient estimate $\\mathbf{g}^{(k)}$. For the special case of linear predictor maps, we obtain \n",
    "$$ \\mathbf{g}^{(k)}   = -2 \\mathbf{x}^{(I)} \\big(y^{(I)} - \\big( \\mathbf{w}^{(k)}\\big)^{T} \\mathbf{x}^{(I)} \\big) \\big).$$\n",
    "\n",
    "Note that the index $I$ of the data point is chosen randomly and independently for each new iteration $k$. Comparing this gradient estimate with the above formula for the exact gradient, we see that the SGD iteration does not require any summation over the training set. For large training sets, this might yield a significant reduction in computational requirements for SGD compared to GD. \n",
    "\n",
    "Plain SGD and GD can be interpreted as special cases of **mini-batch SGD**. Mini-batch SGD does not use a single randomly chosen data point to compute the gradient estimate but rather uses several randomly chosen data points that form a batch $\\mathcal{S} = \\big\\{ \\big(\\mathbf{x}^{(i_{1})},y^{(i_{1})} \\big),\\ldots,\\big(\\mathbf{x}^{(i_{S})},y^{(i_{S})} \\big) \\big\\}$ of size $s$. For linear predictor maps, the gradient estimate is computed using the batch via \n",
    "$$ \\mathbf{g}^{(k)}   = -(2/s) \\sum_{\\big(\\mathbf{x},y\\big) \\in \\mathcal{S}} \\mathbf{x} \\big(y - \\big( \\mathbf{w}^{(k)}\\big)^{T} \\mathbf{x} \\big) \\big).$$\n",
    "\n",
    "Each iteration of mini-batch SGD uses a different batch of $s$ different data points. A sequence of iterations that uses each data point in one of the batches is referred to as one **epoch**. For example, if the training data set consists of $50$ data points and we use a batch size of $s=10$, then one epoch requires on average $50/10 = 5$ iterations of mini-batch SGD.  \n",
    "\n",
    "\n",
    "<img src=\"../../../coursedata/R2/batch.png\" alt=\"Drawing\" style=\"width: 1000px;\"/>"
   ]
  },
  {
   "cell_type": "markdown",
   "metadata": {
    "deletable": false,
    "editable": false,
    "nbgrader": {
     "cell_type": "markdown",
     "checksum": "b87fc68da2df98cf76aa4a0ae24cdc85",
     "grade": false,
     "grade_id": "cell-873d86a39fbcb451",
     "locked": true,
     "schema_version": 3,
     "solution": false,
     "task": false
    }
   },
   "source": [
    "Important special cases of mini-batch SGD are obtained for certain choices of the **batch size**: \n",
    "\n",
    "- GD (also called batch GD or vanilla GD, batch size = size of dataset)\n",
    "- Mini-batch SGD (1 < batch size < whole dataset)\n",
    "- plain SGD (batch size = 1)\n",
    "\n",
    "Note that the computational complexity of one iteration of mini-batch GD depends only on the batch size. Thus, \n",
    "for a fixed batch size (e.g., $=128$) the complexity (runtime) of a single iteration becomes independent of the total number of training data points. "
   ]
  },
  {
   "cell_type": "markdown",
   "metadata": {
    "deletable": false,
    "editable": false,
    "nbgrader": {
     "cell_type": "markdown",
     "checksum": "bb2b5a8c05ce1641350acb41624f196e",
     "grade": false,
     "grade_id": "cell-ec008639e2259829",
     "locked": true,
     "schema_version": 3,
     "solution": false,
     "task": false
    }
   },
   "source": [
    "<a id='St6'></a>\n",
    "<div class=\" alert alert-warning\">\n",
    "    <h3><b>STUDENT TASK 2.6.</b> STOCHASTIC GRADIENT DESCENT.</h3> \n",
    "    \n",
    "In this task, we will modify our GD algorithm by providing and training the dataset in batches. You will need to complete <code>minibatchSGD()</code> function, according to the instructions given below. \n",
    "    \n",
    "</div>"
   ]
  },
  {
   "cell_type": "markdown",
   "metadata": {
    "deletable": false,
    "editable": false,
    "nbgrader": {
     "cell_type": "markdown",
     "checksum": "b603dad2cfe5f10793f9eb602cdebd39",
     "grade": false,
     "grade_id": "cell-c2a00d5a26465f7b",
     "locked": true,
     "schema_version": 3,
     "solution": false,
     "task": false
    }
   },
   "source": [
    "Before implementing the SGD algorithm, we need to write a helper function `batch()` that divides the dataset into small batches. We will provide the feature vector or matrix `X` and label vector `y` as an input to the function. We also need to define the parameter `batch_size` which is the number of data points used for a single batch. The function `batch()` is a [Python generator function](https://docs.python.org/3/howto/functional.html#generators), meaning that the function can be used in for-loops and will return batches sequentially, one-by-one. Before splitting the dataset into batches, we will randomly shuffle the data. This ensures that every time we call `batch()` we obtain a batch having the same statistical properties. Loosely speaking, shuffling the dataset before selecting the batch makes the individual data points independent and identically distributed (\"i.i.d.\"). "
   ]
  },
  {
   "cell_type": "code",
   "execution_count": 24,
   "metadata": {
    "deletable": false,
    "editable": false,
    "nbgrader": {
     "cell_type": "code",
     "checksum": "5511e31801f8d9847ccca8e76c928a81",
     "grade": false,
     "grade_id": "cell-76e1beb18772edb3",
     "locked": true,
     "schema_version": 3,
     "solution": false,
     "task": false
    }
   },
   "outputs": [],
   "source": [
    "def batch(X,y,batch_size):\n",
    "    \n",
    "    '''\n",
    "    Function for creating mini-batches of the dataset.\n",
    "    The `yield` statement suspends the function’s execution and sends \n",
    "    a value back to the caller, but retains enough state to enable \n",
    "    function to resume where it is left off.  \n",
    "    \n",
    "    '''\n",
    "    # check if the number of data points is equal in feature matrix X and label vector y\n",
    "    # if the assertion fails return error message \"Number of data points are different in X and y\"\n",
    "    assert X.shape[0] == y.shape[0], \"The number of datapoints is different in X and y\"\n",
    "    \n",
    "    # shuffle data points \n",
    "    # the permutation will randomly re-arrange the order of the numbers\n",
    "    # which will be used as indices to create X and y with data points in different order\n",
    "    np.random.seed(42) # for reproducibility, should NOT be used in real training\n",
    "    p = np.random.permutation(len(y))\n",
    "    X_perm = X[p] \n",
    "    y_perm = y[p]\n",
    "    \n",
    "    # generate batches\n",
    "    for i in range(0,X.shape[0],batch_size):\n",
    "        yield (X_perm[i:i + batch_size], y_perm[i:i + batch_size])"
   ]
  },
  {
   "cell_type": "code",
   "execution_count": 25,
   "metadata": {
    "deletable": false,
    "nbgrader": {
     "cell_type": "code",
     "checksum": "3be8ed9b14b52c6dbfb9e1655cd3995c",
     "grade": false,
     "grade_id": "cell-1dc3b3cb1fc8cb8e",
     "locked": false,
     "schema_version": 3,
     "solution": true,
     "task": false
    }
   },
   "outputs": [],
   "source": [
    "def minibatchSGD(X, y, batch_size, epochs, lrate):  \n",
    "    \n",
    "    # initialize the weight randomly\n",
    "    np.random.seed(42)\n",
    "    weight = np.random.rand()  \n",
    "    # create a list to store the loss values \n",
    "    loss = []\n",
    "    weights = []\n",
    "     \n",
    "    for i in range(epochs):\n",
    "# YOUR CODE HERE\n",
    "#raise NotImplementedError()\n",
    "        # Use another for-loop to iterate batch() generator and access batches one-by-one\n",
    "        for X_b, y_b in batch(X, y, batch_size):\n",
    "            # Feed  current batch to `gradient_step_onefeature()` and get weight and loss values\n",
    "            weight, MSE = gradient_step_onefeature(X_b, y_b, weight, lrate)\n",
    "            # Store current weight and loss values in corresponding lists\n",
    "            weights.append(weight)\n",
    "            loss.append(MSE)\n",
    "      \n",
    "       # one epoch is finished when the algorithm goes through ALL batches\n",
    "    return weights, loss"
   ]
  },
  {
   "cell_type": "code",
   "execution_count": 26,
   "metadata": {
    "deletable": false,
    "editable": false,
    "nbgrader": {
     "cell_type": "code",
     "checksum": "68c4540a4e214835291907c501d9aa5e",
     "grade": false,
     "grade_id": "cell-fe1f1ab467887505",
     "locked": true,
     "schema_version": 3,
     "solution": false,
     "task": false
    }
   },
   "outputs": [],
   "source": [
    "# Sanity checks\n",
    "# len(weights) and len(loss) should be:\n",
    "# (number of samples/batch_size)*epochs - 100/50*2=4\n",
    "weights, loss = minibatchSGD(x, y, 50, 2, 0.1)\n",
    "\n",
    "assert len(weights)==4, \"weights length is not correct!\"\n",
    "assert len(loss)==4, \"loss length is not correct!\""
   ]
  },
  {
   "cell_type": "code",
   "execution_count": 27,
   "metadata": {
    "deletable": false,
    "editable": false,
    "nbgrader": {
     "cell_type": "code",
     "checksum": "36f1d6244452c915d64d4141295bdd9f",
     "grade": true,
     "grade_id": "cell-a7b46020ff3a7ab3",
     "locked": true,
     "points": 3.5,
     "schema_version": 3,
     "solution": false,
     "task": false
    }
   },
   "outputs": [],
   "source": [
    "# hidden test\n"
   ]
  },
  {
   "cell_type": "markdown",
   "metadata": {
    "deletable": false,
    "editable": false,
    "nbgrader": {
     "cell_type": "markdown",
     "checksum": "00c320780797a0d79134d525eecf29f2",
     "grade": false,
     "grade_id": "cell-a14ca933f21b43e9",
     "locked": true,
     "schema_version": 3,
     "solution": false,
     "task": false
    }
   },
   "source": [
    "<a id='St7'></a>\n",
    "<div class=\" alert alert-warning\">\n",
    "    <h3><b>STUDENT TASK 1.7. </b> SGD - BATCH SIZE.</h3>\n",
    "    \n",
    "Try `minibatchSGD()` function with different values of `batch_size` parameter and plot results.\n",
    "    \n",
    "Note - use feature vector **x** and label vector **y** as input data of  `minibatchSGD()` function. "
   ]
  },
  {
   "cell_type": "markdown",
   "metadata": {
    "deletable": false,
    "editable": false,
    "nbgrader": {
     "cell_type": "markdown",
     "checksum": "ed10f00bb48c00ff325f87b3cff8fad4",
     "grade": false,
     "grade_id": "cell-caa8d0782861291e",
     "locked": true,
     "schema_version": 3,
     "solution": false,
     "task": false
    }
   },
   "source": [
    "Let's test our SGD implementation and run the algorithm for:\n",
    "\n",
    "- batch sizes = 1 (one data point) **(\"true\" SGD)**\n",
    "- batch sizes = 10 **(mini-batch SGD)**\n",
    "- batch sizes = 100 (entire dataset) **(Batch GD)**"
   ]
  },
  {
   "cell_type": "markdown",
   "metadata": {
    "deletable": false,
    "editable": false,
    "nbgrader": {
     "cell_type": "markdown",
     "checksum": "0a0c28f1258855eed1cdbdf096b25ba0",
     "grade": false,
     "grade_id": "cell-d3601de090e616a3",
     "locked": true,
     "schema_version": 3,
     "solution": false,
     "task": false
    }
   },
   "source": [
    "<details>\n",
    "    <summary>\n",
    "        <span class=\"summary-title\">Hints</span>\n",
    "    </summary>\n",
    "    \n",
    "You can use for-loop to iterate through `batch_sizes` values and pass these values to `minibatchSGD()` function. \n",
    "\n",
    "    \n",
    "</details>    "
   ]
  },
  {
   "cell_type": "code",
   "execution_count": 28,
   "metadata": {
    "deletable": false,
    "nbgrader": {
     "cell_type": "code",
     "checksum": "61d47a9c39c06c6c46ac0aab1ef0e0a1",
     "grade": false,
     "grade_id": "cell-5dbba44eba46a098",
     "locked": false,
     "schema_version": 3,
     "solution": true,
     "task": false
    }
   },
   "outputs": [
    {
     "data": {
      "image/png": "[encoded data removed]",
      "text/plain": [
       "<Figure size 432x288 with 1 Axes>"
      ]
     },
     "metadata": {
      "needs_background": "light"
     },
     "output_type": "display_data"
    }
   ],
   "source": [
    "# set epoches and learning rate\n",
    "epochs = 100\n",
    "lrate = 0.02\n",
    "\n",
    "# iterate through the values of `batch_sizes` param\n",
    "batch_sizes = [1, 10, 100]\n",
    "# list for storing weights and loss for each batch size (length of both lists=3)\n",
    "# we will use these lists for plotting\n",
    "weights_batches = []\n",
    "loss_batches = []\n",
    "\n",
    "# YOUR CODE HERE\n",
    "#raise NotImplementedError()\n",
    "for bs in batch_sizes:\n",
    "    weights, loss = minibatchSGD(x, y, bs, epochs, lrate)\n",
    "    weights_batches.append(weights)\n",
    "    loss_batches.append(loss)\n",
    "\n",
    "    \n",
    "for batch_size, weights, loss in zip(batch_sizes, weights_batches,loss_batches):\n",
    "    plt.plot(weights, loss, label=\"batch size \"+str(batch_size))\n",
    "    plt.legend()\n",
    "\n",
    "plt.xlabel(\"weight\", fontsize=16)\n",
    "plt.ylabel(\"Loss\", fontsize=16)  \n",
    "plt.show()"
   ]
  },
  {
   "cell_type": "code",
   "execution_count": 29,
   "metadata": {
    "deletable": false,
    "editable": false,
    "nbgrader": {
     "cell_type": "code",
     "checksum": "f59d9b855f80636568069b60d73d792d",
     "grade": true,
     "grade_id": "cell-fa4f330c2cb1e60e",
     "locked": true,
     "points": 2.5,
     "schema_version": 3,
     "solution": false,
     "task": false
    }
   },
   "outputs": [],
   "source": [
    "# Sanity checks\n",
    "\n",
    "assert len(weights_batches)==len(batch_sizes), \"weights_batches length is not correct!\"\n",
    "assert len(loss_batches)==len(batch_sizes), \"loss_batches length is not correct!\"\n",
    "# below length computed as (number of samples/batch_size)*epochs\n",
    "assert len(loss_batches[0])==10000, \"loss_batches[0] length should be (100/1)*100=10000!\"\n",
    "assert len(loss_batches[1])==1000, \"loss_batches[1] length should be (100/10)*100=1000!\"\n",
    "assert len(loss_batches[2])==100, \"loss_batches[2] length should be (100/100)*100=100!\"\n",
    "\n"
   ]
  },
  {
   "cell_type": "markdown",
   "metadata": {
    "deletable": false,
    "editable": false,
    "nbgrader": {
     "cell_type": "markdown",
     "checksum": "ebf1c116ab85066770d8762d9742af9a",
     "grade": false,
     "grade_id": "cell-ea33d721e419dbee",
     "locked": true,
     "schema_version": 3,
     "solution": false,
     "task": false
    }
   },
   "source": [
    "Note that the deviations are larger for smaller batch sizes. This makes sense, as the gradient estimates are more accurate when we use more data points in a batch. "
   ]
  },
  {
   "cell_type": "markdown",
   "metadata": {
    "deletable": false,
    "editable": false,
    "nbgrader": {
     "cell_type": "markdown",
     "checksum": "f529e498d6c4744229bfeda02a796e8c",
     "grade": false,
     "grade_id": "cell-ba8e5ba8db59646d",
     "locked": true,
     "schema_version": 3,
     "solution": false,
     "task": false
    }
   },
   "source": [
    "Let's use the loss values for each batch size stored in list`loss_batches` for plotting and will print out learned weights stored in `weights_batches` list."
   ]
  },
  {
   "cell_type": "code",
   "execution_count": 30,
   "metadata": {
    "deletable": false,
    "editable": false,
    "nbgrader": {
     "cell_type": "code",
     "checksum": "717967b3bd6f7638cf0504bcca8632ab",
     "grade": false,
     "grade_id": "cell-f507efc6bc25907f",
     "locked": true,
     "schema_version": 3,
     "solution": false,
     "task": false
    },
    "tags": []
   },
   "outputs": [
    {
     "name": "stdout",
     "output_type": "stream",
     "text": [
      "Total number of iterations = (sample size/batch size)*epochs\n",
      "\n",
      "Epochs: 100\n",
      "Sample size: 100\n",
      "Batch sizes: 1, 10, 100\n",
      "Iterations per epoch: 100, 10, 1\n",
      "Total number of iterations: 10000, 1000, 100\n",
      "\n",
      "Weights:\n",
      "\n",
      "SGD with batch size = 1 results in weight w = 42.18                 \n",
      "SGD with batch size = 10 results in weight w = 42.50                 \n",
      "SGD with batch size = 100 results in weight w = 41.88\n"
     ]
    }
   ],
   "source": [
    "# history of the MSE loss inccured during learning\n",
    "batch_size1_loss   = loss_batches[0]\n",
    "batch_size10_loss  = loss_batches[1]\n",
    "batch_size100_loss = loss_batches[2]\n",
    "\n",
    "# let's check that the length of list `loss` is equal to\n",
    "# x.shape[0]/batch_size*epochs\n",
    "\n",
    "print(f\"Total number of iterations = (sample size/batch size)*epochs\")\n",
    "print(f\"\\nEpochs: {epochs}\")\n",
    "print(f\"Sample size: {x.shape[0]}\")\n",
    "print(f\"Batch sizes: 1, 10, 100\")\n",
    "print(f\"Iterations per epoch: {x.shape[0]/1.0:.0f}, {x.shape[0]/10.0:.0f}, {x.shape[0]/100.0:.0f}\")\n",
    "print(f\"Total number of iterations: {len(batch_size1_loss)}, {len(batch_size10_loss)}, {len(batch_size100_loss)}\")\n",
    "\n",
    "# display weights learnt during the SGD\n",
    "print(f\"\\nWeights:\\n\\nSGD with batch size = 1 results in weight w = {weights_batches[0][-1]:.2f}\\\n",
    "                 \\nSGD with batch size = 10 results in weight w = {weights_batches[1][-1]:.2f}\\\n",
    "                 \\nSGD with batch size = 100 results in weight w = {weights_batches[2][-1]:.2f}\")"
   ]
  },
  {
   "cell_type": "markdown",
   "metadata": {
    "deletable": false,
    "editable": false,
    "nbgrader": {
     "cell_type": "markdown",
     "checksum": "86f0468801ddd9e243ee942ed1f3a2ea",
     "grade": false,
     "grade_id": "cell-197719c66c1ae6fe",
     "locked": true,
     "schema_version": 3,
     "solution": false,
     "task": false
    }
   },
   "source": [
    "The results of SGD with different batch sizes should be pretty close. Let's compare our SGD implementation with sklearn [`SGDRegressor`](https://scikit-learn.org/stable/modules/generated/sklearn.linear_model.SGDRegressor.html) class implementation. In `SGDRegressor` implementation, the gradient of the loss is estimated each sample at a time (batch size=1 in other words) and the model is updated along the way with a decreasing learning rate."
   ]
  },
  {
   "cell_type": "code",
   "execution_count": 31,
   "metadata": {
    "deletable": false,
    "editable": false,
    "nbgrader": {
     "cell_type": "code",
     "checksum": "a8f4368b4ee9b7cc075248e7e7b4820e",
     "grade": false,
     "grade_id": "cell-073a69e706d17886",
     "locked": true,
     "schema_version": 3,
     "solution": false,
     "task": false
    }
   },
   "outputs": [
    {
     "data": {
      "text/plain": [
       "42.57099214486258"
      ]
     },
     "execution_count": 31,
     "metadata": {},
     "output_type": "execute_result"
    }
   ],
   "source": [
    "from sklearn.linear_model import SGDRegressor\n",
    "\n",
    "reg = SGDRegressor(fit_intercept = False, max_iter=100, tol=1e-3)\n",
    "reg.fit(x,y.reshape(-1,))\n",
    "\n",
    "reg.coef_[0]"
   ]
  },
  {
   "cell_type": "markdown",
   "metadata": {
    "deletable": false,
    "editable": false,
    "nbgrader": {
     "cell_type": "markdown",
     "checksum": "1bcff507a92616b758ec17b1eaa2e350",
     "grade": false,
     "grade_id": "cell-97f489247f04856f",
     "locked": true,
     "schema_version": 3,
     "solution": false,
     "task": false
    }
   },
   "source": [
    "Thus, our simple SGD algorithm does not deviate too much from the `sklearn` implementation. \\\n",
    "Let's plot the loss values for the first 100 iterations incurred during the training."
   ]
  },
  {
   "cell_type": "code",
   "execution_count": 32,
   "metadata": {
    "deletable": false,
    "editable": false,
    "nbgrader": {
     "cell_type": "code",
     "checksum": "cce26fe7fd6890f027ce7202b6d7effe",
     "grade": false,
     "grade_id": "cell-e755ac6d58a80022",
     "locked": true,
     "schema_version": 3,
     "solution": false,
     "task": false
    },
    "tags": []
   },
   "outputs": [
    {
     "data": {
      "image/png": "[encoded data removed]",
      "text/plain": [
       "<Figure size 1080x360 with 3 Axes>"
      ]
     },
     "metadata": {
      "needs_background": "light"
     },
     "output_type": "display_data"
    }
   ],
   "source": [
    "# create the figure and axes objects\n",
    "# there will be 3 subplots in one row, the y-axis is shared between subplots\n",
    "fig, axes = plt.subplots(1,3, sharey=True, figsize=(15,5))\n",
    "\n",
    "# create lists of loss values and batch sizes for further iteration in for-loop\n",
    "batch_loss_list = [batch_size1_loss, batch_size10_loss, batch_size100_loss]\n",
    "batch_size      = [1,10,100] \n",
    "\n",
    "for ax, batch_loss, size in zip(axes, batch_loss_list, batch_size):\n",
    "    # plot only first 100 values\n",
    "    ax.plot(np.arange(len(batch_loss[:100])), batch_loss[:100])\n",
    "    # remove top and right subplot's frames \n",
    "    ax.spines['top'].set_visible(False)\n",
    "    ax.spines['right'].set_visible(False)\n",
    "    # set subplot's title\n",
    "    ax.set_title(\"batch size = \"+str(size), fontsize=18)\n",
    "\n",
    "# set x- and y-axis labels\n",
    "axes[0].set_xlabel('batch #', fontsize=18)\n",
    "axes[0].set_ylabel('Loss', fontsize=18)\n",
    "\n",
    "# display figure\n",
    "plt.ylim(0,10000)\n",
    "plt.show()"
   ]
  },
  {
   "cell_type": "markdown",
   "metadata": {
    "deletable": false,
    "editable": false,
    "nbgrader": {
     "cell_type": "markdown",
     "checksum": "eafa8fdbae52a06aa8ccb448cb776efb",
     "grade": false,
     "grade_id": "cell-9b626daecc63f8bd",
     "locked": true,
     "schema_version": 3,
     "solution": false,
     "task": false
    }
   },
   "source": [
    "The above figure indicates that when using SGD with a small batch size, the loss is not decreasing monotonically but somewhat randomly fluctuating around a long-term decreasing trend. This happens because the weight updates use \"noisy\" estimates of the gradient. The noisy estimate is calculated by an averaging process using the data points in the mini-batch. The smaller the mini-batch size, the fewer data points we use for computing the average. Thus, the gradient noise becomes stronger with smaller batch size. \n",
    "\n",
    "**Note!** In our exercises we used a constant learning rate. In order to avoid the accumulation of the gradient noise while running SGD updates, the learning rate needs to be gradually decreased, e.g. by using diminishing learning rate, thus resulting in a smoother learning curve."
   ]
  },
  {
   "cell_type": "markdown",
   "metadata": {
    "deletable": false,
    "editable": false,
    "nbgrader": {
     "cell_type": "markdown",
     "checksum": "e017703c8fb2e3f445fbc448c448f746",
     "grade": false,
     "grade_id": "cell-2a6b165617a3a4b6",
     "locked": true,
     "schema_version": 3,
     "solution": false,
     "task": false
    }
   },
   "source": [
    "Below are the animations illustrating the training process with SGD where the batch size is all data points (upper panel) and where the batch size is 10 data points (lower panel, the current batch marked with red color). In line with the loss plots we created above, mini-batch SGD is noisier than batch GD. Although it seems that using plain batch GD is a faster way to reach the minimum of the loss function, in practice when working with large datasets and thousands of parameters (weights) in neural networks, this approach will be slower and more computationally expensive than mini-batch SGD."
   ]
  },
  {
   "cell_type": "markdown",
   "metadata": {
    "deletable": false,
    "editable": false,
    "nbgrader": {
     "cell_type": "markdown",
     "checksum": "bf40a967fec442b143ea877fdde1c6a2",
     "grade": false,
     "grade_id": "cell-2032e57953d2d15e",
     "locked": true,
     "schema_version": 3,
     "solution": false,
     "task": false
    }
   },
   "source": [
    "**Illustration of SGD iterations for batch size = 100 (batch covers entire dataset)** \n",
    "\n",
    "<img src=\"../../../coursedata/R2/minibatchGD1.gif\" width=\"750\" align=\"center\">\n",
    "\n",
    "**Illustration of SGD iterations for batch size = 10 datapoints**\n",
    "\n",
    "<img src=\"../../../coursedata/R2/minibatchGD2.gif\" width=\"750\" align=\"center\">\n",
    "\n",
    "During each iteration of SGD, 10 data points are randomly selected to constitute a batch. This batch is used to compute the gradient estimate. The data points in the batch are shown in red. Note that during each iteration, a different set of 10 data points is chosen for the batch.  "
   ]
  },
  {
   "cell_type": "markdown",
   "metadata": {
    "deletable": false,
    "editable": false,
    "nbgrader": {
     "cell_type": "markdown",
     "checksum": "5f67cac0886310c500997e1ff526b22b",
     "grade": false,
     "grade_id": "cell-82fc2717d3a944cd",
     "locked": true,
     "schema_version": 3,
     "solution": false,
     "task": false
    }
   },
   "source": [
    "## Wrap up - Stochastic Gradient Descent\n",
    "\n",
    "- Vanilla or batch GD computes the gradient of the loss function w.r.t. to the parameters (weights) for the entire training dataset. Therefore, to perform just one update, the gradient of the whole dataset needs to be computed, which makes batch GD very slow.\n",
    "- SGD in contrast computes the gradient of the loss function and performs updates for each data point.\n",
    "- SGD performs faster parameter updates, but suffers from high variance, especially with a constant learning rate.\n",
    "- Mini-batch GD computes the gradient of the loss function for every batch of the dataset, thus combines the benefits of both, batch GD and SGD. It is faster than batch GD but prone to less variation in parameters up-dates than SGD."
   ]
  },
  {
   "cell_type": "markdown",
   "metadata": {
    "deletable": false,
    "editable": false,
    "nbgrader": {
     "cell_type": "markdown",
     "checksum": "3d8e8720a840f036b21b60b0bef35408",
     "grade": false,
     "grade_id": "cell-5ed712c900639704",
     "locked": true,
     "schema_version": 3,
     "solution": false,
     "task": false
    }
   },
   "source": [
    "# Variants of Gradient-Based Optimization Algorithms\n",
    "\n",
    "Besides plain GD or mini-batch SGD, many deep learning methods use somewhat more advanced variants of gradient-based algorithms or optimizers ([list of optimizers available in deep learning Python library Keras](https://keras.io/api/optimizers/)). Some of the most known are SGD with momentum, RMSprop, and Adam. \n",
    "\n",
    "Much like GD and SGD, these algorithms use gradients of the loss function $f(\\mathbf{w})$ to find weights $\\mathbf{w}$ such that the predictor $h^{(\\mathbf{w})}$ achieves (nearly) minimum loss. These variants differ in how they use (or \"interpret\") the gradient information to find the fastest route towards the minimum. In some cases, these variants can find good weight vectors significantly faster (using fewer iterations) compared to mini-batch SGD. "
   ]
  },
  {
   "cell_type": "markdown",
   "metadata": {
    "deletable": false,
    "editable": false,
    "nbgrader": {
     "cell_type": "markdown",
     "checksum": "e080b7e7dbb9420e1bc464c84d04b92a",
     "grade": false,
     "grade_id": "cell-5d0495b1535d7fee",
     "locked": true,
     "schema_version": 3,
     "solution": false,
     "task": false
    }
   },
   "source": [
    "## Gradient Descent with momentum\n",
    "\n",
    "One simple improvement of gradient descent is adding a \"momentum\" term to the weight update equation. GD manages poorly when the loss surface is much steeper in one dimension than in the other, e.g. in ravines of the loss function. You can see on the animation below loss \"landscape\": on x and y axes weights values are showed and loss function values are showed on the z-axis. GD (black trace) bounces back and force in the narrow symmetric ravine, unable to converge to the minimum of the loss function.\n",
    "\n",
    "The addition of the \"momentum\" helps to damp oscillations and accelerate in the relevant direction. The common analogy is the ball moving in a bowl and gaining speed and momentum in the downhill direction, rather than moving to the left or right on the sides of the bowl.\\\n",
    "GD with momentum is implemented by storing the information about past gradients in a vector ${v}_{t}=\\beta*{v}_{t-1} + \\alpha*\\nabla f$.\\\n",
    "The weight is updated as follows:\n",
    "${w}_{t}={w}_{t-1}-{v}_{t}$\n",
    "\n",
    "Momentum will increase for dimensions where gradients will point in the same direction and will decrease for dimensions where gradients change direction (oscillates). You can see on the animation below, how GD with momentum (red trace) decreases \"zigzagging\" amplitude and moves faster in the direction of the minimum of the loss function. Note that it also overshoots the minimum, but \"corrects\" itself and moves back converging to the minimum. Setting $\\beta$ to a lower value would decrease momentum and would prevent overshooting. \n",
    "\n",
    "<img src=\"../../../coursedata/R2/GDMomentum2.gif\" width=\"700\" align=\"left\">"
   ]
  },
  {
   "cell_type": "markdown",
   "metadata": {
    "deletable": false,
    "editable": false,
    "nbgrader": {
     "cell_type": "markdown",
     "checksum": "72f26066934f1817356ac13daa9832aa",
     "grade": false,
     "grade_id": "cell-62eb6d4e5d148347",
     "locked": true,
     "schema_version": 3,
     "solution": false,
     "task": false
    }
   },
   "source": [
    "Below you can see how GD with momentum (red trace) gained momentum after the first weights update, escaped the ravine, and \"hopped\" over \"hill\" (the area where loss values are higher). In this case, it may be not an optimal path to the minimum, but in more complex landscapes momentum can help to escape the local minimum given big enough momentum."
   ]
  },
  {
   "cell_type": "markdown",
   "metadata": {
    "deletable": false,
    "editable": false,
    "nbgrader": {
     "cell_type": "markdown",
     "checksum": "95081fa1eebf41a7cb98b02d3f130a00",
     "grade": false,
     "grade_id": "cell-e7d5abd78e65e01b",
     "locked": true,
     "schema_version": 3,
     "solution": false,
     "task": false
    }
   },
   "source": [
    "<img src=\"../../../coursedata/R2/GDMomentumRosenbrock2.gif\" width=\"750\" align=\"left\">"
   ]
  },
  {
   "cell_type": "markdown",
   "metadata": {
    "deletable": false,
    "editable": false,
    "nbgrader": {
     "cell_type": "markdown",
     "checksum": "8b99f3c01dcfaa8d7a5603e310302be0",
     "grade": false,
     "grade_id": "cell-2cc4fbad06a334ff",
     "locked": true,
     "schema_version": 3,
     "solution": false,
     "task": false
    }
   },
   "source": [
    "Other variants of GD improve different aspects of the algorithm. Nesterov accelerated gradient is basically a modification of the GD with momentum. Adagrad and its extension Adadelta uses different learning rates for parameters, which is useful when dealing with sparse data. RMSprop and Adam are currently a popular choice of GD-based variants with an adaptive learning rate ([paper about GD variants](https://arxiv.org/pdf/1609.04747.pdf)). \n",
    "\n",
    "The animation below compares the \"routes\" taken by several optimizers to find a minimum of the [six-hump camel](https://www.sfu.ca/~ssurjano/camel6.html) function. As you can see different GD variants may take different paths, which can be controlled by hyperparameters tuning (such as learning rate and coefficients like $\\beta$ in GD with momentum).\n",
    "\n",
    "<img src=\"../../../coursedata/R2/camel3D.gif\" width=\"750\" align=\"left\">"
   ]
  },
  {
   "cell_type": "markdown",
   "metadata": {
    "deletable": false,
    "editable": false,
    "nbgrader": {
     "cell_type": "markdown",
     "checksum": "c53713b3eeb7452f2f659a172bdba2c3",
     "grade": false,
     "grade_id": "cell-4db4e564f64fd90f",
     "locked": true,
     "schema_version": 3,
     "solution": false,
     "task": false
    }
   },
   "source": [
    "# Conclusion \n",
    "\n",
    "We have discussed the basic idea of using gradients of loss functions to iteratively improve the parameter values (weights) in a predictor map. Gradient-based methods such as SGD and its variants turn out to be the perfect tool for training deep neural networks in several aspects. First, somewhat surprisingly, SGD quickly finds weights for an ANN such that it performs well on new data points which are different from the training data. Moreover, mini-batch SGD requires only to have enough working memory (\"RAM\") to store the current batch (subset) of training data points instead of the entire dataset (which might be billions of high-resolution images). \n"
   ]
  },
  {
   "cell_type": "markdown",
   "metadata": {
    "deletable": false,
    "editable": false,
    "nbgrader": {
     "cell_type": "markdown",
     "checksum": "75eade9fbe283663fb9c57279a3bd802",
     "grade": false,
     "grade_id": "cell-d67f67c973361771",
     "locked": true,
     "schema_version": 3,
     "solution": false,
     "task": false
    }
   },
   "source": [
    "## Quiz"
   ]
  },
  {
   "cell_type": "markdown",
   "metadata": {
    "deletable": false,
    "editable": false,
    "nbgrader": {
     "cell_type": "markdown",
     "checksum": "c61e48728ffa57e6a7abae5b3c46b60c",
     "grade": false,
     "grade_id": "cell-826b0d68236d3ec1",
     "locked": true,
     "schema_version": 3,
     "solution": false,
     "task": false
    }
   },
   "source": [
    "<div class=\"alert alert-warning\">\n",
    "     <h3><b>Question 2.1.</h3>\n",
    "\n",
    "What is the role of a loss function within machine learning methods?\n",
    "         \n",
    "Select one:\n",
    "\n",
    "1. To reduce the memory requirements of a machine learning method.\n",
    "\n",
    "2. To transform the data into a computer-friendly format.\n",
    "\n",
    "3. To speed up the learning process of an ML method.\n",
    "\n",
    "4. To measure the quality of a particular predictor map.\n",
    "         \n",
    "</div>"
   ]
  },
  {
   "cell_type": "code",
   "execution_count": 33,
   "metadata": {
    "deletable": false,
    "nbgrader": {
     "cell_type": "code",
     "checksum": "cabe9dcc5d4d239fec8fd1f17555127e",
     "grade": false,
     "grade_id": "cell-1d23029c8fc0c549",
     "locked": false,
     "schema_version": 3,
     "solution": true,
     "task": false
    }
   },
   "outputs": [],
   "source": [
    "# remove the line raise NotImplementedError() before testing your solution and submitting code\n",
    "\n",
    "# YOUR CODE HERE\n",
    "#raise NotImplementedError()\n",
    "\n",
    "answer_21  = 4"
   ]
  },
  {
   "cell_type": "code",
   "execution_count": 34,
   "metadata": {
    "deletable": false,
    "editable": false,
    "nbgrader": {
     "cell_type": "code",
     "checksum": "a75599389d45c57260c64e3d2eab56e6",
     "grade": true,
     "grade_id": "cell-1c14f10dcabd0e6d",
     "locked": true,
     "points": 0.5,
     "schema_version": 3,
     "solution": false,
     "task": false
    }
   },
   "outputs": [
    {
     "name": "stdout",
     "output_type": "stream",
     "text": [
      "Sanity check tests passed!\n"
     ]
    }
   ],
   "source": [
    "# This cell is for tests\n",
    "assert answer_21 in [1,2,3,4], '\"answer\" Value should be an integer between 1 and 4.'\n",
    "print('Sanity check tests passed!')\n"
   ]
  },
  {
   "cell_type": "markdown",
   "metadata": {
    "deletable": false,
    "editable": false,
    "nbgrader": {
     "cell_type": "markdown",
     "checksum": "92a64d4ed1e2c17c5bba4d9d1e30323b",
     "grade": false,
     "grade_id": "cell-173eaa264e18d0d9",
     "locked": true,
     "schema_version": 3,
     "solution": false,
     "task": false
    }
   },
   "source": [
    "<div class=\"alert alert-warning\">\n",
    "     <h3><b>Question 2.2.</h3>\n",
    "         \n",
    "Consider the average loss, or training error, incurred by a predictor on a set of labeled data points (the training set). The predictor involves some adjustable weights. Which of the following statements is correct?\n",
    "Select one:\n",
    "\n",
    "1. The training error (average loss incurred on training data points) depends only on the labels.\n",
    "\n",
    "2. The training error does not depend on the weights of the predictor map.\n",
    "\n",
    "3. The training error does not depend on the features of the data points in the training set.\n",
    "\n",
    "4. The training error depends on the features, labels of training data points as well as on weights of the predictor map.\n",
    "    \n",
    "</div>"
   ]
  },
  {
   "cell_type": "code",
   "execution_count": 35,
   "metadata": {
    "deletable": false,
    "nbgrader": {
     "cell_type": "code",
     "checksum": "17d4d36d582e39d6bca49a932d6967c9",
     "grade": false,
     "grade_id": "cell-3f3a40ae966607fd",
     "locked": false,
     "schema_version": 3,
     "solution": true,
     "task": false
    }
   },
   "outputs": [],
   "source": [
    "# remove the line raise NotImplementedError() before testing your solution and submitting code\n",
    "\n",
    "# YOUR CODE HERE\n",
    "#raise NotImplementedError()\n",
    "\n",
    "answer_22  = 4"
   ]
  },
  {
   "cell_type": "code",
   "execution_count": 36,
   "metadata": {
    "deletable": false,
    "editable": false,
    "nbgrader": {
     "cell_type": "code",
     "checksum": "826eaeca603fa7d7a322bba0c7a65013",
     "grade": true,
     "grade_id": "cell-4ba09434dbdc1355",
     "locked": true,
     "points": 0.5,
     "schema_version": 3,
     "solution": false,
     "task": false
    }
   },
   "outputs": [
    {
     "name": "stdout",
     "output_type": "stream",
     "text": [
      "Sanity check tests passed!\n"
     ]
    }
   ],
   "source": [
    "# This cell is for tests\n",
    "assert answer_22 in [1,2,3,4], '\"answer\" Value should be an integer between 1 and 4.'\n",
    "print('Sanity check tests passed!')\n"
   ]
  },
  {
   "cell_type": "markdown",
   "metadata": {
    "deletable": false,
    "editable": false,
    "nbgrader": {
     "cell_type": "markdown",
     "checksum": "930b44192bfdaa805860429c46640efc",
     "grade": false,
     "grade_id": "cell-78633828d2da2eaa",
     "locked": true,
     "schema_version": 3,
     "solution": false,
     "task": false
    }
   },
   "source": [
    "<div class=\"alert alert-warning\">\n",
    "     <h3><b>Question 2.3.</h3>\n",
    "\n",
    "Which one of the following completions of the sentence below is correct? Gradient descent is a ...\n",
    "\n",
    "1. method to visualize data points.\n",
    "\n",
    "2. iterative algorithm for finding a good choice for the weights (parameters) of a predictor map.\n",
    "\n",
    "3. method to avoid overfitting.\n",
    "\n",
    "4. method to divide the data into batches.\n",
    "</div>"
   ]
  },
  {
   "cell_type": "code",
   "execution_count": 37,
   "metadata": {
    "deletable": false,
    "nbgrader": {
     "cell_type": "code",
     "checksum": "31ee0484af6761f26bdaf645acc2d108",
     "grade": false,
     "grade_id": "cell-1419b5a420cfa16a",
     "locked": false,
     "schema_version": 3,
     "solution": true,
     "task": false
    }
   },
   "outputs": [],
   "source": [
    "# remove the line raise NotImplementedError() before testing your solution and submitting code\n",
    "\n",
    "# YOUR CODE HERE\n",
    "#raise NotImplementedError()\n",
    "\n",
    "answer_23  = 2"
   ]
  },
  {
   "cell_type": "code",
   "execution_count": 38,
   "metadata": {
    "deletable": false,
    "editable": false,
    "nbgrader": {
     "cell_type": "code",
     "checksum": "ad4d29e722360b5690f0b129de764026",
     "grade": true,
     "grade_id": "cell-26f1ff9837b88b9f",
     "locked": true,
     "points": 0.5,
     "schema_version": 3,
     "solution": false,
     "task": false
    }
   },
   "outputs": [
    {
     "name": "stdout",
     "output_type": "stream",
     "text": [
      "Sanity check tests passed!\n"
     ]
    }
   ],
   "source": [
    "# This cell is for tests\n",
    "assert answer_23 in [1,2,3,4], '\"answer\" Value should be an integer between 1 and 4.'\n",
    "print('Sanity check tests passed!')\n"
   ]
  },
  {
   "cell_type": "markdown",
   "metadata": {
    "deletable": false,
    "editable": false,
    "nbgrader": {
     "cell_type": "markdown",
     "checksum": "bc4064f1e007d853e615db446cfc55d1",
     "grade": false,
     "grade_id": "cell-386c530d9dbd20df",
     "locked": true,
     "schema_version": 3,
     "solution": false,
     "task": false
    }
   },
   "source": [
    "<div class=\"alert alert-warning\">\n",
    "     <h3><b>Question 2.4.</h3>\n",
    "\n",
    "Consider a single GD step (update) $\\mathbf{w}^{(k+1)}=\\mathbf{w}^{(k)}−\\alpha \\nabla f(\\mathbf{w}^{(k)})$ using the training error $f(\\mathbf{w})$ incurred by an ANN with parameters $\\mathbf{w}$ on $m$ labeled training data points $(\\mathbf{x}^{(1)},{y}^{(1)}),…,(\\mathbf{x}^{(m)},{y}^{(m)})$. The function $f(\\mathbf{w})$ is known to be differentiable and convex. The GD update includes an adjustable (tunable) parameter $\\alpha>0$ which is referred to as step size or learning rate. Which of the following statements is correct?\n",
    "\n",
    "Select one:\n",
    "\n",
    "1. The GD iterates $\\mathbf{w}^{(0)},\\mathbf{w}^{(1)},\\mathbf{w}^{(2)},…$ converge always, no matter what our choice is for $\\alpha$.\n",
    "\n",
    "2. The GD iterates can only converge if the feature vectors $\\mathbf{x}^{(1)},…,\\mathbf{x}^{(m)}$ have a norm smaller than one. \n",
    "\n",
    "3. The GD iterates converge if we choose the learning rate $\\alpha$ sufficiently small.\n",
    "\n",
    "4. The GD iterates will converge if we choose the learning rate $\\alpha$ sufficiently large.   \n",
    "</div>"
   ]
  },
  {
   "cell_type": "code",
   "execution_count": 39,
   "metadata": {
    "deletable": false,
    "nbgrader": {
     "cell_type": "code",
     "checksum": "28aa60d2a5e98f1ba9fb8219715b205c",
     "grade": false,
     "grade_id": "cell-86eff0cd2fb8da77",
     "locked": false,
     "schema_version": 3,
     "solution": true,
     "task": false
    }
   },
   "outputs": [],
   "source": [
    "# remove the line raise NotImplementedError() before testing your solution and submitting code\n",
    "\n",
    "# YOUR CODE HERE\n",
    "#raise NotImplementedError()\n",
    "\n",
    "answer_24  = 3"
   ]
  },
  {
   "cell_type": "code",
   "execution_count": 40,
   "metadata": {
    "deletable": false,
    "editable": false,
    "nbgrader": {
     "cell_type": "code",
     "checksum": "6ab167880639ed5362f53595bdd7877f",
     "grade": true,
     "grade_id": "cell-3ce60ca04b6476c3",
     "locked": true,
     "points": 0.5,
     "schema_version": 3,
     "solution": false,
     "task": false
    }
   },
   "outputs": [
    {
     "name": "stdout",
     "output_type": "stream",
     "text": [
      "Sanity check tests passed!\n"
     ]
    }
   ],
   "source": [
    "# This cell is for tests\n",
    "assert answer_24 in [1,2,3,4], '\"answer\" Value should be an integer between 1 and 4.'\n",
    "print('Sanity check tests passed!')\n"
   ]
  },
  {
   "cell_type": "markdown",
   "metadata": {
    "deletable": false,
    "editable": false,
    "nbgrader": {
     "cell_type": "markdown",
     "checksum": "24da4008db49ab0e430b5836e440854f",
     "grade": false,
     "grade_id": "cell-07b1778475a2511d",
     "locked": true,
     "schema_version": 3,
     "solution": false,
     "task": false
    }
   },
   "source": [
    "<div class=\"alert alert-warning\">\n",
    "     <h3><b>Question 2.5.</h3>\n",
    "\n",
    "Pick the correct completion for the following sentence. \n",
    "\n",
    "In contrast to plain gradient descent (GD), stochastic gradient descent (SGD) ...\n",
    "\n",
    "\n",
    "1. is guaranteed to strictly decrease the training error after each iteration.\n",
    "\n",
    "2. always learns ANN parameters resulting in smaller training errors than the parameters learnt by GD.\n",
    "\n",
    "3. can only be used for ANNs with more than 100 layers.  \n",
    "\n",
    "4. typically requires less computation (time).   \n",
    "\n",
    "</div>"
   ]
  },
  {
   "cell_type": "code",
   "execution_count": 41,
   "metadata": {
    "deletable": false,
    "nbgrader": {
     "cell_type": "code",
     "checksum": "bdfa0df9c809153c644599178238cfd8",
     "grade": false,
     "grade_id": "cell-874a654a73538007",
     "locked": false,
     "schema_version": 3,
     "solution": true,
     "task": false
    }
   },
   "outputs": [],
   "source": [
    "# remove the line raise NotImplementedError() before testing your solution and submitting code\n",
    "\n",
    "# YOUR CODE HERE\n",
    "#raise NotImplementedError()\n",
    "\n",
    "answer_25  = 4"
   ]
  },
  {
   "cell_type": "code",
   "execution_count": 42,
   "metadata": {
    "deletable": false,
    "editable": false,
    "nbgrader": {
     "cell_type": "code",
     "checksum": "260b588de0b880584dcd65d4a6aec721",
     "grade": true,
     "grade_id": "cell-3192673c0457a226",
     "locked": true,
     "points": 0.5,
     "schema_version": 3,
     "solution": false,
     "task": false
    }
   },
   "outputs": [
    {
     "name": "stdout",
     "output_type": "stream",
     "text": [
      "Sanity check tests passed!\n"
     ]
    }
   ],
   "source": [
    "# This cell is for tests\n",
    "assert answer_25 in [1,2,3,4], '\"answer\" Value should be an integer between 1 and 4.'\n",
    "print('Sanity check tests passed!')\n"
   ]
  },
  {
   "cell_type": "markdown",
   "metadata": {
    "deletable": false,
    "editable": false,
    "nbgrader": {
     "cell_type": "markdown",
     "checksum": "68c1b5035dc45444806f1101cfbdd092",
     "grade": false,
     "grade_id": "cell-2f38143a4eee875b",
     "locked": true,
     "schema_version": 3,
     "solution": false,
     "task": false
    }
   },
   "source": [
    "<div class=\"alert alert-warning\">\n",
    "     <h3><b>Question 2.6.</h3>\n",
    "\n",
    "Which one of the following statements is correct?\n",
    "\n",
    "1. The batch size in SGD has no influence on the prediction accuracy obtained with the learnt ANN parameters. \n",
    "\n",
    "2. A single iteration of gradient descent updates the parameter vector into the opposite direction of the gradient of the loss function.\n",
    "\n",
    "3. A single iteration of gradient descent updates the parameter vector into the direction of the gradient of the loss function.\n",
    "\n",
    "4. In the context of SGD, one epoch refers to one single update of the ANN parameters based on a noisy gradient estimate computed over a batch.   \n",
    "</div>"
   ]
  },
  {
   "cell_type": "code",
   "execution_count": 43,
   "metadata": {
    "deletable": false,
    "nbgrader": {
     "cell_type": "code",
     "checksum": "4f06ec23ed37b63691b36a7f3d435918",
     "grade": false,
     "grade_id": "cell-f197d4a928f590ae",
     "locked": false,
     "schema_version": 3,
     "solution": true,
     "task": false
    }
   },
   "outputs": [],
   "source": [
    "# remove the line raise NotImplementedError() before testing your solution and submitting code\n",
    "\n",
    "# YOUR CODE HERE\n",
    "#raise NotImplementedError()\n",
    "\n",
    "answer_26  = 2"
   ]
  },
  {
   "cell_type": "code",
   "execution_count": 44,
   "metadata": {
    "deletable": false,
    "editable": false,
    "nbgrader": {
     "cell_type": "code",
     "checksum": "07751d390c69fb2b03ac376f7791bce7",
     "grade": true,
     "grade_id": "cell-25e60f29e9109354",
     "locked": true,
     "points": 0.5,
     "schema_version": 3,
     "solution": false,
     "task": false
    }
   },
   "outputs": [
    {
     "name": "stdout",
     "output_type": "stream",
     "text": [
      "Sanity check tests passed!\n"
     ]
    }
   ],
   "source": [
    "# This cell is for tests\n",
    "assert answer_26 in [1,2,3,4], '\"answer\" Value should be an integer between 1 and 4.'\n",
    "print('Sanity check tests passed!')\n"
   ]
  },
  {
   "cell_type": "markdown",
   "metadata": {
    "deletable": false,
    "editable": false,
    "nbgrader": {
     "cell_type": "markdown",
     "checksum": "4d5b03db5a9a8a9e3da1211f36c56607",
     "grade": false,
     "grade_id": "cell-10d7b11165411e7c",
     "locked": true,
     "schema_version": 3,
     "solution": false,
     "task": false
    }
   },
   "source": [
    "<div class=\"alert alert-warning\">\n",
    "     <h3><b>Question 2.7.</h3>\n",
    "    \n",
    "Consider a dataset consisting of 4800 data points $({x}^{(1)},{y}^{(1)}),…,({x}^{(4800)},{y}^{(4800)})$.\n",
    "If we run mini-batch SGD with a batch size of 64 and for 100 epochs, what is the total number of iterations used in SGD? \n",
    "         \n",
    "Select one option:\n",
    "\n",
    "1. 30\n",
    "\n",
    "2. 160000\n",
    "\n",
    "3. 15\n",
    "\n",
    "4. 7500\n",
    "    \n",
    "</div>"
   ]
  },
  {
   "cell_type": "code",
   "execution_count": 45,
   "metadata": {
    "deletable": false,
    "nbgrader": {
     "cell_type": "code",
     "checksum": "e523b7143dde230214b842009a03155a",
     "grade": false,
     "grade_id": "cell-b24bba98b125d531",
     "locked": false,
     "schema_version": 3,
     "solution": true,
     "task": false
    }
   },
   "outputs": [],
   "source": [
    "# remove the line raise NotImplementedError() before testing your solution and submitting code\n",
    "\n",
    "# YOUR CODE HERE\n",
    "#raise NotImplementedError()\n",
    "\n",
    "answer_27  = 4"
   ]
  },
  {
   "cell_type": "code",
   "execution_count": 46,
   "metadata": {
    "deletable": false,
    "editable": false,
    "nbgrader": {
     "cell_type": "code",
     "checksum": "1bfc4c5167bd344bbe4695b8ca7b1fb6",
     "grade": true,
     "grade_id": "cell-d8317ef591c65e02",
     "locked": true,
     "points": 0.5,
     "schema_version": 3,
     "solution": false,
     "task": false
    }
   },
   "outputs": [
    {
     "name": "stdout",
     "output_type": "stream",
     "text": [
      "Sanity check tests passed!\n"
     ]
    }
   ],
   "source": [
    "# This cell is for tests\n",
    "assert answer_27 in [1,2,3,4], '\"answer\" Value should be an integer between 1 and 4.'\n",
    "print('Sanity check tests passed!')\n"
   ]
  },
  {
   "cell_type": "code",
   "execution_count": null,
   "metadata": {},
   "outputs": [],
   "source": []
  }
 ],
 "metadata": {
  "kernelspec": {
   "display_name": "Python 3",
   "language": "python",
   "name": "python3"
  },
  "language_info": {
   "codemirror_mode": {
    "name": "ipython",
    "version": 3
   },
   "file_extension": ".py",
   "mimetype": "text/x-python",
   "name": "python",
   "nbconvert_exporter": "python",
   "pygments_lexer": "ipython3",
   "version": "3.8.6"
  },
  "nbdime-conflicts": {
   "local_diff": [
    {
     "diff": [
      {
       "diff": [
        {
         "diff": [
          {
           "key": 2,
           "op": "addrange",
           "valuelist": "8"
          },
          {
           "key": 2,
           "length": 1,
           "op": "removerange"
          }
         ],
         "key": 0,
         "op": "patch"
        }
       ],
       "key": "version",
       "op": "patch"
      }
     ],
     "key": "language_info",
     "op": "patch"
    }
   ],
   "remote_diff": [
    {
     "diff": [
      {
       "diff": [
        {
         "key": 0,
         "length": 1,
         "op": "removerange"
        }
       ],
       "key": "version",
       "op": "patch"
      }
     ],
     "key": "language_info",
     "op": "patch"
    }
   ]
  },
  "toc": {
   "base_numbering": 1,
   "nav_menu": {},
   "number_sections": false,
   "sideBar": true,
   "skip_h1_title": false,
   "title_cell": "Table of Contents",
   "title_sidebar": "Contents",
   "toc_cell": false,
   "toc_position": {
    "height": "calc(100% - 180px)",
    "left": "10px",
    "top": "150px",
    "width": "284.1458435058594px"
   },
   "toc_section_display": true,
   "toc_window_display": true
  },
  "varInspector": {
   "cols": {
    "lenName": 16,
    "lenType": 16,
    "lenVar": 40
   },
   "kernels_config": {
    "python": {
     "delete_cmd_postfix": "",
     "delete_cmd_prefix": "del ",
     "library": "var_list.py",
     "varRefreshCmd": "print(var_dic_list())"
    },
    "r": {
     "delete_cmd_postfix": ") ",
     "delete_cmd_prefix": "rm(",
     "library": "var_list.r",
     "varRefreshCmd": "cat(var_dic_list()) "
    }
   },
   "types_to_exclude": [
    "module",
    "function",
    "builtin_function_or_method",
    "instance",
    "_Feature"
   ],
   "window_display": false
  }
 },
 "nbformat": 4,
 "nbformat_minor": 4
}
