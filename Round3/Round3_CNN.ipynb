{
 "cells": [
  {
   "cell_type": "markdown",
   "metadata": {
    "deletable": false,
    "editable": false,
    "nbgrader": {
     "cell_type": "markdown",
     "checksum": "a4f8bd1935ef129b934c0e44f5574710",
     "grade": false,
     "grade_id": "cell-f8bc4f88482f81cc",
     "locked": true,
     "schema_version": 3,
     "solution": false,
     "task": false
    }
   },
   "source": [
    "<h1 align=\"center\">Round 3 - Convolutional Neural Networks</h1>\n",
    "\n",
    "\n",
    "This notebook is a part of teaching material for CS-EJ3311 - Deep Learning with Python 13.09.-17.12.2021\\\n",
    "Aalto University (Espoo, Finland)\\\n",
    "fitech.io (Finland)"
   ]
  },
  {
   "cell_type": "markdown",
   "metadata": {
    "deletable": false,
    "editable": false,
    "nbgrader": {
     "cell_type": "markdown",
     "checksum": "0798eb42d8be6e1dd740fd4d0bfa4673",
     "grade": false,
     "grade_id": "cell-ce96a18df17a86b2",
     "locked": true,
     "schema_version": 3,
     "solution": false,
     "task": false
    }
   },
   "source": [
    "In Round 1 you have applied a simple artificial neural network to classify images. In this round, we discuss a particular class of ANN that is well suited for image data - convolutional neural networks (CNN). A CNN is a special case of ANN that contains several convolutional layers. Roughly speaking, convolutional layers are designed to learn to \"detect\" a specific pattern in an image. Such a pattern could be a simple geometric shape such as a circle or a higher-level concept like a tree. \n",
    "\n",
    "## Learning goals:\n",
    "\n",
    "- understand the basic principles of convolutional layers\n",
    "- understand the basic principles of a pooling layer \n",
    "- be able to construct a CNN  by combining convolutional layers\n",
    "- understand the \"padding\" and \"stride\" parameters in CNN\n",
    "- how to determine CNN parameters required for a given data set\n",
    "- how to visualize the activations (outputs) of different neurons within a CNN"
   ]
  },
  {
   "cell_type": "markdown",
   "metadata": {
    "deletable": false,
    "editable": false,
    "nbgrader": {
     "cell_type": "markdown",
     "checksum": "23c9895ce3467b382ae82bafd218fcfb",
     "grade": false,
     "grade_id": "cell-c2c6297644c0c35d",
     "locked": true,
     "schema_version": 3,
     "solution": false,
     "task": false
    }
   },
   "source": [
    "## Recommended Reading\n",
    "\n",
    "- Chapter 5 of \"Deep Learning with Python\" by F.Chollet. available via Aalto library [click here](https://primo.aalto.fi/discovery/search?query=any,contains,deep%20learning%20with%20python&tab=LibraryCatalog&search_scope=MyInstitution&sortby=date_d&vid=358AALTO_INST:VU1&facet=frbrgroupid,include,9062037433404512326&lang=en&offset=0)\n",
    "- Chapter 14 of \"Hands-On Machine Learning with Scikit-Learn, Keras, and TensorFlow\" by Aurélien Géron. available via Aalto library [click here](https://primo.aalto.fi/discovery/search?query=any,contains,Hands-On%20Machine%20Learning%20with%20Scikit-Learn,%20Keras,%20and%20TensorFlow&tab=LibraryCatalog&search_scope=MyInstitution&vid=358AALTO_INST:VU1&lang=en&offset=0)\n",
    "- Chapter 9 of \"Deep Learning\" by I.Goodfellow [click here](https://www.deeplearningbook.org)"
   ]
  },
  {
   "cell_type": "markdown",
   "metadata": {
    "deletable": false,
    "editable": false,
    "nbgrader": {
     "cell_type": "markdown",
     "checksum": "093a4aad8a8111fe98890ec0b9b459a2",
     "grade": false,
     "grade_id": "cell-7699c792d58a7d4a",
     "locked": true,
     "schema_version": 3,
     "solution": false,
     "task": false
    }
   },
   "source": [
    "# Convolutional Neural Network (CNN) "
   ]
  },
  {
   "cell_type": "markdown",
   "metadata": {
    "deletable": false,
    "editable": false,
    "nbgrader": {
     "cell_type": "markdown",
     "checksum": "859315e3f7d09c0945074a78c1f626ca",
     "grade": false,
     "grade_id": "cell-4db58f3cb9b4d852",
     "locked": true,
     "schema_version": 3,
     "solution": false,
     "task": false
    }
   },
   "source": [
    "In the previous round, we used an ANN to predict the label indicating a category of fashion items based on an image. There, we have used an ANN constituted by [dense layers](https://keras.io/api/layers/core_layers/dense/) with each neuron of the layer connected to each neuron in the preceding layer. \n",
    "\n",
    "Consider an ANN applied to images with a (rather low) resolution of $200 \\times 200$ pixels. Let us assume that the hidden layer consisting of only $128$ neurons. We would then already obtain $200 \\times 200 \\times 128$ tunable weights for this single hidden layer. \n",
    "\n",
    "As a rule of thumb, it is good to have at least ten times more labeled data points than the number of features. Thus, for the ANN with a single dense layer, we would need around $$10 \\times 200 \\times 200 \\times 128 = 51200000$$ fashion item images for which we know the true category. This significantly exceeds the number of training samples in the [fashion MNIST](https://www.tensorflow.org/datasets/catalog/fashion_mnist) dataset.  \n",
    "\n",
    "When developing a deep learning method, we often have different options for improving performance. One option is to collect more training data, i.e., manually label more images of fashion items. In this round, we focus on another alternative: reduce the number of tunable parameters (weights) in the ANN. \n",
    "\n",
    "It turned out that using dense layers for image-related problems is not efficient since ANN with densely connected layers does not preserve the structure or spatial information of the image. Convolutional neural networks (CNN), on the other hand, exploit this structure by using fewer connections between layers compared to dense layers. Generally, we can say that the neurons of the convolutional layer are learning to \"detect\" the presence of a specific visual pattern at a particular location on the image. Since these patterns only cover a small area (patch) of the original image, we need fewer connections between the neuron of a convolutional layer and a small set of neurons in the previous layer. This small set is called the **receptive field** of the neuron. We will discuss the architecture of the convolutional layer in more detail later in the notebook."
   ]
  },
  {
   "cell_type": "markdown",
   "metadata": {
    "deletable": false,
    "editable": false,
    "nbgrader": {
     "cell_type": "markdown",
     "checksum": "050281771ff959025889c709e7733e46",
     "grade": false,
     "grade_id": "cell-33bc59d42db2ca1a",
     "locked": true,
     "schema_version": 3,
     "solution": false,
     "task": false
    }
   },
   "source": [
    "A CNN consists of a sequence of different kinds of layers. There are three main types of layers in CNN:\n",
    "- Convolutional layer (conv)\n",
    "- Pooling layer (pooling)\n",
    "- Fully connected (or dense) Layer (FC)\n",
    "\n",
    "A typical CNN architecture looks like this: "
   ]
  },
  {
   "cell_type": "markdown",
   "metadata": {
    "deletable": false,
    "editable": false,
    "nbgrader": {
     "cell_type": "markdown",
     "checksum": "a42ad8f7b749ce58c0632bf07db7fc7b",
     "grade": false,
     "grade_id": "cell-3702e8c85beeb384",
     "locked": true,
     "schema_version": 3,
     "solution": false,
     "task": false
    }
   },
   "source": [
    "<img src=\"https://miro.medium.com/max/2000/1*vkQ0hXDaQv57sALXAJquxA.jpeg\" width=850>"
   ]
  },
  {
   "cell_type": "markdown",
   "metadata": {
    "deletable": false,
    "editable": false,
    "nbgrader": {
     "cell_type": "markdown",
     "checksum": "b2b4717cb5a4c428ca12edbe7ed92536",
     "grade": false,
     "grade_id": "cell-7eb85018a42ecff8",
     "locked": true,
     "schema_version": 3,
     "solution": false,
     "task": false
    }
   },
   "source": [
    "<center><a href=\"https://towardsdatascience.com/a-comprehensive-guide-to-convolutional-neural-networks-the-eli5-way-3bd2b1164a53\">image source</a></center>"
   ]
  },
  {
   "cell_type": "markdown",
   "metadata": {
    "deletable": false,
    "editable": false,
    "nbgrader": {
     "cell_type": "markdown",
     "checksum": "6a3b06a4e4cbc4fa5f6e9b20b4ce4793",
     "grade": false,
     "grade_id": "cell-1b2e53ab5d69269b",
     "locked": true,
     "schema_version": 3,
     "solution": false,
     "task": false
    }
   },
   "source": [
    "First, let's see what the input and convolutional layers are in a CNN."
   ]
  },
  {
   "cell_type": "markdown",
   "metadata": {
    "deletable": false,
    "editable": false,
    "nbgrader": {
     "cell_type": "markdown",
     "checksum": "497a6bf27405a1ff1bd3b0cfabfc0cbc",
     "grade": false,
     "grade_id": "cell-57431c9e27b444cc",
     "locked": true,
     "schema_version": 3,
     "solution": false,
     "task": false
    }
   },
   "source": [
    "### Input Layer\n",
    "\n",
    "In Round 1, we have \"flattened\" the image of a fashioned item. Flattening refers to the process of stacking the image pixel intensities into a one-dimensional feature vector. \n",
    "\n",
    "A very useful representation of image and video data is in the form of **tensors**. A tensor is a multidimensional array of numbers. In the case of two-dimensional space, tensors become **matrices**. For the one-dimensional space, tensors become **vectors**. In particular, we can represent a RGB colour image with $128 \\times 128$ pixels by a three-dimensional tensor of shape $(128,128,3)$. \n",
    "\n",
    "See below an example input to CNN - an image matrix (volume) of a dimension 3x3x3. The values of the volume are pixel values from 0 to 255."
   ]
  },
  {
   "cell_type": "markdown",
   "metadata": {
    "deletable": false,
    "editable": false,
    "nbgrader": {
     "cell_type": "markdown",
     "checksum": "65e5ec91980c676a6b16b4d6ac44aef6",
     "grade": false,
     "grade_id": "cell-5fefad6707012070",
     "locked": true,
     "schema_version": 3,
     "solution": false,
     "task": false
    }
   },
   "source": [
    "<img src=\"../../../coursedata/R3/volume.png\" width=400>"
   ]
  },
  {
   "cell_type": "markdown",
   "metadata": {
    "deletable": false,
    "editable": false,
    "nbgrader": {
     "cell_type": "markdown",
     "checksum": "50064a15619ff1e597dc09ac8ccaed48",
     "grade": false,
     "grade_id": "cell-1a7cc58973cabd33",
     "locked": true,
     "schema_version": 3,
     "solution": false,
     "task": false
    }
   },
   "source": [
    "### Convolutional Layer\n",
    "\n",
    "The crucial building block of CNN is a convolutional layer. A convolutional layer performs convolution operation between the image and kernels (also called filters). Basically, the **kernel** is a set of weights. **Convolution** of the image is a process where the kernel is sliding across the image and computing the weighted sum of the small area (patch) of the image. The kernel is typically much smaller (few pixels only) compared to the original image. Convolution of the image with kernels is used in image processing for edge detection, blurring, sharpening effects, etc. In the article [Kernel (Wikipedia)](https://en.wikipedia.org/wiki/Kernel_(image_processing)), you can see the effect of different kernels over an image.\n",
    "\n",
    "Consider a grayscale image of shape $3 \\times 3 \\times 1$ (height/weight/channels) and a kernel of size $2 \\times 2 \\times 1$. For each location in the original image, we compute the sum of the element-wise products between kernel (or kernel weights) and image pixel values:\n",
    "\n",
    "`0*1 + -1*0 + 20*2 + 5*(-1) = 35`"
   ]
  },
  {
   "cell_type": "markdown",
   "metadata": {
    "deletable": false,
    "editable": false,
    "nbgrader": {
     "cell_type": "markdown",
     "checksum": "387321b52bc01a72993b4f552cb92e0f",
     "grade": false,
     "grade_id": "cell-43f5d20d0b569435",
     "locked": true,
     "schema_version": 3,
     "solution": false,
     "task": false
    }
   },
   "source": [
    "<img src=\"../../../coursedata/R3/c1.png\" width=400>"
   ]
  },
  {
   "cell_type": "markdown",
   "metadata": {
    "deletable": false,
    "editable": false,
    "nbgrader": {
     "cell_type": "markdown",
     "checksum": "e5625d3d3cda5df0144ad3d029ed5422",
     "grade": false,
     "grade_id": "cell-e6ad5e3dca5b53ed",
     "locked": true,
     "schema_version": 3,
     "solution": false,
     "task": false
    }
   },
   "source": [
    "Next, the kernel slides to right by 1 pixel and produces the new value of a feature map as shown below. "
   ]
  },
  {
   "cell_type": "markdown",
   "metadata": {
    "deletable": false,
    "editable": false,
    "nbgrader": {
     "cell_type": "markdown",
     "checksum": "17ff839956506f0f4e2591fc0923ef67",
     "grade": false,
     "grade_id": "cell-ab35f080b8648de9",
     "locked": true,
     "schema_version": 3,
     "solution": false,
     "task": false
    }
   },
   "source": [
    "<img src=\"../../../coursedata/R3/c2.png\" width=400>"
   ]
  },
  {
   "cell_type": "markdown",
   "metadata": {
    "deletable": false,
    "editable": false,
    "nbgrader": {
     "cell_type": "markdown",
     "checksum": "754411869cc2754d70a6a4e4669c6d73",
     "grade": false,
     "grade_id": "cell-11ef6bc768084ada",
     "locked": true,
     "schema_version": 3,
     "solution": false,
     "task": false
    }
   },
   "source": [
    "Similarly, the kernel slides over the whole image (right and down) and produces the output of the convolution - a **feature or activation map**.\\\n",
    "Note that the resulting output image is smaller than the input image due to the convolution operation. The input to the convolution can be an image (pixel values) or the output from another convolution (feature map). "
   ]
  },
  {
   "cell_type": "markdown",
   "metadata": {
    "deletable": false,
    "editable": false,
    "nbgrader": {
     "cell_type": "markdown",
     "checksum": "9f3a1b1346e3c0fc891fcf2907aa76c3",
     "grade": false,
     "grade_id": "cell-f57f15d2a4dc2d68",
     "locked": true,
     "schema_version": 3,
     "solution": false,
     "task": false
    }
   },
   "source": [
    "<img src=\"../../../coursedata/R3/c3.png\" width=400>"
   ]
  },
  {
   "cell_type": "markdown",
   "metadata": {
    "deletable": false,
    "editable": false,
    "nbgrader": {
     "cell_type": "markdown",
     "checksum": "211ceed30dca2f86abc303bad171a2db",
     "grade": false,
     "grade_id": "cell-0813227d645dec3c",
     "locked": true,
     "schema_version": 3,
     "solution": false,
     "task": false
    }
   },
   "source": [
    "If you are still having trouble figuring out what is going on in the convolution operation, take a look at the following animation from the [Intuitive understanding of convolutions for deep learning](https://towardsdatascience.com/intuitively-understanding-convolutions-for-deep-learning-1f6f42faee1) article. Notice that in this case, we have a 5 x 5 image and a 3 x 3 kernel.\n",
    "\n",
    "<img src=\"https://miro.medium.com/max/294/1*BMngs93_rm2_BpJFH2mS0Q.gif\"> "
   ]
  },
  {
   "cell_type": "markdown",
   "metadata": {
    "deletable": false,
    "editable": false,
    "nbgrader": {
     "cell_type": "markdown",
     "checksum": "4fc3d3890c1a7b4e9220d7b6440159a3",
     "grade": false,
     "grade_id": "cell-3e8f02b3640c0286",
     "locked": true,
     "schema_version": 3,
     "solution": false,
     "task": false
    }
   },
   "source": [
    "<a id='St1'></a>\n",
    "<div class=\" alert alert-warning\">\n",
    "    <h3><b>Student task.</b> Convolution operation.</h3>\n",
    "        \n",
    "Your task is to perform convolution operation with an input and kernel depicted below. You can compute values manually, by pen & paper, or with Python. Report values $x1, x2, x3, x4$\n",
    "    \n",
    "</div>\n",
    "\n",
    "<img src=\"../../../coursedata/R3/st1.png\" width=450>"
   ]
  },
  {
   "cell_type": "code",
   "execution_count": 87,
   "metadata": {
    "deletable": false,
    "nbgrader": {
     "cell_type": "code",
     "checksum": "1497765feeb6fde6639ec8f60260bb77",
     "grade": false,
     "grade_id": "cell-4af70107ea5f8b5c",
     "locked": false,
     "schema_version": 3,
     "solution": true,
     "task": false
    }
   },
   "outputs": [],
   "source": [
    "# Uncomment lines below and fill-in computed values\n",
    "import numpy as np\n",
    "\n",
    "inp_ = np.array([[1,-1,0], [2,4,-1], [6,0,1]])\n",
    "kernel_ = np.array([[1,0], [0.5, -1]])\n",
    "\n",
    "x1 = (inp_[:2, :2] * kernel_).sum()\n",
    "x2 = (inp_[:2, 1:] * kernel_).sum()\n",
    "x3 = (inp_[1:, :2] * kernel_).sum()\n",
    "x4 = (inp_[1:, 1:] * kernel_).sum()\n",
    "\n",
    "#x1, x2, x3, x4\n",
    "# YOUR CODE HERE\n",
    "#raise NotImplementedError()"
   ]
  },
  {
   "cell_type": "code",
   "execution_count": 88,
   "metadata": {
    "deletable": false,
    "editable": false,
    "nbgrader": {
     "cell_type": "code",
     "checksum": "04cf65d038dafd7bb1235077681724e4",
     "grade": true,
     "grade_id": "cell-3130d65b4235d89a",
     "locked": true,
     "points": 1,
     "schema_version": 3,
     "solution": false,
     "task": false
    }
   },
   "outputs": [],
   "source": [
    "# this cell is for tests\n"
   ]
  },
  {
   "cell_type": "code",
   "execution_count": 89,
   "metadata": {},
   "outputs": [
    {
     "data": {
      "text/plain": [
       "((-2.0, 2.0), (5.0, 3.0))"
      ]
     },
     "execution_count": 89,
     "metadata": {},
     "output_type": "execute_result"
    }
   ],
   "source": [
    "((x1, x2), (x3, x4))"
   ]
  },
  {
   "cell_type": "code",
   "execution_count": 90,
   "metadata": {},
   "outputs": [],
   "source": [
    "#convolve2d(inp_, kernel_, mode=\"valid\")  # not the same thing"
   ]
  },
  {
   "cell_type": "markdown",
   "metadata": {
    "deletable": false,
    "editable": false,
    "nbgrader": {
     "cell_type": "markdown",
     "checksum": "73b63248140f30694df174ceac218eb0",
     "grade": false,
     "grade_id": "cell-82c4da97ae11f5ca",
     "locked": true,
     "schema_version": 3,
     "solution": false,
     "task": false
    }
   },
   "source": [
    "**Note!**\n",
    "\n",
    "Although the use of the term convolution is common in deep learning, what actually computed in practice is cross-correlation. Wiki about [convolution and cross-correlation](https://en.wikipedia.org/wiki/Convolution)."
   ]
  },
  {
   "cell_type": "markdown",
   "metadata": {
    "deletable": false,
    "editable": false,
    "nbgrader": {
     "cell_type": "markdown",
     "checksum": "4363be64a86521d655887a587a533976",
     "grade": false,
     "grade_id": "cell-5f4217e61797d21e",
     "locked": true,
     "schema_version": 3,
     "solution": false,
     "task": false
    }
   },
   "source": [
    "<a id='St1'></a>\n",
    "<div class=\" alert alert-info\">\n",
    "    <h3><b>Demo.</b> Edge detection.</h3>  \n",
    "\n",
    "The convolution of the input and kernel may be seen as a filtering or feature extraction operation, where different structures or patterns (such as edges or shapes) are extracted. For example, there are edge kernels that allow passing only information about the edges from the image. If the feature is present in the input, the output values of the convolution will be large. Applying filters (kernels) to an image is widely used in image processing. You can find some common examples in the article [Image Kernels](https://setosa.io/ev/image-kernels/).\n",
    "    \n",
    "In this demo, we will see an example of the convolution of an image and a kernel for edge detection.\n",
    "     \n",
    "</div>"
   ]
  },
  {
   "cell_type": "code",
   "execution_count": 91,
   "metadata": {
    "deletable": false,
    "editable": false,
    "nbgrader": {
     "cell_type": "code",
     "checksum": "cc02858ff3003b70656ecab0ff540b6a",
     "grade": false,
     "grade_id": "cell-29bfac119521b6d8",
     "locked": true,
     "schema_version": 3,
     "solution": false,
     "task": false
    },
    "tags": []
   },
   "outputs": [
    {
     "data": {
      "image/png": "[encoded data removed]",
      "text/plain": [
       "<Figure size 864x432 with 3 Axes>"
      ]
     },
     "metadata": {
      "needs_background": "light"
     },
     "output_type": "display_data"
    }
   ],
   "source": [
    "from pathlib import Path\n",
    "import numpy as np\n",
    "from PIL import Image\n",
    "import matplotlib.pyplot as plt\n",
    "from scipy.signal import convolve2d  \n",
    "\n",
    "fname = Path('..') / '..' /'..' /'coursedata' / 'R3' / 'guitar.png' # file name\n",
    "image = Image.open(str(fname)).convert(\"L\") # open image with python Image library\n",
    "arr = np.asarray(image) # convert image to array\n",
    "\n",
    "# define kernel values\n",
    "kernel = np.array([[-1, -1, -1],\n",
    "                   [-1, 8, -1],\n",
    "                   [-1, -1, -1]])\n",
    "\n",
    "# perform convolution operation\n",
    "conv_im1 = convolve2d(arr, kernel, mode='valid')\n",
    "\n",
    "fig, axes = plt.subplots(1,3, figsize=(12,6))\n",
    "\n",
    "axes[0].imshow(arr, cmap='gray')\n",
    "axes[1].imshow(kernel, cmap='gray')\n",
    "axes[2].imshow(conv_im1, cmap='gray', vmin=0, vmax=50)\n",
    "\n",
    "axes[0].set_title('image', fontsize=20)\n",
    "axes[1].set_title('kernel', fontsize=20)\n",
    "axes[2].set_title('convolution', fontsize=20)\n",
    "\n",
    "[ax.axis(\"off\") for ax in axes]\n",
    "\n",
    "plt.show()"
   ]
  },
  {
   "cell_type": "markdown",
   "metadata": {
    "deletable": false,
    "editable": false,
    "nbgrader": {
     "cell_type": "markdown",
     "checksum": "0d4b11016432695b78abc5c54c33ac4c",
     "grade": false,
     "grade_id": "cell-f5ce8f043ef9d6b7",
     "locked": true,
     "schema_version": 3,
     "solution": false,
     "task": false
    }
   },
   "source": [
    "In contrast to dense layers, which learn global patterns in their input space (each neuron is connected to every input entry), convolutional layers aim at detecting local patterns (each neuron is connected to only its own receptive field). \n",
    "You will notice that convolutional layers are usually depicted differently than ordinary ANN to clearly illustrate convolution operation on the input image. Let's represent both layers in \"un-folded\" and \"folded\" modes, so you could see differences between them clearly.  \n",
    "\n",
    "<img src=\"../../../coursedata/R3/c5.png\">"
   ]
  },
  {
   "cell_type": "markdown",
   "metadata": {
    "deletable": false,
    "editable": false,
    "nbgrader": {
     "cell_type": "markdown",
     "checksum": "ed86ca15b33c0d398dd17f51ab371ac5",
     "grade": false,
     "grade_id": "cell-660bef9e07633c15",
     "locked": true,
     "schema_version": 3,
     "solution": false,
     "task": false
    }
   },
   "source": [
    "As we discussed the convolution is a feature extraction operation. The kernel learns the particular feature from the image. In order to learn multiple features in parallel for a given input, the convolution layer has many different kernels. \n",
    "\n",
    "In CNN, kernels are initialized randomly and become weights, which will be subsequently learned by the network. To update the weights of the convolutional layer we use the same iterative process of gradient-based learning as for a simple ANN, but the backpropagation step is a bit more complicated due to the presence of convolution operation.\n",
    "\n",
    "The important thing to remember while doing a convolution operation is that the depth of a kernel should match that of the input depth. If you have an image of volume 3x3x3 as an input (where 3 represents 3 color channels: red, blue, and green), the kernel should also be of the same depth, for example, 2x2x3. "
   ]
  },
  {
   "cell_type": "markdown",
   "metadata": {
    "deletable": false,
    "editable": false,
    "nbgrader": {
     "cell_type": "markdown",
     "checksum": "cc3eeea5c30df55e2cff824179d2d34e",
     "grade": false,
     "grade_id": "cell-a2092529decf3f47",
     "locked": true,
     "schema_version": 3,
     "solution": false,
     "task": false
    }
   },
   "source": [
    "<img src=\"../../../coursedata/R3/c4.png\" width=1000>"
   ]
  },
  {
   "cell_type": "markdown",
   "metadata": {
    "deletable": false,
    "editable": false,
    "nbgrader": {
     "cell_type": "markdown",
     "checksum": "c747bc27b66d4e24cddee14d7fcdfe0e",
     "grade": false,
     "grade_id": "cell-3e25975c4c9ca8db",
     "locked": true,
     "schema_version": 3,
     "solution": false,
     "task": false
    }
   },
   "source": [
    "The activation maps from each kernel are stacked together along the depth dimension, thus creating the 3D output volume."
   ]
  },
  {
   "cell_type": "markdown",
   "metadata": {
    "deletable": false,
    "editable": false,
    "nbgrader": {
     "cell_type": "markdown",
     "checksum": "dd55048378ed85b720486c2fafe48e89",
     "grade": false,
     "grade_id": "cell-c281c4f94dd1aa3a",
     "locked": true,
     "schema_version": 3,
     "solution": false,
     "task": false
    }
   },
   "source": [
    "Check [this animation](../../../coursedata/R3/cnn.gif) that illustrates how the output is calculated for an MxNx3 image and 3x3x3 kernel.\n",
    "\n",
    "In [the following animation](https://cs231n.github.io/assets/conv-demo/index.html) you can see an example of multi-filter (2 kernels, W0 and W1) multi-channel (3 channels, e.g., RGB) convolution operation. "
   ]
  },
  {
   "cell_type": "markdown",
   "metadata": {
    "deletable": false,
    "editable": false,
    "nbgrader": {
     "cell_type": "markdown",
     "checksum": "2dcf1eb38970280da849859a3c15582c",
     "grade": false,
     "grade_id": "cell-ae0bcda46e06d1cc",
     "locked": true,
     "schema_version": 3,
     "solution": false,
     "task": false
    }
   },
   "source": [
    "The above animation illustrates the application of a convolutional layer to a zero-padded 7x7x3 input image and with a kernel of size 3x3x3 (note that the depth of the convolution kernel matches the depth of the image, both being 3). When the kernel is shifted to a particular location in the input image, it covers a small volume of the input (**receptive field**) and performs a convolution operation with this input. We sum up results of convolutions from all channels (and in this case, we also added bias term) for each location.\\\n",
    "Since 3D volumes are difficult to visualize, the input volume (blue), the kernel volume (red), and the output volume (green) are depicted row-wise. The kernel slides over the input and performs the convolution at every location aggregating the result in a feature map. \\\n",
    "This feature map is of size 3x3x1, shown as the green slice on the right. Since we used 2 different kernel we have 2 feature maps of size 3x3x1 and stacking them along the depth dimension would give us the final output of the convolution layer: a volume of size 3x3x2. "
   ]
  },
  {
   "cell_type": "markdown",
   "metadata": {
    "deletable": false,
    "editable": false,
    "nbgrader": {
     "cell_type": "markdown",
     "checksum": "e246daab43a4de6cc6dde7c8ded811dd",
     "grade": false,
     "grade_id": "cell-d9d622c66296b352",
     "locked": true,
     "schema_version": 3,
     "solution": false,
     "task": false
    }
   },
   "source": [
    "Below you can see yet another representation of the convolutional layer, to better understand its structure. Note that the convolutional layer has three dimensions. The depth of the conv layer depends on the number of kernels (here 2 kernels - depicted with dark brown and light brown colors). Each kernel in its turn has the same third dimension as the input. For example, if the input is a grayscale image, the kernel shape is (height x width x 1), while if the input is an RGB image, the kernel shape is (height x width x 3). Also note, that the neurons of the same \"slice\" are sharing the weights (so-called **parameter sharing**). E.g. all the \"dark brown\" neurons have the same kernel weights and bias, but different receptive filed (they apply the kernel to different \"patches\" of the image). Thus, if the kernel is tuned to detect a specific pattern, this pattern will be detected at any location of the image, as all neurons of the same \"slice\" have the same kernel. In addition, this gives us significantly fewer weights for a given convolutional layer."
   ]
  },
  {
   "cell_type": "markdown",
   "metadata": {
    "deletable": false,
    "editable": false,
    "nbgrader": {
     "cell_type": "markdown",
     "checksum": "7c7c0adbbdea4c6a69c008b8dca41fe4",
     "grade": false,
     "grade_id": "cell-440ab39b4d6e68b6",
     "locked": true,
     "schema_version": 3,
     "solution": false,
     "task": false
    }
   },
   "source": [
    "<img src=\"../../../coursedata/R3/3dconv.png\" width=700>"
   ]
  },
  {
   "cell_type": "markdown",
   "metadata": {
    "deletable": false,
    "editable": false,
    "nbgrader": {
     "cell_type": "markdown",
     "checksum": "c17cd65ffb5401c94467f7dfac2ea741",
     "grade": false,
     "grade_id": "cell-7a0e97b8ce11b2ff",
     "locked": true,
     "schema_version": 3,
     "solution": false,
     "task": false
    }
   },
   "source": [
    "Similar to ANNs also CNNs can contain several successive layers. Such a deep CNN, consisting of many convolutional layers and pooling layers, tends to learn **spatial hierarchies**. A spatial hierarchy is formed by having the first convolutional layers (closer to the input) learn low-level patterns (concepts) such as corners, edges, or rectangles. The deeper layers (more close to the output) combine low-level patterns to form higher-level patterns (concepts) such as \"dogs\" or \"cats\"."
   ]
  },
  {
   "cell_type": "markdown",
   "metadata": {
    "deletable": false,
    "editable": false,
    "nbgrader": {
     "cell_type": "markdown",
     "checksum": "90a3c4f4a2508b15d65d708f6eeee02b",
     "grade": false,
     "grade_id": "cell-efe665b4e3a7099b",
     "locked": true,
     "schema_version": 3,
     "solution": false,
     "task": false
    }
   },
   "source": [
    "### Zero Padding\n",
    "\n",
    "Above we discussed kernels that traverse across the image by one pixel at a time. We call several pixels (or step size) by which kernel traversed in each slide a **stride**. \\\n",
    "Also, we saw that the size of the output from convolution operation, i.e feature map, is smaller than the input image size. This means that we are losing some pixel values around the perimeter of the image. Since CNN might consist of many convolutional layers, loss of pixels values in each successive convolution layer might result in a loss of important features from the image. To get the input-sized output, we employ a technique called **zero padding**. Padding is a technique in which we add zero-valued pixels around the image symmetrically. \n",
    "\n",
    "Below you can see an example of zero padding with size one."
   ]
  },
  {
   "cell_type": "markdown",
   "metadata": {
    "deletable": false,
    "editable": false,
    "nbgrader": {
     "cell_type": "markdown",
     "checksum": "54061f879e5ca2eb994224df09c4bd7e",
     "grade": false,
     "grade_id": "cell-dbc30ebe5679a769",
     "locked": true,
     "schema_version": 3,
     "solution": false,
     "task": false
    }
   },
   "source": [
    "<img src=\"../../../coursedata/R3/padding.png\" width=600>"
   ]
  },
  {
   "cell_type": "markdown",
   "metadata": {
    "deletable": false,
    "editable": false,
    "nbgrader": {
     "cell_type": "markdown",
     "checksum": "f71538a71674d6e4d37c000d911596ce",
     "grade": false,
     "grade_id": "cell-cf38bcfd76dec5b7",
     "locked": true,
     "schema_version": 3,
     "solution": false,
     "task": false
    }
   },
   "source": [
    "In order to get the output volume of the same spatial dimension as input volume given the **stride=1**, we can find the size of zero padding needed with the following formula: \n",
    "\n",
    "<center> zero padding size = $\\large\\frac{(F-1)}{2}$, where $F$ is kernel size </center>\n",
    "\n",
    "In general, the size of an output of a convolutional layer can be calculated with the following formula:\n",
    "\n",
    "\\begin{equation}\n",
    "W_{out}\\times H_{out}\\times D_{out} = [\\lfloor \\frac{W_{in}+2P-F}{S} +1 \\rfloor , \\lfloor \\frac{H_{in}+2P-F}{S} + 1 \\rfloor, K]\n",
    "\\end{equation}\n",
    "\n",
    "where:\n",
    "\n",
    "- W -  width of input \n",
    "- H - height of input\n",
    "- P - padding\n",
    "- S - stride\n",
    "- F - kernel size\n",
    "- K - number of kernels\n",
    "- $\\lfloor x \\rfloor$ - denotes the [floor function](https://en.wikipedia.org/wiki/Floor_and_ceiling_functions), for example, $\\lfloor 2.3 \\rfloor = 2$"
   ]
  },
  {
   "cell_type": "markdown",
   "metadata": {
    "deletable": false,
    "editable": false,
    "nbgrader": {
     "cell_type": "markdown",
     "checksum": "01c357ff989a42df3f0332806428198b",
     "grade": false,
     "grade_id": "cell-4cecfb269fdaac0f",
     "locked": true,
     "schema_version": 3,
     "solution": false,
     "task": false
    }
   },
   "source": [
    "<a id='St2'></a>\n",
    "<div class=\" alert alert-warning\">\n",
    "    <h3><b>Student task.</b> Padding and stride.</h3>\n",
    "        \n",
    "Given:\n",
    "    \n",
    "- an input image of size 28x28 pixels, \n",
    "- network consisting of 3 convolutional layers and \n",
    "- kernel size=(3x3) for all layers, \n",
    "\n",
    "select padding and stride parameters such that the output of the network is 24x24. The input of the 1st conv layer is 28x28 image, the input of the 2nd conv layer is the output of 1st conv layer, etc.\n",
    "    \n",
    "Store values of padding and stride for first convolutional layer in variables `pad_cv1` and `stride_cv1`; for 2nd - in variables `pad_cv2` and `stride_cv2`;  for last - in variables `pad_cv3` and `stride_cv3`.   \n",
    "</div>"
   ]
  },
  {
   "cell_type": "code",
   "execution_count": 92,
   "metadata": {
    "deletable": false,
    "nbgrader": {
     "cell_type": "code",
     "checksum": "a79216ffe30dc146a2610baf177b8554",
     "grade": false,
     "grade_id": "cell-7e624b80f336a7e9",
     "locked": false,
     "schema_version": 3,
     "solution": true,
     "task": false
    }
   },
   "outputs": [],
   "source": [
    "pad_cv1, stride_cv1 = 1 , 1  # \"same\", 28x28\n",
    "pad_cv2, stride_cv2 = 0 , 1  # reduces dimension by 2 -> 26x26\n",
    "pad_cv3, stride_cv3 = 0 , 1  # -> 24x24\n",
    "\n",
    "# YOUR CODE HERE\n",
    "#raise NotImplementedError()"
   ]
  },
  {
   "cell_type": "code",
   "execution_count": 93,
   "metadata": {
    "deletable": false,
    "editable": false,
    "nbgrader": {
     "cell_type": "code",
     "checksum": "5e835c06dda6dd0d41ec8235835ef011",
     "grade": true,
     "grade_id": "cell-72ea6247204520e9",
     "locked": true,
     "points": 2,
     "schema_version": 3,
     "solution": false,
     "task": false
    }
   },
   "outputs": [],
   "source": [
    "# this cell is for tests\n"
   ]
  },
  {
   "cell_type": "markdown",
   "metadata": {
    "deletable": false,
    "editable": false,
    "nbgrader": {
     "cell_type": "markdown",
     "checksum": "052eb131417fad7a3317eb089589c641",
     "grade": false,
     "grade_id": "cell-02af1e705318f594",
     "locked": true,
     "schema_version": 3,
     "solution": false,
     "task": false
    }
   },
   "source": [
    "<b>In summary, convolutional layer:</b>\n",
    "<ul>\n",
    "  <li>learns local patterns </li>\n",
    "  <li>has following hyperparameters:</li>\n",
    "    <ul>\n",
    "      <li>Number of kernels, K</li>\n",
    "      <li>Stride length, S</li>\n",
    "      <li>Zero padding size, P</li>\n",
    "   </ul>\n",
    "  <li>It accepts the input volume of size:  $W_{in}$x$H_{in}$x$D_{in}$</li>\n",
    "  <li>It outputs the volume of size: $W_{out}$x$H_{out}$x$D_{out}$</li>\n",
    "    <br>\n",
    "  where \n",
    "    $W_{out}$x$H_{out}$x$D_{out}$ = $[\\lfloor \\frac{W_{in}+2P-F}{S} +1 \\rfloor , \\lfloor \\frac{H_{in}+2P-F}{S} + 1 \\rfloor, K]$\n"
   ]
  },
  {
   "cell_type": "markdown",
   "metadata": {
    "deletable": false,
    "editable": false,
    "nbgrader": {
     "cell_type": "markdown",
     "checksum": "d1eb874422d8e1e03099cfdc919ba9ea",
     "grade": false,
     "grade_id": "cell-9275775fee49e336",
     "locked": true,
     "schema_version": 3,
     "solution": false,
     "task": false
    }
   },
   "source": [
    "### Pooling Layer\n",
    "\n",
    "Another important building block of CNN is a [pooling layer](https://keras.io/api/layers/pooling_layers/). Pooling layers combine the output of several close-by entries of the input activation map to form the output of the pooling layer. Pooling operation greatly reduces the number of weights in the network and, thus, prevents overfitting of the network. \n",
    "\n",
    "Two of the most common pooling operations are:\n",
    "\n",
    "- [Max pooling](https://deepai.org/machine-learning-glossary-and-terms/max-pooling)\n",
    "- [Average pooling](https://machinelearningmastery.com/pooling-layers-for-convolutional-neural-networks/)\n",
    "\n",
    "Similar to the function of a convolution layer, a pooling layer amounts to applying the same operation to small areas (patches) of an image. In contrast to convolutional layers, this operation is a pooling operation. The outputs of a Max pooling layer are the largest values of the corresponding (small) patch of the input. In contrast, the output in average pooling layers is obtained by the (local) average over all entries in the corresponding patch of the input.  \n",
    "\n",
    "Below is a visualization of the max pooling operation. \n",
    "\n",
    "Max pooling with a kernel size of 2 and stride 1. We take the largest value from the window of the activation map overlapped by the kernel.\n",
    "\n",
    "<img src=\"../../../coursedata/R3/max1.png\" width=350>"
   ]
  },
  {
   "cell_type": "markdown",
   "metadata": {
    "deletable": false,
    "editable": false,
    "nbgrader": {
     "cell_type": "markdown",
     "checksum": "3e0b8aa4e1cd8a7a502d2072175897ca",
     "grade": false,
     "grade_id": "cell-27367d3b617f31e1",
     "locked": true,
     "schema_version": 3,
     "solution": false,
     "task": false
    }
   },
   "source": [
    "Similar to convolution operation, we move kernel with step size 1, until we get complete max pooled activation map.\n",
    "<img src=\"../../../coursedata/R3/max2.png\" width=350>"
   ]
  },
  {
   "cell_type": "markdown",
   "metadata": {
    "deletable": false,
    "editable": false,
    "nbgrader": {
     "cell_type": "markdown",
     "checksum": "b34372cf9ec38049e674d98a174883e2",
     "grade": false,
     "grade_id": "cell-b708ee6c42e8cc49",
     "locked": true,
     "schema_version": 3,
     "solution": false,
     "task": false
    }
   },
   "source": [
    "<b>In summary, pooling layer:</b> \n",
    "<ul>\n",
    "<li>reduces the number of parameters</li>\n",
    "<li>has following hyperparameters:</li>\n",
    "    <ul>\n",
    "      <li>Kernel size, F</li>\n",
    "      <li>Stride length, S</li>\n",
    "    </ul>\n",
    "<li>It does not have learnable parameters (its just performing maxout operation) </li>    \n",
    "<li>It accepts the input volume of size:  $W_{in}$x$H_{in}$x$D_{in}$</li>\n",
    "<li>It output the volume of size: $W_{out}$x$H_{out}$x$D_{out}$</li>\n",
    "\n",
    "<br>\n",
    " where \n",
    "$W_{out}$x$H_{out}$x$D_{out}$ = $[\\lfloor \\frac{W_{in}-F}{S} + 1 \\rfloor,\\lfloor \\frac{H_{in}-F}{S} + 1 \\rfloor, D_{in}]$\n",
    "</ul>\n",
    "\n",
    "Max pooling is used much more often than average pooling and two most common hyperparameter choices are F=3, S=2, and F=2, S=2 (later one being even more common) \n",
    "<a href='https://www.youtube.com/watch?v=8oOgPUO-TBY'>[1]</a>\n",
    "<a href='http://cs231n.github.io/convolutional-networks/'>[2]</a>."
   ]
  },
  {
   "cell_type": "markdown",
   "metadata": {
    "deletable": false,
    "editable": false,
    "nbgrader": {
     "cell_type": "markdown",
     "checksum": "f4bf348ce988cb1e054cb42dedcc06b7",
     "grade": false,
     "grade_id": "cell-b2cfcb19797499f8",
     "locked": true,
     "schema_version": 3,
     "solution": false,
     "task": false
    }
   },
   "source": [
    "A convolution layer followed by a pooling layer provides so called **invariance** property of CNN. This means that local patterns are \"detected\" even after some transformation (translation, rotation, scaling) of the input. For example, in the image below, you can see how the number five induces a large response in the network, despite slight rotation. Here, three kernels learned to match a slightly different orientation of the five. In the first case, the input matches the first kernel and results in the large values of the activation map, while in the second case rotated image matches the third kernel. In either case, pooling of activation maps will result in a large response (values). Read more in the [Deep Learning book](https://www.deeplearningbook.org/contents/convnets.html).\n",
    "\n",
    "<img src=\"../../../coursedata/R3/translinv.png\" width=500>"
   ]
  },
  {
   "cell_type": "markdown",
   "metadata": {
    "deletable": false,
    "editable": false,
    "nbgrader": {
     "cell_type": "markdown",
     "checksum": "f5e2b0967c3b67ef68950e3d5323408c",
     "grade": false,
     "grade_id": "cell-34bcba405df721f0",
     "locked": true,
     "schema_version": 3,
     "solution": false,
     "task": false
    }
   },
   "source": [
    "### Fully-Connected layer\n",
    "\n",
    "In this layer, the feature map from the last convolution or pooling layer is flattened into a single vector of values and fed into a fully connected layer. Fully connected layers are the same as in ANN we saw before and perform the same mathematical operations. After passing through the fully connected layers, the final layer uses the softmax activation function which gives the probabilities of the input belonging to a particular class.\n",
    "\n",
    "<img src=\"../../../coursedata/R3/fully_connected.png\" width=550>"
   ]
  },
  {
   "cell_type": "markdown",
   "metadata": {
    "deletable": false,
    "editable": false,
    "nbgrader": {
     "cell_type": "markdown",
     "checksum": "339ebd4a9727ee7b4116ebf48caf0321",
     "grade": false,
     "grade_id": "cell-82ad93a46e75bdca",
     "locked": true,
     "schema_version": 3,
     "solution": false,
     "task": false
    }
   },
   "source": [
    "### Number of parameters in CNN layer\n",
    "\n",
    "Deep learning models learn hundreds of thousands of parameters (weights and biases). Knowing the total numbers of learnable parameters helps to determine the required sample size (number of training data points) in order to avoid overfitting. \n",
    "For CNN we can calculate the number of learnable parameters in each layer as follows:\n",
    "\n",
    "$\\text{Number of params}  = (kernel\\_ width * kernel\\_height * channels\\_in + 1 \\text{ (for bias))} * channels\\_out$\n",
    "\n",
    "In the typical CNN, the spatial volume of the output decreases while the number of the kernels learned increases as we go deeper into the network. The convention is to choose the number of kernels equal to powers of 2 (e.g. $2^5=32$, $2^6=64$), and kernel size to be an odd integer value (e.g. 3 or 5).\n",
    "\n",
    "Using the above formula, let's calculate the numbers of parameters in the convolutional layers."
   ]
  },
  {
   "cell_type": "markdown",
   "metadata": {
    "deletable": false,
    "editable": false,
    "nbgrader": {
     "cell_type": "markdown",
     "checksum": "9ecdd37c05669414614fe236c20f5f9f",
     "grade": false,
     "grade_id": "cell-b9be5ab63a2b5be8",
     "locked": true,
     "schema_version": 3,
     "solution": false,
     "task": false
    }
   },
   "source": [
    "<a id='St5'></a>\n",
    "<div class=\" alert alert-warning\">\n",
    "    <h3><b>Student task.</b> Compute number of parameters.</h3>\n",
    "<p>Given:</p>\n",
    "\n",
    "- an input image of size 28x28 pixels (grayscale), \n",
    "- network consisting of 3 convolutional layers with parameters: </br>\n",
    "    \n",
    "     conv1: kernel size=(3x3), number of kernels=16 </br>\n",
    "     conv2: kernel size=(3x3), number of kernels=32 </br>\n",
    "     conv3: kernel size=(3x3), number of kernels=64 </br>\n",
    "    \n",
    "Compute the total number of parameters (including biases) and store them in the variable `params_num`.      \n",
    "</div>"
   ]
  },
  {
   "cell_type": "code",
   "execution_count": 95,
   "metadata": {
    "deletable": false,
    "nbgrader": {
     "cell_type": "code",
     "checksum": "4d767bb1dd3344e08dbf94f62f88d048",
     "grade": false,
     "grade_id": "cell-b70d12ad407894d6",
     "locked": false,
     "schema_version": 3,
     "solution": true,
     "task": false
    }
   },
   "outputs": [
    {
     "name": "stdout",
     "output_type": "stream",
     "text": [
      "Total number of parameters is 23296\n"
     ]
    }
   ],
   "source": [
    "params_num =  ((3*3*1  + 1) * 16) \\\n",
    "            + ((3*3*16 + 1) * 32) \\\n",
    "            + ((3*3*32 + 1) * 64)\n",
    "\n",
    "# YOUR CODE HERE\n",
    "#raise NotImplementedError()\n",
    "\n",
    "print(\"Total number of parameters is\", params_num)"
   ]
  },
  {
   "cell_type": "code",
   "execution_count": 96,
   "metadata": {
    "deletable": false,
    "editable": false,
    "nbgrader": {
     "cell_type": "code",
     "checksum": "a33e93e4f99c852cdb3747d327b7d15e",
     "grade": true,
     "grade_id": "cell-73734aae323e701f",
     "locked": true,
     "points": 1,
     "schema_version": 3,
     "solution": false,
     "task": false
    }
   },
   "outputs": [],
   "source": [
    "# this cell is for tests\n"
   ]
  },
  {
   "cell_type": "markdown",
   "metadata": {
    "deletable": false,
    "editable": false,
    "nbgrader": {
     "cell_type": "markdown",
     "checksum": "2f1ffca18781e64d29cd4977743f80be",
     "grade": false,
     "grade_id": "cell-0b7abe15d4a18337",
     "locked": true,
     "schema_version": 3,
     "solution": false,
     "task": false
    }
   },
   "source": [
    "## Building and Using CNN in Keras"
   ]
  },
  {
   "cell_type": "markdown",
   "metadata": {
    "deletable": false,
    "editable": false,
    "nbgrader": {
     "cell_type": "markdown",
     "checksum": "600268a056109c6ffce42fb54195014f",
     "grade": false,
     "grade_id": "cell-3e51ca7335b34ea8",
     "locked": true,
     "schema_version": 3,
     "solution": false,
     "task": false
    }
   },
   "source": [
    "Since CNN is a special case of an ANN, applying a CNN follows the same usage pattern as for an ANN. \n",
    "\n",
    "1. Load the data. \n",
    "2. Define the hypothesis space by choosing a network structure. \n",
    "3. Configure the learning process by choosing a loss function and optimizer. \n",
    "4. Train a model to find good choices for network parameters (weights and bias).  "
   ]
  },
  {
   "cell_type": "code",
   "execution_count": 97,
   "metadata": {
    "deletable": false,
    "editable": false,
    "nbgrader": {
     "cell_type": "code",
     "checksum": "c028a064b3e9c8770432629a19d96ad7",
     "grade": false,
     "grade_id": "cell-aa363108a02a7f20",
     "locked": true,
     "schema_version": 3,
     "solution": false,
     "task": false
    }
   },
   "outputs": [],
   "source": [
    "\n",
    "import tensorflow as tf                               # tensorflow library provides functions for deep neural networks \n",
    "from tensorflow.keras.datasets import fashion_mnist   # to load the fashion mnist data set\n",
    "import matplotlib.pyplot as plt                       # provides functios to visualize data\n",
    "import numpy as np                                    # provides functions for matrix computations\n",
    "from sklearn.metrics import classification_report     # function for computing classification metrics \n",
    "from numpy.random import seed                         # for reproducibility \n",
    "seed(1)\n",
    "tf.random.set_seed(1)"
   ]
  },
  {
   "cell_type": "markdown",
   "metadata": {
    "deletable": false,
    "editable": false,
    "nbgrader": {
     "cell_type": "markdown",
     "checksum": "569f3187fb236f8a76f9f0466775ad7f",
     "grade": false,
     "grade_id": "cell-2929eff9596c2e96",
     "locked": true,
     "schema_version": 3,
     "solution": false,
     "task": false
    }
   },
   "source": [
    "### Step 1 - Dataset"
   ]
  },
  {
   "cell_type": "markdown",
   "metadata": {
    "deletable": false,
    "editable": false,
    "nbgrader": {
     "cell_type": "markdown",
     "checksum": "666de9f7559f89c8482416a0df376867",
     "grade": false,
     "grade_id": "cell-01ae12dc565b33cb",
     "locked": true,
     "schema_version": 3,
     "solution": false,
     "task": false
    }
   },
   "source": [
    "We will use the same dataset as for Round 1, i.e., [Fashion-MNIST](https://www.tensorflow.org/datasets/catalog/fashion_mnist) dataset. Each data point is represented by a grayscale image of size 28x28 pixels. Each image represents a specific fashion item and each data point is associated with a label taking on values $y=0,\\dots,9$ according to 10 different classes.\n",
    "\n",
    "Load dataset using the command `tf.keras.datasets.fashion_mnist.load_data()`\n",
    "\n",
    "In Round 1 we split our dataset on training and validation sets automatically by using argument `validation_split` of keras `fit()` function:\\\n",
    "`model.fit(train_images, train_labels, validation_split=0.2, epochs=20)`\n",
    "\n",
    "We can also manually define our train and validation sets by using argument `validation_data`:\\\n",
    "`model.fit(train_images, train_labels, validation_data=(validation_images, validation_labels), epochs=20)`\n",
    "\n",
    "To use this method, let's define our train and validation subsets and normalize them.    "
   ]
  },
  {
   "cell_type": "markdown",
   "metadata": {
    "deletable": false,
    "editable": false,
    "nbgrader": {
     "cell_type": "markdown",
     "checksum": "bd07c3dec130fda0762fce604f309a0f",
     "grade": false,
     "grade_id": "cell-2d7b542543e8be6c",
     "locked": true,
     "schema_version": 3,
     "solution": false,
     "task": false
    }
   },
   "source": [
    "<a id='St3'></a>\n",
    "<div class=\" alert alert-warning\">\n",
    "    <h3><b>Student task.</b> Load the dataset.</h3>\n",
    "        \n",
    "Your task is to load the Fashion-MNIST dataset using `tf.keras.datasets`. We will use only part of the dataset in order to reduce CNN training time.\n",
    "    \n",
    "When loading dataset with `tf.keras.datasets`, training and test sets are returned. You need to split the training set further onto training and validation subsets. Out of the whole training set (60.000 samples), choose the first 10.000 images and labels for the training dataset and the next 6.000 samples for the validation dataset. Store features and labels in numpy arrays `X_train, y_train` & `X_val, y_val`.\n",
    "Normalize features by 255. The shape of datasets should be (m, IMG_HEIGHT, IMG_WIDTH, 1), where last dimension is for image channel (1 for grayscale and 3 for RGB).\n",
    "</div>"
   ]
  },
  {
   "cell_type": "code",
   "execution_count": 98,
   "metadata": {},
   "outputs": [
    {
     "data": {
      "text/plain": [
       "(10000, 28, 28)"
      ]
     },
     "execution_count": 98,
     "metadata": {},
     "output_type": "execute_result"
    }
   ],
   "source": [
    "(X_trainval, y_trainval), (X_test, y_test) = tf.keras.datasets.fashion_mnist.load_data()\n",
    "X_trainval[:10000,:,:].shape"
   ]
  },
  {
   "cell_type": "code",
   "execution_count": 99,
   "metadata": {},
   "outputs": [
    {
     "data": {
      "text/plain": [
       "(60000, 28, 28, 1)"
      ]
     },
     "execution_count": 99,
     "metadata": {},
     "output_type": "execute_result"
    }
   ],
   "source": [
    "X_trainval.reshape(-1, 28, 28, 1).shape"
   ]
  },
  {
   "cell_type": "code",
   "execution_count": 100,
   "metadata": {},
   "outputs": [
    {
     "data": {
      "text/plain": [
       "(60000,)"
      ]
     },
     "execution_count": 100,
     "metadata": {},
     "output_type": "execute_result"
    }
   ],
   "source": [
    "y_trainval.shape"
   ]
  },
  {
   "cell_type": "code",
   "execution_count": 101,
   "metadata": {
    "deletable": false,
    "nbgrader": {
     "cell_type": "code",
     "checksum": "53a4aff274dfb659957cffdb02ed7e94",
     "grade": false,
     "grade_id": "cell-c141b60c3fda2e2b",
     "locked": false,
     "schema_version": 3,
     "solution": true,
     "task": false
    }
   },
   "outputs": [
    {
     "name": "stdout",
     "output_type": "stream",
     "text": [
      "Number of training examples: (10000, 28, 28, 1)\n",
      "Number of validation examples: (6000, 28, 28, 1)\n",
      "Number of test examples: (10000, 28, 28, 1)\n"
     ]
    }
   ],
   "source": [
    "# load dataset\n",
    "(X_trainval, y_trainval), (X_test, y_test) = tf.keras.datasets.fashion_mnist.load_data()\n",
    "\n",
    "# split trainval set into  training and validation datasets (X_train,y_train) & (X_val, y_val)\n",
    "# normalize feature values by 255\n",
    "\n",
    "X_train = X_trainval[:10000,:,:] / 255.\n",
    "y_train = y_trainval[:10000]\n",
    "\n",
    "X_val = X_trainval[10000:16000] / 255.\n",
    "y_val = y_trainval[10000:16000]\n",
    "\n",
    "# normalize test set by 255\n",
    "X_test = X_test / 255.\n",
    "\n",
    "# reshape features to specify number of channels (one for grayscale images and three for RGB)\n",
    "# as last dimension: (n_samples,height,width,channels)\n",
    "\n",
    "X_train = X_train.reshape(-1, 28, 28, 1)\n",
    "X_val   = X_val.reshape(-1, 28, 28, 1)\n",
    "X_test  = X_test.reshape(-1, 28, 28, 1)\n",
    "\n",
    "# YOUR CODE HERE\n",
    "#raise NotImplementedError()\n",
    "\n",
    "# shape of train, validation and test datasets\n",
    "print(f'Number of training examples: {X_train.shape}')\n",
    "print(f'Number of validation examples: {X_val.shape}')\n",
    "print(f'Number of test examples: {X_test.shape}')"
   ]
  },
  {
   "cell_type": "code",
   "execution_count": 102,
   "metadata": {
    "deletable": false,
    "editable": false,
    "nbgrader": {
     "cell_type": "code",
     "checksum": "10daf56c3e898c3aa1093cc95dc116eb",
     "grade": false,
     "grade_id": "cell-82e1b8e4bb052c89",
     "locked": true,
     "schema_version": 3,
     "solution": false,
     "task": false
    }
   },
   "outputs": [
    {
     "name": "stdout",
     "output_type": "stream",
     "text": [
      "Sanity checks passed!\n"
     ]
    }
   ],
   "source": [
    "# Perform some sanity checks on the solution\n",
    "assert X_train.shape == (10000, 28, 28, 1), \"The shape of X_train is incorrect!\"\n",
    "assert X_val.shape == (6000, 28, 28, 1), \"The shape of X_val is incorrect!\"\n",
    "assert X_test.shape == (10000, 28, 28, 1), \"The shape of X_test is incorrect!\"\n",
    "\n",
    "print(\"Sanity checks passed!\")"
   ]
  },
  {
   "cell_type": "code",
   "execution_count": 103,
   "metadata": {
    "deletable": false,
    "editable": false,
    "nbgrader": {
     "cell_type": "code",
     "checksum": "945a63c50940c14bffa20efaeb2cb003",
     "grade": true,
     "grade_id": "cell-a4745901d721a74e",
     "locked": true,
     "points": 2,
     "schema_version": 3,
     "solution": false,
     "task": false
    }
   },
   "outputs": [],
   "source": [
    "# cell for hidden test\n"
   ]
  },
  {
   "cell_type": "markdown",
   "metadata": {
    "deletable": false,
    "editable": false,
    "nbgrader": {
     "cell_type": "markdown",
     "checksum": "d57317477da30fc2d978d2bc08262ed2",
     "grade": false,
     "grade_id": "cell-2169c8d3f0bed17e",
     "locked": true,
     "schema_version": 3,
     "solution": false,
     "task": false
    }
   },
   "source": [
    "### Step 2: Choose CNN Architecture (Hypothesis Space)\n",
    "\n",
    "\n",
    "We will use <b>Conv2d Keras</b> class to define convolutional layer:  `tf.keras.layers.Conv2D(args)`. This method requires the number of parameters (arguments). The parameters we define are:\n",
    "    \n",
    "- `filters`:  the number of kernels the layers will learn; the dimensionality of the output space (i.e. the number of output channels).\n",
    "\n",
    "- `kernel_size`:  integer specifying the height and width of the 2D convolution window size. Can be a single integer to specify the same value for all spatial dimensions.\n",
    "\n",
    "- `padding`: types of padding to apply; one of \"valid\" or \"same\" (case-insensitive). \"valid\" means no padding, thus spatial dimension will be reduced. \"same\" results in padding evenly to the left/right or up/down of the input such that output has the same height/width dimension as the input.\n",
    "\n",
    "- `activation`  - string specifying the activation function to apply after performing the convolution.\n",
    "\n",
    "Similarly, we apply max pooling in our pooling layer by using <b>MaxPool2D</b> class: `tf.keras.layers.MaxPool2D(args)`. The parameter in this layer are:\n",
    "- `pool_size` - determines the kernel size \n",
    "\n",
    "Conv2d and and MaxPool2d have some more optional parameters to define, read more [here](https://keras.io/api/layers/convolution_layers/convolution2d/) and [here](https://keras.io/api/layers/pooling_layers/max_pooling2d/). \n",
    "\n",
    "To connect the output of conv layers with dense layer, we can automatically flatten the input by calling `tf.keras.layers.Flatten()` ([docs](https://keras.io/api/layers/reshaping_layers/flatten/)). You can find information about other layers provided by Keras [here](https://keras.io/api/layers/).\n",
    "\n",
    "We will also use the optional parameter `name` to give a name to each of the layers, as we will need to identify layers during testing your model architecture."
   ]
  },
  {
   "cell_type": "markdown",
   "metadata": {
    "deletable": false,
    "editable": false,
    "nbgrader": {
     "cell_type": "markdown",
     "checksum": "d52d985f236b6172f8d9f9b7322e6ff7",
     "grade": false,
     "grade_id": "cell-0d7fd529b66bc80e",
     "locked": true,
     "schema_version": 3,
     "solution": false,
     "task": false
    }
   },
   "source": [
    "<a id='St4'></a>\n",
    "<div class=\" alert alert-warning\">\n",
    "    <h3><b>Student task.</b> Build a CNN.</h3>\n",
    "        \n",
    "Your task is to build a Convolutional Neural Network using sequential API from Keras. If you forgot how to use Keras Sequential model, find some examples [here](https://keras.io/guides/sequential_model/). Our network will consist of a sequence of the following layers:\n",
    "</div>\n",
    "\n",
    "   - **conv layer** with 16 kernels of size 3x3 and activation function ReLU. \n",
    "       The output of this layer should have the same height/width dimension as the input.\n",
    "       For the first convolutional layer, you also need to indicate the appropriate input shape (param `input_shape`).\n",
    "       You should name this layer 'cv1'. \n",
    "\n",
    "   - **conv layer** with 16 kernels of size 3x3 and activation function ReLU. \n",
    "       The output of this layer should have the same height/width dimension as the input.\n",
    "       You should name this layer 'cv2'.\n",
    "\n",
    "   - **max pooling layer** with kernel size 2x2.\n",
    "       You should name this layer 'maxpool'.\n",
    "\n",
    "   - **flattening layer**\n",
    "       You should name this layer 'flatten'.\n",
    "\n",
    "   - **dense layer** with 64 units and activation function ReLU. \n",
    "       You should name this layer 'dense'.\n",
    "\n",
    "   - **dense output layer** with 10 units and softmax activation function.\n",
    "       You should name this layer 'output'.\n",
    "       \n",
    "You can verify the architecture of CNN by printing out a summary of your model with `model.summary()`. In addition, it will automatically compute the number of the model's parameters.\n",
    "\n",
    "There is another useful function which allows to inspect model visually - `tf.keras.utils.plot_model` [docs](https://keras.io/api/utils/model_plotting_utils/). It plots the graph of the model and saves it to the file, e.g.:\n",
    "\n",
    "```\n",
    "tf.keras.utils.plot_model(\n",
    "    model, \n",
    "    show_shapes=True, \n",
    "    show_layer_names=True\n",
    "    )\n",
    "```"
   ]
  },
  {
   "cell_type": "code",
   "execution_count": 104,
   "metadata": {
    "deletable": false,
    "nbgrader": {
     "cell_type": "code",
     "checksum": "35582aeefa6727529c2c96226de7b573",
     "grade": false,
     "grade_id": "cell-221d5144a0103cf8",
     "locked": false,
     "schema_version": 3,
     "solution": true,
     "task": false
    }
   },
   "outputs": [
    {
     "data": {
      "image/png": "[encoded data removed]",
      "text/plain": [
       "<IPython.core.display.Image object>"
      ]
     },
     "execution_count": 104,
     "metadata": {},
     "output_type": "execute_result"
    }
   ],
   "source": [
    "# define the model architecture using Sequential API\n",
    "model = tf.keras.models.Sequential([\n",
    "    tf.keras.layers.Conv2D(filters = 16, kernel_size = 3, activation = \"relu\", padding = \"same\", \n",
    "                           input_shape = (28,28,1), name=\"cv1\"),\n",
    "    tf.keras.layers.Conv2D(filters = 16, kernel_size = 3, activation = \"relu\", padding = \"same\", name=\"cv2\"),\n",
    "    tf.keras.layers.MaxPool2D(pool_size = 2, name = \"maxpool\"),\n",
    "    tf.keras.layers.Flatten(name = \"flatten\"),\n",
    "    tf.keras.layers.Dense(64, activation = \"relu\", name = \"dense\"),\n",
    "    tf.keras.layers.Dense(10, activation = \"softmax\", name = \"output\")\n",
    "        ])\n",
    "\n",
    "\n",
    "# YOUR CODE HERE\n",
    "#raise NotImplementedError()\n",
    "\n",
    "tf.keras.utils.plot_model(\n",
    "    model, \n",
    "    show_shapes=True, \n",
    "    show_layer_names=True\n",
    "    )"
   ]
  },
  {
   "cell_type": "code",
   "execution_count": 105,
   "metadata": {
    "deletable": false,
    "editable": false,
    "nbgrader": {
     "cell_type": "code",
     "checksum": "ae767e33ce51fc0862bf34a341608b75",
     "grade": false,
     "grade_id": "cell-9aa6a42a6b2a85ac",
     "locked": true,
     "schema_version": 3,
     "solution": false,
     "task": false
    }
   },
   "outputs": [
    {
     "name": "stdout",
     "output_type": "stream",
     "text": [
      "Sanity checks passed!\n"
     ]
    }
   ],
   "source": [
    "# Perform some sanity checks on the solution\n",
    "assert len(model.layers) == 6, \"There should be 6 layers!\"\n",
    "\n",
    "print(\"Sanity checks passed!\")"
   ]
  },
  {
   "cell_type": "code",
   "execution_count": 23,
   "metadata": {
    "deletable": false,
    "editable": false,
    "nbgrader": {
     "cell_type": "code",
     "checksum": "65bc393d4b5f15f1bc8e325a4292ea9d",
     "grade": true,
     "grade_id": "cell-a704d0816154c903",
     "locked": true,
     "points": 3,
     "schema_version": 3,
     "solution": false,
     "task": false
    },
    "tags": []
   },
   "outputs": [],
   "source": [
    "# this cell is for tests\n"
   ]
  },
  {
   "cell_type": "markdown",
   "metadata": {
    "deletable": false,
    "editable": false,
    "nbgrader": {
     "cell_type": "markdown",
     "checksum": "1a96ef869e4c2aca146dc086c9beac57",
     "grade": false,
     "grade_id": "cell-0c58582dc3a0967c",
     "locked": true,
     "schema_version": 3,
     "solution": false,
     "task": false
    }
   },
   "source": [
    "### Step 3 - Compile a model (here we choose a loss function)\n",
    "\n",
    "In order to find good values for the CNN weights, we will use `sparse_categorical_crossentropy`.  \n",
    "\n",
    "**Note!**  We use `categorical_crossentropy` loss function for multiclass classification & when labels are provided in one_hot representation. Use `sparse_categorical_crossentropy` when you want to provide labels as integers.\n",
    "\n",
    "\n",
    "What are the differences? In principle none, as they both compute categorical cross-entropy, but read more [here](https://stackoverflow.com/questions/58565394/what-is-the-difference-between-sparse-categorical-crossentropy-and-categorical-c)."
   ]
  },
  {
   "cell_type": "markdown",
   "metadata": {
    "deletable": false,
    "editable": false,
    "nbgrader": {
     "cell_type": "markdown",
     "checksum": "cfa9b1765299b2d547c263b63415a071",
     "grade": false,
     "grade_id": "cell-9770b9d15547e3ff",
     "locked": true,
     "schema_version": 3,
     "solution": false,
     "task": false
    }
   },
   "source": [
    "<a id='St5'></a>\n",
    "<div class=\" alert alert-warning\">\n",
    "    <h3><b>Student task.</b> Compile the model.</h3>\n",
    "        \n",
    "Your task is to compile a model with `sparse_categorical_crossentropy` loss, RMSprop optimizer, and `sparse_categorical_accuracy` as metrics.\n",
    "\n",
    "You can specify optimizer RMSprop as follows: `optimizer='RMSprop'` or `optimizer=tf.keras.optimizers.RMSprop`.\n",
    "\n",
    "RMSprop optimization algorithm is preferable to stochastic gradient descent (SGD) because RMSprop automates learning-rate tuning. Other optimizers, such as Adam and Adagrad, also automatically adapt the learning rate during training and would work equally well here.\n",
    "    \n",
    "</div>"
   ]
  },
  {
   "cell_type": "code",
   "execution_count": 106,
   "metadata": {
    "deletable": false,
    "nbgrader": {
     "cell_type": "code",
     "checksum": "8f1541b41377c5f73f5c6a5e20c5b6e3",
     "grade": false,
     "grade_id": "cell-604df74a707dea2b",
     "locked": false,
     "schema_version": 3,
     "solution": true,
     "task": false
    }
   },
   "outputs": [],
   "source": [
    "# model.compile(...\n",
    "model.compile(optimizer=\"RMSprop\", metrics=[\"sparse_categorical_accuracy\"], loss=\"sparse_categorical_crossentropy\")\n",
    "\n",
    "# YOUR CODE HERE\n",
    "#raise NotImplementedError()"
   ]
  },
  {
   "cell_type": "code",
   "execution_count": 107,
   "metadata": {
    "deletable": false,
    "editable": false,
    "nbgrader": {
     "cell_type": "code",
     "checksum": "0ce18910cdd1bc0c95ea6124c16e4a86",
     "grade": true,
     "grade_id": "cell-ac303a266a371e98",
     "locked": true,
     "points": 2,
     "schema_version": 3,
     "solution": false,
     "task": false
    }
   },
   "outputs": [],
   "source": [
    "# this cell is for tests\n"
   ]
  },
  {
   "cell_type": "markdown",
   "metadata": {
    "deletable": false,
    "editable": false,
    "nbgrader": {
     "cell_type": "markdown",
     "checksum": "611d5044c662aaeca5c35593650d533f",
     "grade": false,
     "grade_id": "cell-e81c7e98b9a22602",
     "locked": true,
     "schema_version": 3,
     "solution": false,
     "task": false
    }
   },
   "source": [
    "### Step 4 - Train the network\n",
    "\n",
    "We will train CNN for 20 epochs - this may take some minutes to run.\n",
    "\n",
    "Loss and accuracy are good indicators of learning progress. The model makes predictions for the training data and then the loss is calculated comparing the predictions against the known labels, and accuracy, which is the proportion of correct guesses."
   ]
  },
  {
   "cell_type": "markdown",
   "metadata": {
    "deletable": false,
    "editable": false,
    "nbgrader": {
     "cell_type": "markdown",
     "checksum": "5eb4b0a8e38471fe88297fca6a26afe3",
     "grade": false,
     "grade_id": "cell-59d9c30f98117695",
     "locked": true,
     "schema_version": 3,
     "solution": false,
     "task": false
    }
   },
   "source": [
    "<a id='St6'></a>\n",
    "<div class=\" alert alert-warning\">\n",
    "    <h3><b>Student task.</b> Train the model.</h3>\n",
    "        \n",
    "Your task is to [train a model](https://keras.io/api/models/model_training_apis/#fit-method). Use training and validation datasets (batch size=32). \n",
    "Check accuracy of a trained model on a test dataset by calling [`evaluate` method](https://keras.io/api/models/model_training_apis/#evaluate-method). Use batch_size=128 parameter.\n",
    "The accuracy of a trained model should be above 85% (around 20 epochs should be enough). \n",
    "\n",
    "Save your model as `model.save('model.h5')`.\n",
    "    \n",
    "</div>"
   ]
  },
  {
   "cell_type": "code",
   "execution_count": 124,
   "metadata": {},
   "outputs": [],
   "source": [
    "# set trainig=False when validating or submitting notebook\n",
    "# and set training=True, when training network\n",
    "training=False"
   ]
  },
  {
   "cell_type": "code",
   "execution_count": 120,
   "metadata": {
    "deletable": false,
    "editable": false,
    "nbgrader": {
     "cell_type": "code",
     "checksum": "08795b0eb096076e82da4aa3c56b58cd",
     "grade": true,
     "grade_id": "cell-0012c2cd9a0e71cf",
     "locked": true,
     "points": 0,
     "schema_version": 3,
     "solution": false,
     "task": false
    }
   },
   "outputs": [],
   "source": [
    "# this hidden cell is for setting flag training=False\n"
   ]
  },
  {
   "cell_type": "code",
   "execution_count": 121,
   "metadata": {
    "deletable": false,
    "nbgrader": {
     "cell_type": "code",
     "checksum": "9952c6c84c6ccf19689a5b236496531d",
     "grade": false,
     "grade_id": "cell-254e1ab987f9822a",
     "locked": false,
     "schema_version": 3,
     "solution": true,
     "task": false
    }
   },
   "outputs": [
    {
     "name": "stdout",
     "output_type": "stream",
     "text": [
      "79/79 [==============================] - 2s 29ms/step - loss: 1.0255 - sparse_categorical_accuracy: 0.8839\n",
      "Accuracy on test set: 0.883899986743927\n",
      "CPU times: user 9.27 s, sys: 393 ms, total: 9.66 s\n",
      "Wall time: 2.7 s\n"
     ]
    }
   ],
   "source": [
    "%%time \n",
    "if training:\n",
    "    # use .fit() method to train a model\n",
    "    # use X_train, y_train for training and\n",
    "    # X_valid, y_valid as validation set\n",
    "    history = model.fit(x=X_train, y=y_train, epochs=20, batch_size=32, validation_data=(X_val, y_val))\n",
    "    model.save(\"model.h5\")\n",
    "    \n",
    "    loss_, acc_ = model.evaluate(x=X_test, y=y_test, batch_size=128)\n",
    "    print(f\"Accuracy on test set: {acc_}\")  # should be over 85%\n",
    "    \n",
    "    \n",
    "# YOUR CODE HERE\n",
    "#raise NotImplementedError()\n",
    "else: \n",
    "    model = tf.keras.models.load_model(\"model.h5\")\n",
    "    loss_, acc_ = model.evaluate(x=X_test, y=y_test, batch_size=128)\n",
    "    print(f\"Accuracy on test set: {acc_}\")  # should be over 85%"
   ]
  },
  {
   "cell_type": "code",
   "execution_count": 123,
   "metadata": {
    "deletable": false,
    "editable": false,
    "nbgrader": {
     "cell_type": "code",
     "checksum": "f160a935bf3f4de89d32d33bc266ce7f",
     "grade": false,
     "grade_id": "cell-25762a199c7b50e0",
     "locked": true,
     "schema_version": 3,
     "solution": false,
     "task": false
    }
   },
   "outputs": [
    {
     "data": {
      "image/png": "[encoded data removed]",
      "text/plain": [
       "<Figure size 432x288 with 1 Axes>"
      ]
     },
     "metadata": {
      "needs_background": "light"
     },
     "output_type": "display_data"
    }
   ],
   "source": [
    "import pandas as pd\n",
    "\n",
    "if training:\n",
    "    # plot training log\n",
    "    pd.DataFrame(history.history).plot(figsize=(6,4))\n",
    "    plt.grid(True)\n",
    "    plt.show()"
   ]
  },
  {
   "cell_type": "code",
   "execution_count": 34,
   "metadata": {
    "deletable": false,
    "editable": false,
    "nbgrader": {
     "cell_type": "code",
     "checksum": "680311d8e516b29cdf15872799dd2ecc",
     "grade": true,
     "grade_id": "cell-4a72274f241df0a2",
     "locked": true,
     "points": 2,
     "schema_version": 3,
     "solution": false,
     "task": false
    }
   },
   "outputs": [],
   "source": [
    "# this cell is for tests\n"
   ]
  },
  {
   "cell_type": "markdown",
   "metadata": {
    "deletable": false,
    "editable": false,
    "nbgrader": {
     "cell_type": "markdown",
     "checksum": "09eb67dbfacda0ea823705ee50b9b61c",
     "grade": false,
     "grade_id": "cell-657c45ae014242e3",
     "locked": true,
     "schema_version": 3,
     "solution": false,
     "task": false
    }
   },
   "source": [
    "## Visualizing the activation maps of  convolutional layers"
   ]
  },
  {
   "cell_type": "markdown",
   "metadata": {
    "deletable": false,
    "editable": false,
    "nbgrader": {
     "cell_type": "markdown",
     "checksum": "09367e10c2158173da5f2140be1953d4",
     "grade": false,
     "grade_id": "cell-11297a5baffbfbe0",
     "locked": true,
     "schema_version": 3,
     "solution": false,
     "task": false
    }
   },
   "source": [
    "In this section we plot the activation maps of a particular CNN layer ([docs](https://keras.io/getting_started/faq/#how-can-i-obtain-the-output-of-an-intermediate-layer-feature-extraction)). Visualizing the activation of individual layer helps to understand how the input is decomposed into some relevant pixel patterns within an image or in other words, what local patterns the layer is learning. "
   ]
  },
  {
   "cell_type": "markdown",
   "metadata": {
    "deletable": false,
    "editable": false,
    "nbgrader": {
     "cell_type": "markdown",
     "checksum": "92ea74d87457a35522307e8a993808cc",
     "grade": false,
     "grade_id": "cell-bc4b28cabaa52405",
     "locked": true,
     "schema_version": 3,
     "solution": false,
     "task": false
    }
   },
   "source": [
    "The idea is to select the specific layer(s) of the trained model (with tuned weights), pass input, and get outputs of the selected layer(s). In order to manipulate specific layers of a model, we need to use a more flexible API. Functional API allows to build complex models and manipulate over selected layers.\n",
    "\n",
    "First, we need to instantiate the input and output layers of a model. Below is an example of a model created with Functional API:"
   ]
  },
  {
   "cell_type": "code",
   "execution_count": 125,
   "metadata": {
    "deletable": false,
    "editable": false,
    "nbgrader": {
     "cell_type": "code",
     "checksum": "ddddb3c3d8557728176559662d4151ae",
     "grade": false,
     "grade_id": "cell-2b472169910cf9de",
     "locked": true,
     "schema_version": 3,
     "solution": false,
     "task": false
    }
   },
   "outputs": [
    {
     "data": {
      "image/png": "[encoded data removed]",
      "text/plain": [
       "<IPython.core.display.Image object>"
      ]
     },
     "execution_count": 125,
     "metadata": {},
     "output_type": "execute_result"
    }
   ],
   "source": [
    "# define input layer\n",
    "in_layer = tf.keras.layers.Input(shape=X_train.shape[1:])\n",
    "# define hidden layers and its inputs\n",
    "hidden_1 = tf.keras.layers.Dense(32, activation='relu')(in_layer)\n",
    "hidden_2 = tf.keras.layers.Dense(32, activation='relu')(hidden_1) \n",
    "# combine two inputs\n",
    "concat   = tf.keras.layers.Concatenate()([in_layer, hidden_2]) \n",
    "# define output layer\n",
    "out      = tf.keras.layers.Dense(1, activation='relu')(concat) \n",
    "\n",
    "# define model with functional API\n",
    "model_Func_API = tf.keras.Model(inputs=[in_layer], outputs=[out])\n",
    "\n",
    "# plot graph\n",
    "tf.keras.utils.plot_model(\n",
    "    model_Func_API, \n",
    "    show_shapes=True, \n",
    "    show_layer_names=True\n",
    "    )"
   ]
  },
  {
   "cell_type": "markdown",
   "metadata": {
    "deletable": false,
    "editable": false,
    "nbgrader": {
     "cell_type": "markdown",
     "checksum": "5ab50064de0e5f912960849c35e95617",
     "grade": false,
     "grade_id": "cell-e1a95b74e5e5df51",
     "locked": true,
     "schema_version": 3,
     "solution": false,
     "task": false
    }
   },
   "source": [
    "In our case, we are analyzing an already existing trained model therefore we use input and output layers defined in that model:"
   ]
  },
  {
   "cell_type": "code",
   "execution_count": 126,
   "metadata": {
    "deletable": false,
    "editable": false,
    "nbgrader": {
     "cell_type": "code",
     "checksum": "7b403f6fc763e20d0c31260acd50ad03",
     "grade": false,
     "grade_id": "cell-fd5e021b201f3ede",
     "locked": true,
     "schema_version": 3,
     "solution": false,
     "task": false
    }
   },
   "outputs": [],
   "source": [
    "# input layer\n",
    "in_layer = model.input\n",
    "# all other layers\n",
    "layers = [layer.output for layer in model.layers]\n",
    "\n",
    "# create a model \n",
    "activation_model = tf.keras.models.Model(inputs = in_layer, outputs = layers)"
   ]
  },
  {
   "cell_type": "markdown",
   "metadata": {
    "deletable": false,
    "editable": false,
    "nbgrader": {
     "cell_type": "markdown",
     "checksum": "5bae0af3ebae3fe1b103cf7463a0a998",
     "grade": false,
     "grade_id": "cell-b9f1e34534167ca6",
     "locked": true,
     "schema_version": 3,
     "solution": false,
     "task": false
    }
   },
   "source": [
    "We have the same model as before, but now we can pass the input and access output of each layer separately. With Sequential API we were only able to see the output of the last layer. Let's pass some input to the model:"
   ]
  },
  {
   "cell_type": "code",
   "execution_count": 127,
   "metadata": {
    "deletable": false,
    "editable": false,
    "nbgrader": {
     "cell_type": "code",
     "checksum": "5fcd17316bd13df0cdd40aaedc9ca447",
     "grade": false,
     "grade_id": "cell-a2d24ef8043d32f1",
     "locked": true,
     "schema_version": 3,
     "solution": false,
     "task": false
    }
   },
   "outputs": [
    {
     "data": {
      "image/png": "[encoded data removed]",
      "text/plain": [
       "<Figure size 432x288 with 1 Axes>"
      ]
     },
     "metadata": {
      "needs_background": "light"
     },
     "output_type": "display_data"
    }
   ],
   "source": [
    "# this is the image whose feature map we will visualize\n",
    "plt.imshow(X_test[0], cmap='gray')\n",
    "plt.show()\n",
    "\n",
    "# pass input and get feature maps of the image\n",
    "activation = activation_model(X_test[0].reshape(1, 28, 28, 1))"
   ]
  },
  {
   "cell_type": "markdown",
   "metadata": {
    "deletable": false,
    "editable": false,
    "nbgrader": {
     "cell_type": "markdown",
     "checksum": "a57f132eb71adb4c854027ef92111418",
     "grade": false,
     "grade_id": "cell-3f1c2bf305ddb944",
     "locked": true,
     "schema_version": 3,
     "solution": false,
     "task": false
    }
   },
   "source": [
    "This is how we can retrieve feature maps of first convolution layer:"
   ]
  },
  {
   "cell_type": "code",
   "execution_count": 128,
   "metadata": {
    "deletable": false,
    "editable": false,
    "nbgrader": {
     "cell_type": "code",
     "checksum": "2767bb37b86fa0b4ff627d1e6afb065f",
     "grade": false,
     "grade_id": "cell-17d487726137235f",
     "locked": true,
     "schema_version": 3,
     "solution": false,
     "task": false
    }
   },
   "outputs": [
    {
     "name": "stdout",
     "output_type": "stream",
     "text": [
      "(1, 28, 28, 16)\n"
     ]
    }
   ],
   "source": [
    "first_layer_activation = activation[0] \n",
    "print(first_layer_activation.shape)"
   ]
  },
  {
   "cell_type": "markdown",
   "metadata": {
    "deletable": false,
    "editable": false,
    "nbgrader": {
     "cell_type": "markdown",
     "checksum": "2a0642417d921095d9b0bcc66db9dbad",
     "grade": false,
     "grade_id": "cell-98fecb6969754f79",
     "locked": true,
     "schema_version": 3,
     "solution": false,
     "task": false
    }
   },
   "source": [
    "The outputs of the first convolution layer are activation maps of size $28 \\times 28 \\times 16$. There are $16$ activation maps that correspond to the different kernels we apply to the input image. The code snippet below displays activation maps of the first convolutional layer. "
   ]
  },
  {
   "cell_type": "code",
   "execution_count": 129,
   "metadata": {
    "deletable": false,
    "editable": false,
    "nbgrader": {
     "cell_type": "code",
     "checksum": "6c73f9e993bd21a0203062adfb2855de",
     "grade": false,
     "grade_id": "cell-b232f4aae9d7b530",
     "locked": true,
     "schema_version": 3,
     "solution": false,
     "task": false
    }
   },
   "outputs": [
    {
     "data": {
      "image/png": "[encoded data removed]",
      "text/plain": [
       "<Figure size 1152x1152 with 16 Axes>"
      ]
     },
     "metadata": {
      "needs_background": "light"
     },
     "output_type": "display_data"
    }
   ],
   "source": [
    "# visuale activation maps of the first convolutional layer\n",
    "plt.figure(figsize=(16,16))\n",
    "\n",
    "for i in range(first_layer_activation.shape[-1]):\n",
    "    plt.subplot(8,8,i+1)\n",
    "    plt.axis('off') # remove ticks\n",
    "    plt.imshow(first_layer_activation[0, :, :, i], cmap='gray')\n",
    "    plt.title('act. map '+ str(i+1))\n",
    "\n",
    "plt.show()"
   ]
  },
  {
   "cell_type": "markdown",
   "metadata": {
    "deletable": false,
    "editable": false,
    "nbgrader": {
     "cell_type": "markdown",
     "checksum": "4dee087439fb15e63efe46be26f90b96",
     "grade": false,
     "grade_id": "cell-cc7312dc44a84dad",
     "locked": true,
     "schema_version": 3,
     "solution": false,
     "task": false
    }
   },
   "source": [
    "Each kernel encodes relatively independent features of the input image. We can see that the first convolutional layer has learned lower-level features/patterns from the image, such as various edges. \n",
    "\n",
    "Now, let's go deeper into the network and select activation maps after max pooling."
   ]
  },
  {
   "cell_type": "code",
   "execution_count": 130,
   "metadata": {
    "deletable": false,
    "editable": false,
    "nbgrader": {
     "cell_type": "code",
     "checksum": "de33008f03fb8e0d93727819ef539316",
     "grade": false,
     "grade_id": "cell-5ae4dc1b157c6209",
     "locked": true,
     "schema_version": 3,
     "solution": false,
     "task": false
    }
   },
   "outputs": [
    {
     "name": "stdout",
     "output_type": "stream",
     "text": [
      "(1, 14, 14, 16)\n"
     ]
    }
   ],
   "source": [
    "third_layer_activation = activation[2] \n",
    "print(third_layer_activation.shape)"
   ]
  },
  {
   "cell_type": "code",
   "execution_count": 131,
   "metadata": {
    "deletable": false,
    "editable": false,
    "nbgrader": {
     "cell_type": "code",
     "checksum": "a0a3b14a85090ecdb330bec0ea2484ee",
     "grade": false,
     "grade_id": "cell-da67b69a88cf8313",
     "locked": true,
     "schema_version": 3,
     "solution": false,
     "task": false
    }
   },
   "outputs": [
    {
     "data": {
      "image/png": "[encoded data removed]",
      "text/plain": [
       "<Figure size 1152x1152 with 16 Axes>"
      ]
     },
     "metadata": {
      "needs_background": "light"
     },
     "output_type": "display_data"
    }
   ],
   "source": [
    "# visuale activation maps of after max pooling layer\n",
    "plt.figure(figsize=(16,16))\n",
    "\n",
    "for i in range(third_layer_activation.shape[-1]):\n",
    "    plt.subplot(8,8,i+1)\n",
    "    plt.axis('off') # remove ticks\n",
    "    plt.imshow(third_layer_activation[0, :, :, i], cmap='gray')\n",
    "    plt.title('act. map '+ str(i+1))\n",
    "\n",
    "plt.show()"
   ]
  },
  {
   "cell_type": "markdown",
   "metadata": {
    "deletable": false,
    "editable": false,
    "nbgrader": {
     "cell_type": "markdown",
     "checksum": "e1e87a006a600813e2521847feb30845",
     "grade": false,
     "grade_id": "cell-015e052f34097a7d",
     "locked": true,
     "schema_version": 3,
     "solution": false,
     "task": false
    }
   },
   "source": [
    "Activations from deeper layers reveal that as we go deeper into the network, the features learned becomes less visually interpretable, meaning encoding the higher-level feature/pattern of an object.\n",
    "\n",
    "You can plot activation maps for different clothing categories and check if those will be different from what we observe here."
   ]
  },
  {
   "cell_type": "markdown",
   "metadata": {
    "deletable": false,
    "editable": false,
    "nbgrader": {
     "cell_type": "markdown",
     "checksum": "db42bb8cc5b2f702d1b395d7817d7cce",
     "grade": false,
     "grade_id": "cell-0408008465b19fca",
     "locked": true,
     "schema_version": 3,
     "solution": false,
     "task": false
    }
   },
   "source": [
    "##  Accuracy Prediction on Test Set "
   ]
  },
  {
   "cell_type": "markdown",
   "metadata": {
    "deletable": false,
    "editable": false,
    "nbgrader": {
     "cell_type": "markdown",
     "checksum": "72c07e1afc2e0ccd4070356012cae98a",
     "grade": false,
     "grade_id": "cell-4bfdd42cc21810f4",
     "locked": true,
     "schema_version": 3,
     "solution": false,
     "task": false
    }
   },
   "source": [
    "We can also inspect which items the CNN predicted incorrectly. Sometimes it is useful to manually check which type of images are misclassified as this might give a hint on how to improve the model."
   ]
  },
  {
   "cell_type": "code",
   "execution_count": 132,
   "metadata": {
    "deletable": false,
    "editable": false,
    "nbgrader": {
     "cell_type": "code",
     "checksum": "7f63a519716438ad194d1590737c0c82",
     "grade": false,
     "grade_id": "cell-cea8a7e02cb0a70d",
     "locked": true,
     "schema_version": 3,
     "solution": false,
     "task": false
    }
   },
   "outputs": [],
   "source": [
    "#get the predictions for the test data\n",
    "predicted_classes  = np.argmax(model(X_test.reshape(-1,28,28,1)), axis=-1)\n",
    "#get true test_label\n",
    "y_true=y_test"
   ]
  },
  {
   "cell_type": "code",
   "execution_count": 133,
   "metadata": {},
   "outputs": [
    {
     "data": {
      "text/plain": [
       "array([9, 2, 1, ..., 8, 1, 5])"
      ]
     },
     "execution_count": 133,
     "metadata": {},
     "output_type": "execute_result"
    }
   ],
   "source": [
    "predicted_classes"
   ]
  },
  {
   "cell_type": "code",
   "execution_count": 134,
   "metadata": {},
   "outputs": [
    {
     "data": {
      "text/plain": [
       "array([   0,    1,    2, ..., 9997, 9998, 9999])"
      ]
     },
     "execution_count": 134,
     "metadata": {},
     "output_type": "execute_result"
    }
   ],
   "source": [
    "np.nonzero(predicted_classes==y_true)[0]  # Return the indices of the elements that are non-zero."
   ]
  },
  {
   "cell_type": "code",
   "execution_count": 135,
   "metadata": {
    "deletable": false,
    "editable": false,
    "nbgrader": {
     "cell_type": "code",
     "checksum": "e9190afa333a965a75a7ea9c22bd0bbf",
     "grade": false,
     "grade_id": "cell-41686541dd836a12",
     "locked": true,
     "schema_version": 3,
     "solution": false,
     "task": false
    }
   },
   "outputs": [
    {
     "name": "stdout",
     "output_type": "stream",
     "text": [
      "Correct predicted classes: 8839\n",
      "Incorrect predicted classes: 1161\n"
     ]
    }
   ],
   "source": [
    "#to get the total correct and incorrect prediction from the predict class\n",
    "correct=np.nonzero(predicted_classes==y_true)[0]\n",
    "correct.shape[0]\n",
    "incorrect=np.nonzero(predicted_classes!=y_true)[0]\n",
    "\n",
    "print(\"Correct predicted classes:\",correct.shape[0])\n",
    "print(\"Incorrect predicted classes:\",incorrect.shape[0])"
   ]
  },
  {
   "cell_type": "code",
   "execution_count": 136,
   "metadata": {
    "deletable": false,
    "editable": false,
    "nbgrader": {
     "cell_type": "code",
     "checksum": "63476404629ca4281dd7c515b977a184",
     "grade": false,
     "grade_id": "cell-22d78deef06d574e",
     "locked": true,
     "schema_version": 3,
     "solution": false,
     "task": false
    }
   },
   "outputs": [],
   "source": [
    "# let's map each images labels to item name\n",
    "\n",
    "class_names = ['T-shirt/top', 'Trouser', 'Pullover', 'Dress', 'Coat',\n",
    "               'Sandal',      'Shirt',   'Sneaker',  'Bag',   'Ankle boot']"
   ]
  },
  {
   "cell_type": "markdown",
   "metadata": {
    "deletable": false,
    "editable": false,
    "nbgrader": {
     "cell_type": "markdown",
     "checksum": "c9559a6fa2cf3b27ecdad2de363bbef2",
     "grade": false,
     "grade_id": "cell-c5801fde9d36cd00",
     "locked": true,
     "schema_version": 3,
     "solution": false,
     "task": false
    }
   },
   "source": [
    "Below we use `classification_report` function from sklearn to make a text report showing the main classification metrics:"
   ]
  },
  {
   "cell_type": "code",
   "execution_count": 137,
   "metadata": {
    "deletable": false,
    "editable": false,
    "nbgrader": {
     "cell_type": "code",
     "checksum": "e02c05b3ef604dadebd72b79286a2424",
     "grade": false,
     "grade_id": "cell-457dab1dcd32ad18",
     "locked": true,
     "schema_version": 3,
     "solution": false,
     "task": false
    }
   },
   "outputs": [
    {
     "name": "stdout",
     "output_type": "stream",
     "text": [
      "                         precision    recall  f1-score   support\n",
      "\n",
      "Class 0 (T-shirt/top) :       0.80      0.87      0.84      1000\n",
      "    Class 1 (Trouser) :       0.99      0.97      0.98      1000\n",
      "   Class 2 (Pullover) :       0.84      0.80      0.82      1000\n",
      "      Class 3 (Dress) :       0.88      0.88      0.88      1000\n",
      "       Class 4 (Coat) :       0.78      0.86      0.82      1000\n",
      "     Class 5 (Sandal) :       0.96      0.96      0.96      1000\n",
      "      Class 6 (Shirt) :       0.74      0.64      0.69      1000\n",
      "    Class 7 (Sneaker) :       0.95      0.93      0.94      1000\n",
      "        Class 8 (Bag) :       0.95      0.96      0.96      1000\n",
      " Class 9 (Ankle boot) :       0.94      0.97      0.95      1000\n",
      "\n",
      "               accuracy                           0.88     10000\n",
      "              macro avg       0.88      0.88      0.88     10000\n",
      "           weighted avg       0.88      0.88      0.88     10000\n",
      "\n"
     ]
    }
   ],
   "source": [
    "target_names = [f\"Class {i} ({class_names[i]}) :\" for i in range(10)]\n",
    "print(classification_report(y_true, predicted_classes, target_names=target_names))"
   ]
  },
  {
   "cell_type": "code",
   "execution_count": 138,
   "metadata": {
    "deletable": false,
    "editable": false,
    "nbgrader": {
     "cell_type": "code",
     "checksum": "7c11818ad052204e3aefd102b1c6986d",
     "grade": false,
     "grade_id": "cell-750b75113aac1335",
     "locked": true,
     "schema_version": 3,
     "solution": false,
     "task": false
    }
   },
   "outputs": [
    {
     "data": {
      "image/png": "[encoded data removed]",
      "text/plain": [
       "<Figure size 504x504 with 9 Axes>"
      ]
     },
     "metadata": {
      "needs_background": "light"
     },
     "output_type": "display_data"
    }
   ],
   "source": [
    "def plot_images(data_index):\n",
    "    '''\n",
    "        This is a function to plot first 9 images.    \n",
    "        data_index: indices of images.\n",
    "    \n",
    "    '''\n",
    "    # plot the sample images \n",
    "    f, ax = plt.subplots(3,3, figsize=(7,7))\n",
    "\n",
    "    for i, indx in enumerate(data_index[:9]):\n",
    "        ax[i//3, i%3].imshow(X_test[indx].reshape(28,28), cmap='gray')\n",
    "        ax[i//3, i%3].axis('off')\n",
    "        ax[i//3, i%3].set_title(\"True:{}  Pred:{}\".format(class_names[y_test[indx]],class_names[predicted_classes[indx]]), fontsize=8)\n",
    "    plt.show()    \n",
    "\n",
    "# display correctly classified images\n",
    "plot_images(correct)"
   ]
  },
  {
   "cell_type": "code",
   "execution_count": 139,
   "metadata": {
    "deletable": false,
    "editable": false,
    "nbgrader": {
     "cell_type": "code",
     "checksum": "4b19cd354a70dc9ad2601a4a99a1384f",
     "grade": false,
     "grade_id": "cell-7c03e3592b6fa0ee",
     "locked": true,
     "schema_version": 3,
     "solution": false,
     "task": false
    }
   },
   "outputs": [
    {
     "data": {
      "image/png": "[encoded data removed]",
      "text/plain": [
       "<Figure size 504x504 with 9 Axes>"
      ]
     },
     "metadata": {
      "needs_background": "light"
     },
     "output_type": "display_data"
    }
   ],
   "source": [
    "# display incorrectly classified images\n",
    "plot_images(incorrect)"
   ]
  },
  {
   "cell_type": "markdown",
   "metadata": {
    "deletable": false,
    "editable": false,
    "nbgrader": {
     "cell_type": "markdown",
     "checksum": "9394f5c883d525448e9b796cac0a50d5",
     "grade": false,
     "grade_id": "cell-6e72a3304cd80ecf",
     "locked": true,
     "schema_version": 3,
     "solution": false,
     "task": false
    }
   },
   "source": [
    "# CNN in the real life"
   ]
  },
  {
   "cell_type": "markdown",
   "metadata": {
    "deletable": false,
    "editable": false,
    "nbgrader": {
     "cell_type": "markdown",
     "checksum": "c7ca6f23b45a7c57082561b63182b7b2",
     "grade": false,
     "grade_id": "cell-a94c679cc6811f4d",
     "locked": true,
     "schema_version": 3,
     "solution": false,
     "task": false
    },
    "tags": []
   },
   "source": [
    "<h2>Tesla Autopilot</h2>\n",
    "<img src=\"https://media0.giphy.com/media/H7rpSYHRyYgamxQNqw/giphy.gif?cid=ecf05e47nlvqm3fsj7afzjxq2ajephtz1o0rwjts7l8lddpg&rid=giphy.gif&ct=g\" width=\"520\" height=\"300\" align=\"right\" style=\"margin-left:25px;\"/>\n",
    "<img src=\"https://upload.wikimedia.org/wikipedia/commons/b/bb/Tesla_T_symbol.svg\" width=\"64\" height=\"64\" align=\"left\" style=\"margin-right:15px;\"></img>\n",
    "\n",
    "[Tesla](https://www.tesla.com) is an American car manufacturer with the mission to accelerate the world's transition to sustainable energy. They produce electric cars that are efficient, beautiful and above all, powerful computing machines. You may have seen promotional videos of the Teslas driving by themselves (check this one [Full Self-Driving](https://www.youtube.com/watch?v=tlThdr3O5Qo)), a feature called [Autopilot](https://www.tesla.com/autopilot).\n",
    "\n",
    "To be able to have a reliable autopilot, they need to process a lot of information in real-time: speed, traffic signs, road conditions, presence of pedestrians, etc.  As you may have inferred, this requires a lot of image processing. At its core, they use the convolutional layers studied in this round but with modifications in the architecture of the network to solve a problem known as gradient vanishing. This phenomenon arises when you stack a large number of layers.\n",
    "\n",
    "The details of their neural network architecture is beyond the scope of this Introduction to Deep Learning, but if you are curious about the theory behind Tesla's success, you can read these papers, both of them available through Aalto's library:\n",
    "\n",
    "* He, K., Zhang, X., Ren, S. and Sun, J., 2016. **Deep residual learning for image recognition**. In Proceedings of the IEEE conference on computer vision and pattern recognition (pp. 770-778).\n",
    "\n",
    "* Radosavovic, I., Kosaraju, R.P., Girshick, R., He, K. and Dollár, P., 2020. **Designing network design spaces**. In Proceedings of the IEEE/CVF Conference on Computer Vision and Pattern Recognition (pp. 10428-10436).\n",
    "\n",
    "A more detailed explanation is given by [Andrej Karpathy](https://karpathy.ai/), lead of the computer vision team of the Autopilot in the conference [Tesla AI Day](https://www.youtube.com/watch?v=j0z4FweCy4M&t=2924s)."
   ]
  },
  {
   "cell_type": "markdown",
   "metadata": {
    "deletable": false,
    "editable": false,
    "nbgrader": {
     "cell_type": "markdown",
     "checksum": "8a7ae9cfc806ec69d58a8f547537a649",
     "grade": false,
     "grade_id": "cell-2a8813a503f61d23",
     "locked": true,
     "schema_version": 3,
     "solution": false,
     "task": false
    }
   },
   "source": [
    "<h2>Pinterest Shop The Look</h2>\n",
    "\n",
    "<img src=\"https://upload.wikimedia.org/wikipedia/commons/0/08/Pinterest-logo.png\" width=\"64\" height=\"64\" align=\"left\" style=\"margin-right:15px;\"/>\n",
    "\n",
    "<img src=\"https://media0.giphy.com/media/l4FGyfggJVpjOaTks/giphy.gif?cid=790b761114cc9a89d47285a139de860555649b72a9d02c69&rid=giphy.gif&ct=g\" align=\"right\" style=\"margin-left:15px;\" width=\"230\" />\n",
    "\n",
    "[Pinterest](https://www.pinterest.com/) is an American image sharing and social media service designed to enable saving and discovery of information on the internet by using images. It has a large user base, with over 478 million monthly active users globally as of March 2021 <sup>[[1](https://www.socialmediatoday.com/news/pinterest-rises-to-478-million-users-posts-strong-revenue-result-for-q1/599166/)]</sup>. Among its many features, there is one that allows you to search and buy items similar to the ones found in your pins (images) called [Shop The Look](https://newsroom.pinterest.com/en/post/introducing-the-next-wave-of-visual-search-and-shopping). In the blog post [Automating Shop the Look on Pinterest](https://medium.com/pinterest-engineering/automating-shop-the-look-on-pinterest-a17aeff0eae2), they explain how having a human doing the manual work of matching image and product links didn't scale given the large number of images in their platform.\n",
    "To overcome this situation, they trained a Feature Pyramid Network Faster R-CNN detection model that parses scenes into objects and annotates them with product categories. This process was divided into three stages:\n",
    "\n",
    "1. Data collection: pre-processing step needed to ensure high quality data\n",
    "2. Machine learning (ML) modeling: train the model to identify and localize home decor objects in a scene. Once trained, the model will classify the objects into categories and it will represent them as [embeddings](https://arxiv.org/pdf/1811.12649.pdf). This representation makes the search for similar images easier.\n",
    "3. Model serving: take the user image and make suggestions as shown in the animation on the right.\n",
    "\n",
    "You can find the theory behind the neural network used to implement this feature in the papers:\n",
    "* Shaoqing Ren et al. (2017) **Faster R-CNN: Towards Real-Time Object Detection with Region Proposal Networks**. IEEE transactions on pattern analysis and machine intelligence. [Online] 39 (6), 1137–1149.\n",
    "* Lin TY, Dollár P, Girshick R, He K, Hariharan B, Belongie S. **Feature pyramid networks for object detection**. InProceedings of the IEEE conference on computer vision and pattern recognition 2017 (pp. 2117-2125).\n",
    "* R. Girshick, J. Donahue, T. Darrell and J. Malik, **Rich Feature Hierarchies for Accurate Object Detection and Semantic Segmentation**, 2014 IEEE Conference on Computer Vision and Pattern Recognition, 2014, pp. 580-587, doi: 10.1109/CVPR.2014.81.\n"
   ]
  },
  {
   "cell_type": "markdown",
   "metadata": {
    "deletable": false,
    "editable": false,
    "nbgrader": {
     "cell_type": "markdown",
     "checksum": "d472bed4dd52f36cee917ccc765b1ae8",
     "grade": false,
     "grade_id": "cell-2cbc7544f4a6ddcf",
     "locked": true,
     "schema_version": 3,
     "solution": false,
     "task": false
    }
   },
   "source": [
    "<h2>Facebook</h2>\n",
    "\n",
    "<img src=\"https://upload.wikimedia.org/wikipedia/commons/f/fb/Facebook_icon_2013.svg\" width=\"100\" height=\"100\" align=\"left\" style=\"margin-right:15px;\"/>\n",
    "\n",
    "\n",
    "[Facebook](https://www.facebook.com/) is an American online social media and social networking service founded by Mark Zuckerberg in 2004. The [Facebook, Inc.](https://about.facebook.com/company-info/) company owns many products present in our daily life: [Instagram](https://www.instagram.com/), [Messenger](https://www.messenger.com/), [Whatsapp](https://www.whatsapp.com/?lang=en), [Oculus](https://www.oculus.com/), [Novi](https://www.novi.com/). Image processing is at the core of Facebook: image classification, image captioning, image-based search, etc. In the website [Facebook AI](https://ai.facebook.com/) you will find several papers, tools and articles explaining the company's usage of Machine Learning.\n",
    "\n",
    "The usage of CNN is everywhere, for example, Instagram uses it for their [Explore recommender system](https://ai.facebook.com/blog/powered-by-ai-instagrams-explore-recommender-system/). [Facebook Marketplace](https://www.facebook.com/marketplace) combines image processing and Natural Language Processing for the recommendation system. They use a video and image understanding platform called [Lumos](https://engineering.fb.com/2017/02/02/ml-applications/building-scalable-systems-to-understand-content/) which helps them answer questions like \"What is in the image?\" and \"Where are the objects?\".\n",
    "\n",
    "You can read a more detailed explanation in this article: [Under the hood: Facebook Marketplace powered by artificial intelligence](https://ai.facebook.com/blog/under-the-hood-facebook-marketplace-powered-by-artificial-intelligence/)"
   ]
  },
  {
   "cell_type": "markdown",
   "metadata": {
    "deletable": false,
    "editable": false,
    "nbgrader": {
     "cell_type": "markdown",
     "checksum": "a97c1991d08fb4181897c5d3a3dc230f",
     "grade": false,
     "grade_id": "cell-bdd2e3be27edd531",
     "locked": true,
     "schema_version": 3,
     "solution": false,
     "task": false
    }
   },
   "source": [
    "</br>\n",
    "<h2><strong>The sky's the limit</strong></h2>\n",
    "\n",
    "There are many other companies using the basic building blocks of CNN studied in this round. There are many libraries and frameworks available like the [NVIDIA DRIVE®](https://www.nvidia.com/en-us/self-driving-cars/drive-videos/) <sup>[[1](https://developer.nvidia.com/drive/downloads)]</sup> for autonomous driving or [Facebook's Detectron2](https://github.com/facebookresearch/detectron2) for object detection, segmentation and other visual recognition tasks. Now you have the foundations for understanding the basics of all those systems and for applying CNN to a new revolutionary product! "
   ]
  },
  {
   "cell_type": "markdown",
   "metadata": {
    "deletable": false,
    "editable": false,
    "nbgrader": {
     "cell_type": "markdown",
     "checksum": "378bc85aeafc26e693db27e646c703b2",
     "grade": false,
     "grade_id": "cell-95fb61b3948b897e",
     "locked": true,
     "schema_version": 3,
     "solution": false,
     "task": false
    }
   },
   "source": [
    "## Quiz"
   ]
  },
  {
   "cell_type": "markdown",
   "metadata": {
    "deletable": false,
    "editable": false,
    "nbgrader": {
     "cell_type": "markdown",
     "checksum": "9bbcb30a01c20cc687d5370c5c1b4bc6",
     "grade": false,
     "grade_id": "cell-e9ef4ba4cbb74ad9",
     "locked": true,
     "schema_version": 3,
     "solution": false,
     "task": false
    }
   },
   "source": [
    "<div class=\" alert alert-warning\">\n",
    "     <h3><b>Question 3.1.</h3>\n",
    "\n",
    "Each convolutional layer is characterized by the parameters \"padding\" P and \"stride\" S. Choose a correct statement:\n",
    "\n",
    "1. Increasing the value of padding P results in a smaller output. \n",
    "\n",
    "2. Increasing the stride S results in a smaller output. \n",
    "\n",
    "3. Increasing the stride S results in a larger output. \n",
    "         \n",
    "</div>"
   ]
  },
  {
   "cell_type": "code",
   "execution_count": 140,
   "metadata": {
    "deletable": false,
    "nbgrader": {
     "cell_type": "code",
     "checksum": "b3591e9217a3a7c2d22a5118f177cfee",
     "grade": false,
     "grade_id": "cell-45466e667a00eaba",
     "locked": false,
     "schema_version": 3,
     "solution": true,
     "task": false
    }
   },
   "outputs": [],
   "source": [
    "# remove the line raise NotImplementedError() before testing your solution and submitting code\n",
    "\n",
    "# YOUR CODE HERE\n",
    "#raise NotImplementedError()\n",
    "\n",
    "answer_31  = 2"
   ]
  },
  {
   "cell_type": "code",
   "execution_count": 141,
   "metadata": {
    "deletable": false,
    "editable": false,
    "nbgrader": {
     "cell_type": "code",
     "checksum": "edd87926f467259e26728d4471e30295",
     "grade": true,
     "grade_id": "cell-a3db1ef8b8151280",
     "locked": true,
     "points": 1,
     "schema_version": 3,
     "solution": false,
     "task": false
    }
   },
   "outputs": [
    {
     "name": "stdout",
     "output_type": "stream",
     "text": [
      "Sanity check tests passed!\n"
     ]
    }
   ],
   "source": [
    "# This cell is for tests\n",
    "assert answer_31 in [1,2,3], '\"answer\" Value should be an integer between 1 and 3.'\n",
    "print('Sanity check tests passed!')\n"
   ]
  },
  {
   "cell_type": "markdown",
   "metadata": {
    "deletable": false,
    "editable": false,
    "nbgrader": {
     "cell_type": "markdown",
     "checksum": "8453ce0626c3e4466ad14641d85a0bcf",
     "grade": false,
     "grade_id": "cell-cbd2b130707135e4",
     "locked": true,
     "schema_version": 3,
     "solution": false,
     "task": false
    }
   },
   "source": [
    "<div class=\" alert alert-warning\">\n",
    "     <h3><b>Question 3.2.</h3>\n",
    "\n",
    "Choose the correct statement:\n",
    "\n",
    "1. The first layers (closer to the input) of CNN tend to learn complex features (such as the presence of a particular dog species). \n",
    "\n",
    "2. The first layers (closer to the input layer) of CNN tend to learn low-level features (such as the presence of edges or corners in the image). \n",
    "\n",
    "3. The last layers (further to the input layer) of CNN tend to learn low-level features (such as the presence of edges or corners in the image). \n",
    "         \n",
    "</div>"
   ]
  },
  {
   "cell_type": "code",
   "execution_count": 142,
   "metadata": {
    "deletable": false,
    "nbgrader": {
     "cell_type": "code",
     "checksum": "1f2c68755ce074ef753a5303e2f8c2a4",
     "grade": false,
     "grade_id": "cell-cf924ad3867cc004",
     "locked": false,
     "schema_version": 3,
     "solution": true,
     "task": false
    }
   },
   "outputs": [],
   "source": [
    "# remove the line raise NotImplementedError() before testing your solution and submitting code\n",
    "\n",
    "# YOUR CODE HERE\n",
    "#raise NotImplementedError()\n",
    "\n",
    "answer_32  = 2"
   ]
  },
  {
   "cell_type": "code",
   "execution_count": 143,
   "metadata": {
    "deletable": false,
    "editable": false,
    "nbgrader": {
     "cell_type": "code",
     "checksum": "d49d8a741b0af41b59361fb01163ed15",
     "grade": true,
     "grade_id": "cell-4e7b8eb6cdd2efbc",
     "locked": true,
     "points": 1,
     "schema_version": 3,
     "solution": false,
     "task": false
    }
   },
   "outputs": [
    {
     "name": "stdout",
     "output_type": "stream",
     "text": [
      "Sanity check tests passed!\n"
     ]
    }
   ],
   "source": [
    "# This cell is for tests\n",
    "assert answer_32 in [1,2,3], '\"answer\" Value should be an integer between 1 and 3.'\n",
    "print('Sanity check tests passed!')\n"
   ]
  },
  {
   "cell_type": "markdown",
   "metadata": {
    "deletable": false,
    "editable": false,
    "nbgrader": {
     "cell_type": "markdown",
     "checksum": "089a69caf3386d528bc9ebaf87242c51",
     "grade": false,
     "grade_id": "cell-31d8ad3beca1ad59",
     "locked": true,
     "schema_version": 3,
     "solution": false,
     "task": false
    }
   },
   "source": [
    "<div class=\" alert alert-warning\">\n",
    "     <h3><b>Question 3.3.</h3>\n",
    "\n",
    "Assume we apply a single convolutional layer to a grayscale image of size 128 by 128 pixels. What is the padding size needed to preserve the input size if we use stride=1 and a kernel size=3?\n",
    "\n",
    "Select one:\n",
    "\n",
    "1. padding is not needed\n",
    "\n",
    "2. padding=1\n",
    "\n",
    "3. padding=2\n",
    "\n",
    "4. padding=3\n",
    "</div>"
   ]
  },
  {
   "cell_type": "code",
   "execution_count": 145,
   "metadata": {
    "deletable": false,
    "nbgrader": {
     "cell_type": "code",
     "checksum": "5a0d022c6437499e9e76778b326dacce",
     "grade": false,
     "grade_id": "cell-a212cc6d634a4e0d",
     "locked": false,
     "schema_version": 3,
     "solution": true,
     "task": false
    }
   },
   "outputs": [],
   "source": [
    "# remove the line raise NotImplementedError() before testing your solution and submitting code\n",
    "\n",
    "# YOUR CODE HERE\n",
    "#raise NotImplementedError()\n",
    "\n",
    "answer_33  = 2  # padding 1"
   ]
  },
  {
   "cell_type": "code",
   "execution_count": 146,
   "metadata": {
    "deletable": false,
    "editable": false,
    "nbgrader": {
     "cell_type": "code",
     "checksum": "d77c7fad10af8357b906c79b2a40e935",
     "grade": true,
     "grade_id": "cell-7270980b3f5119c7",
     "locked": true,
     "points": 1,
     "schema_version": 3,
     "solution": false,
     "task": false
    }
   },
   "outputs": [
    {
     "name": "stdout",
     "output_type": "stream",
     "text": [
      "Sanity check tests passed!\n"
     ]
    }
   ],
   "source": [
    "# This cell is for tests\n",
    "assert answer_33 in [1,2,3,4], '\"answer\" Value should be an integer between 1 and 4.'\n",
    "print('Sanity check tests passed!')\n"
   ]
  },
  {
   "cell_type": "markdown",
   "metadata": {
    "deletable": false,
    "editable": false,
    "nbgrader": {
     "cell_type": "markdown",
     "checksum": "5d7558844d7bab5cbd7038d06154d5f6",
     "grade": false,
     "grade_id": "cell-9e67797b693a86db",
     "locked": true,
     "schema_version": 3,
     "solution": false,
     "task": false
    }
   },
   "source": [
    "<div class=\" alert alert-warning\">\n",
    "     <h3><b>Question 3.4.</h3>\n",
    "\n",
    "Consider a convolutional layer with input shape (32,32,3), i.e., the input is images of 32 by 32 pixels and each pixel is characterized by 3 channels. The convolutional layer is configured with stride=1, padding=1, kernel size=5 and number of kernels=12. What is the shape of the output computed by the convolutional layer?\n",
    "Select one:\n",
    "\n",
    "1. (29,29,3)\n",
    "\n",
    "2. (29,29,12)\n",
    "\n",
    "3. (30,30,12)\n",
    "\n",
    "4. (28,28,3)\n",
    "         \n",
    "</div>"
   ]
  },
  {
   "cell_type": "markdown",
   "metadata": {},
   "source": [
    "$W_{out}$x$H_{out}$x$D_{out}$ = $[\\lfloor \\frac{W_{in}+2P-F}{S} +1 \\rfloor , \\lfloor \\frac{H_{in}+2P-F}{S} + 1 \\rfloor, K]$\n"
   ]
  },
  {
   "cell_type": "code",
   "execution_count": 147,
   "metadata": {
    "deletable": false,
    "nbgrader": {
     "cell_type": "code",
     "checksum": "07f30b489327c21c322d05ca9cb5d36a",
     "grade": false,
     "grade_id": "cell-e7b394e0a9c0e3d1",
     "locked": false,
     "schema_version": 3,
     "solution": true,
     "task": false
    }
   },
   "outputs": [],
   "source": [
    "# remove the line raise NotImplementedError() before testing your solution and submitting code\n",
    "\n",
    "# YOUR CODE HERE\n",
    "#raise NotImplementedError()\n",
    "\n",
    "# ch_out = 12\n",
    "# P=1, F=5, S =1\n",
    "# (32 + 2 - 5) / 1    +   1   = 30\n",
    "\n",
    "answer_34  = 3  # 30x30x12"
   ]
  },
  {
   "cell_type": "code",
   "execution_count": 148,
   "metadata": {
    "deletable": false,
    "editable": false,
    "nbgrader": {
     "cell_type": "code",
     "checksum": "66e1f5f47b5021c33152c0d45d6d2441",
     "grade": true,
     "grade_id": "cell-0a4ce8b2ea932637",
     "locked": true,
     "points": 1,
     "schema_version": 3,
     "solution": false,
     "task": false
    }
   },
   "outputs": [
    {
     "name": "stdout",
     "output_type": "stream",
     "text": [
      "Sanity check tests passed!\n"
     ]
    }
   ],
   "source": [
    "# This cell is for tests\n",
    "assert answer_34 in [1,2,3,4], '\"answer\" Value should be an integer between 1 and 4.'\n",
    "print('Sanity check tests passed!')\n"
   ]
  },
  {
   "cell_type": "markdown",
   "metadata": {
    "deletable": false,
    "editable": false,
    "nbgrader": {
     "cell_type": "markdown",
     "checksum": "651bf31aa410993d6be38bd5cbd69a95",
     "grade": false,
     "grade_id": "cell-583732d90eeb6e79",
     "locked": true,
     "schema_version": 3,
     "solution": false,
     "task": false
    }
   },
   "source": [
    "<div class=\" alert alert-warning\">\n",
    "     <h3><b>Question 3.5.</h3>\n",
    "\n",
    "\n",
    "What is the number of tunable parameters in a convolutional layer whose input shape is (32,32,3), kernel size is 3×3 and the number of kernels is 12?\n",
    "\n",
    "Select one:\n",
    "\n",
    "1. 336\n",
    "\n",
    "2. 42\n",
    "\n",
    "3. 3072\n",
    "\n",
    "4. 324\n",
    "         \n",
    "</div>"
   ]
  },
  {
   "cell_type": "markdown",
   "metadata": {},
   "source": [
    "\n",
    "$\\text{Number of params}  = (kernel\\_ width * kernel\\_height * channels\\_in + 1 \\text{ (for bias))} * channels\\_out$\n"
   ]
  },
  {
   "cell_type": "code",
   "execution_count": 149,
   "metadata": {},
   "outputs": [
    {
     "data": {
      "text/plain": [
       "336"
      ]
     },
     "execution_count": 149,
     "metadata": {},
     "output_type": "execute_result"
    }
   ],
   "source": [
    "(3*3*3 + 1) * 12"
   ]
  },
  {
   "cell_type": "code",
   "execution_count": 150,
   "metadata": {
    "deletable": false,
    "nbgrader": {
     "cell_type": "code",
     "checksum": "98aecb17d19b1eed5afb95a1acf5a2f5",
     "grade": false,
     "grade_id": "cell-c2b146e9cbccaf7f",
     "locked": false,
     "schema_version": 3,
     "solution": true,
     "task": false
    }
   },
   "outputs": [],
   "source": [
    "# remove the line raise NotImplementedError() before testing your solution and submitting code\n",
    "\n",
    "# YOUR CODE HERE\n",
    "#raise NotImplementedError()\n",
    "\n",
    "answer_35  = 1"
   ]
  },
  {
   "cell_type": "code",
   "execution_count": 151,
   "metadata": {
    "deletable": false,
    "editable": false,
    "nbgrader": {
     "cell_type": "code",
     "checksum": "7d19bd7388ca56a54776b16a66119fe5",
     "grade": true,
     "grade_id": "cell-c8be5de4af8f5e3d",
     "locked": true,
     "points": 1,
     "schema_version": 3,
     "solution": false,
     "task": false
    }
   },
   "outputs": [
    {
     "name": "stdout",
     "output_type": "stream",
     "text": [
      "Sanity check tests passed!\n"
     ]
    }
   ],
   "source": [
    "# This cell is for tests\n",
    "assert answer_35 in [1,2,3,4], '\"answer\" Value should be an integer between 1 and 4.'\n",
    "print('Sanity check tests passed!')\n"
   ]
  },
  {
   "cell_type": "code",
   "execution_count": null,
   "metadata": {},
   "outputs": [],
   "source": []
  }
 ],
 "metadata": {
  "kernelspec": {
   "display_name": "Python 3",
   "language": "python",
   "name": "python3"
  },
  "language_info": {
   "codemirror_mode": {
    "name": "ipython",
    "version": 3
   },
   "file_extension": ".py",
   "mimetype": "text/x-python",
   "name": "python",
   "nbconvert_exporter": "python",
   "pygments_lexer": "ipython3",
   "version": "3.8.6"
  },
  "toc": {
   "base_numbering": 1,
   "nav_menu": {},
   "number_sections": false,
   "sideBar": true,
   "skip_h1_title": false,
   "title_cell": "Table of Contents",
   "title_sidebar": "Contents",
   "toc_cell": false,
   "toc_position": {
    "height": "calc(100% - 180px)",
    "left": "10px",
    "top": "150px",
    "width": "358.125px"
   },
   "toc_section_display": true,
   "toc_window_display": false
  },
  "varInspector": {
   "cols": {
    "lenName": 16,
    "lenType": 16,
    "lenVar": 40
   },
   "kernels_config": {
    "python": {
     "delete_cmd_postfix": "",
     "delete_cmd_prefix": "del ",
     "library": "var_list.py",
     "varRefreshCmd": "print(var_dic_list())"
    },
    "r": {
     "delete_cmd_postfix": ") ",
     "delete_cmd_prefix": "rm(",
     "library": "var_list.r",
     "varRefreshCmd": "cat(var_dic_list()) "
    }
   },
   "types_to_exclude": [
    "module",
    "function",
    "builtin_function_or_method",
    "instance",
    "_Feature"
   ],
   "window_display": false
  }
 },
 "nbformat": 4,
 "nbformat_minor": 4
}
